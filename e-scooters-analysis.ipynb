{
 "cells": [
  {
   "cell_type": "markdown",
   "id": "37865e52009a60d1",
   "metadata": {},
   "source": [
    "<div>\n",
    "        <h1>Проект: Статистический анализ данных</h1>\n",
    "        <p>Вы аналитик популярного сервиса аренды самокатов GoFast. Вам передали данные о некоторых пользователях из нескольких городов, а также об их поездках. Проанализируйте данные и проверьте некоторые гипотезы, которые могут помочь бизнесу вырасти.</p>\n",
    "        <p>Чтобы совершать поездки по городу, пользователи сервиса GoFast пользуются мобильным приложением. Сервисом можно пользоваться:</p>\n",
    "        <ul>\n",
    "            <li>без подписки\n",
    "                <ul>\n",
    "                    <li>абонентская плата отсутствует;</li>\n",
    "                    <li>стоимость одной минуты поездки — 8 рублей;</li>\n",
    "                    <li>стоимость старта (начала поездки) — 50 рублей;</li>\n",
    "                </ul>\n",
    "            </li>\n",
    "            <li>с подпиской Ultra\n",
    "                <ul>\n",
    "                    <li>абонентская плата — 199 рублей в месяц;</li>\n",
    "                    <li>стоимость одной минуты поездки — 6 рублей;</li>\n",
    "                    <li>стоимость старта — бесплатно.</li>\n",
    "                </ul>\n",
    "            </li>\n",
    "        </ul>\n",
    "        <h2>Описание данных</h2>\n",
    "        <p>В основных данных есть информация о пользователях, их поездках и подписках.</p>\n",
    "        <h3>Пользователи — <code>users_go.csv</code></h3>\n",
    "        <table>\n",
    "            <tr>\n",
    "                <th>Поле</th>\n",
    "                <th>Описание</th>\n",
    "            </tr>\n",
    "            <tr>\n",
    "                <td>user_id</td>\n",
    "                <td>уникальный идентификатор пользователя</td>\n",
    "            </tr>\n",
    "            <tr>\n",
    "                <td>name</td>\n",
    "                <td>имя пользователя</td>\n",
    "            </tr>\n",
    "            <tr>\n",
    "                <td>age</td>\n",
    "                <td>возраст</td>\n",
    "            </tr>\n",
    "            <tr>\n",
    "                <td>city</td>\n",
    "                <td>город</td>\n",
    "            </tr>\n",
    "            <tr>\n",
    "                <td>subscription_type</td>\n",
    "                <td>тип подписки (free, ultra)</td>\n",
    "            </tr>\n",
    "        </table>\n",
    "        <h3>Поездки — <code>rides_go.csv</code></h3>\n",
    "        <table>\n",
    "            <tr>\n",
    "                <th>Поле</th>\n",
    "                <th>Описание</th>\n",
    "            </tr>\n",
    "            <tr>\n",
    "                <td>user_id</td>\n",
    "                <td>уникальный идентификатор пользователя</td>\n",
    "            </tr>\n",
    "            <tr>\n",
    "                <td>distance</td>\n",
    "                <td>расстояние, которое пользователь проехал в текущей сессии (в метрах)</td>\n",
    "            </tr>\n",
    "            <tr>\n",
    "                <td>duration</td>\n",
    "                <td>продолжительность сессии (в минутах) — время с того момента, как пользователь нажал кнопку «Начать поездку» до момента, как он нажал кнопку «Завершить поездку»</td>\n",
    "            </tr>\n",
    "            <tr>\n",
    "                <td>date</td>\n",
    "                <td>дата совершения поездки</td>\n",
    "            </tr>\n",
    "        </table>\n",
    "        <h3>Подписки — <code>subscriptions_go.csv</code></h3>\n",
    "        <table>\n",
    "            <tr>\n",
    "                <th>Поле</th>\n",
    "                <th>Описание</th>\n",
    "            </tr>\n",
    "            <tr>\n",
    "                <td>subscription_type</td>\n",
    "                <td>тип подписки</td>\n",
    "            </tr>\n",
    "            <tr>\n",
    "                <td>minute_price</td>\n",
    "                <td>стоимость одной минуты поездки по данной подписке</td>\n",
    "            </tr>\n",
    "            <tr>\n",
    "                <td>start_ride_price</td>\n",
    "                <td>стоимость начала поездки</td>\n",
    "            </tr>\n",
    "            <tr>\n",
    "                <td>subscription_fee</td>\n",
    "                <td>стоимость ежемесячного платежа</td>\n",
    "            </tr>\n",
    "        </table>\n",
    "        <h2>Этапы исследования</h1>\n",
    "        <ol>\n",
    "            <li>Загрузка данных</li>\n",
    "            <li>Предобработка данных</li>\n",
    "            <li>Исследовательский анализ данных</li>\n",
    "            <li>Объединение данных</li>\n",
    "            <li>Подсчёт выручки</li>\n",
    "            <li>Проверка гипотез</li>\n",
    "            <li>Распределения</li>\n",
    "        </ol>\n",
    "    </div>"
   ]
  },
  {
   "cell_type": "code",
   "id": "72576667",
   "metadata": {
    "ExecuteTime": {
     "end_time": "2024-07-23T09:52:58.569986Z",
     "start_time": "2024-07-23T09:52:56.692728Z"
    }
   },
   "source": [
    "import numpy as np\n",
    "import pandas as pd\n",
    "from matplotlib import pyplot as plt\n",
    "from scipy import stats as st"
   ],
   "outputs": [],
   "execution_count": 1
  },
  {
   "cell_type": "markdown",
   "id": "c42cbe00",
   "metadata": {},
   "source": [
    "#### Шаг 1. Загрузка данных"
   ]
  },
  {
   "cell_type": "code",
   "id": "d9d5c961aff7d13b",
   "metadata": {
    "ExecuteTime": {
     "end_time": "2024-07-23T09:52:58.583220Z",
     "start_time": "2024-07-23T09:52:58.570779Z"
    }
   },
   "source": [
    "try:\n",
    "    users = pd.read_csv('datasets/users_go.csv')\n",
    "    rides = pd.read_csv('datasets/rides_go.csv')\n",
    "    subscriptions = pd.read_csv('datasets/subscriptions_go.csv')\n",
    "except FileNotFoundError:\n",
    "    users = pd.read_csv('/datasets/users_go.csv')\n",
    "    rides = pd.read_csv('/datasets/rides_go.csv')\n",
    "    subscriptions = pd.read_csv('/datasets/subscriptions_go.csv')"
   ],
   "outputs": [],
   "execution_count": 2
  },
  {
   "cell_type": "code",
   "id": "eff9f206",
   "metadata": {
    "ExecuteTime": {
     "end_time": "2024-07-23T09:52:58.598757Z",
     "start_time": "2024-07-23T09:52:58.583849Z"
    }
   },
   "source": [
    "display(users.head())\n",
    "display(rides.head())\n",
    "display(subscriptions.head())\n",
    "\n",
    "display(users.info())\n",
    "display(rides.info())\n",
    "display(subscriptions.info())"
   ],
   "outputs": [
    {
     "data": {
      "text/plain": [
       "   user_id        name  age            city subscription_type\n",
       "0        1        Кира   22          Тюмень             ultra\n",
       "1        2   Станислав   31            Омск             ultra\n",
       "2        3     Алексей   20          Москва             ultra\n",
       "3        4  Константин   26  Ростов-на-Дону             ultra\n",
       "4        5       Адель   28            Омск             ultra"
      ],
      "text/html": [
       "<div>\n",
       "<style scoped>\n",
       "    .dataframe tbody tr th:only-of-type {\n",
       "        vertical-align: middle;\n",
       "    }\n",
       "\n",
       "    .dataframe tbody tr th {\n",
       "        vertical-align: top;\n",
       "    }\n",
       "\n",
       "    .dataframe thead th {\n",
       "        text-align: right;\n",
       "    }\n",
       "</style>\n",
       "<table border=\"1\" class=\"dataframe\">\n",
       "  <thead>\n",
       "    <tr style=\"text-align: right;\">\n",
       "      <th></th>\n",
       "      <th>user_id</th>\n",
       "      <th>name</th>\n",
       "      <th>age</th>\n",
       "      <th>city</th>\n",
       "      <th>subscription_type</th>\n",
       "    </tr>\n",
       "  </thead>\n",
       "  <tbody>\n",
       "    <tr>\n",
       "      <th>0</th>\n",
       "      <td>1</td>\n",
       "      <td>Кира</td>\n",
       "      <td>22</td>\n",
       "      <td>Тюмень</td>\n",
       "      <td>ultra</td>\n",
       "    </tr>\n",
       "    <tr>\n",
       "      <th>1</th>\n",
       "      <td>2</td>\n",
       "      <td>Станислав</td>\n",
       "      <td>31</td>\n",
       "      <td>Омск</td>\n",
       "      <td>ultra</td>\n",
       "    </tr>\n",
       "    <tr>\n",
       "      <th>2</th>\n",
       "      <td>3</td>\n",
       "      <td>Алексей</td>\n",
       "      <td>20</td>\n",
       "      <td>Москва</td>\n",
       "      <td>ultra</td>\n",
       "    </tr>\n",
       "    <tr>\n",
       "      <th>3</th>\n",
       "      <td>4</td>\n",
       "      <td>Константин</td>\n",
       "      <td>26</td>\n",
       "      <td>Ростов-на-Дону</td>\n",
       "      <td>ultra</td>\n",
       "    </tr>\n",
       "    <tr>\n",
       "      <th>4</th>\n",
       "      <td>5</td>\n",
       "      <td>Адель</td>\n",
       "      <td>28</td>\n",
       "      <td>Омск</td>\n",
       "      <td>ultra</td>\n",
       "    </tr>\n",
       "  </tbody>\n",
       "</table>\n",
       "</div>"
      ]
     },
     "metadata": {},
     "output_type": "display_data"
    },
    {
     "data": {
      "text/plain": [
       "   user_id     distance   duration        date\n",
       "0        1  4409.919140  25.599769  2021-01-01\n",
       "1        1  2617.592153  15.816871  2021-01-18\n",
       "2        1   754.159807   6.232113  2021-04-20\n",
       "3        1  2694.783254  18.511000  2021-08-11\n",
       "4        1  4028.687306  26.265803  2021-08-28"
      ],
      "text/html": [
       "<div>\n",
       "<style scoped>\n",
       "    .dataframe tbody tr th:only-of-type {\n",
       "        vertical-align: middle;\n",
       "    }\n",
       "\n",
       "    .dataframe tbody tr th {\n",
       "        vertical-align: top;\n",
       "    }\n",
       "\n",
       "    .dataframe thead th {\n",
       "        text-align: right;\n",
       "    }\n",
       "</style>\n",
       "<table border=\"1\" class=\"dataframe\">\n",
       "  <thead>\n",
       "    <tr style=\"text-align: right;\">\n",
       "      <th></th>\n",
       "      <th>user_id</th>\n",
       "      <th>distance</th>\n",
       "      <th>duration</th>\n",
       "      <th>date</th>\n",
       "    </tr>\n",
       "  </thead>\n",
       "  <tbody>\n",
       "    <tr>\n",
       "      <th>0</th>\n",
       "      <td>1</td>\n",
       "      <td>4409.919140</td>\n",
       "      <td>25.599769</td>\n",
       "      <td>2021-01-01</td>\n",
       "    </tr>\n",
       "    <tr>\n",
       "      <th>1</th>\n",
       "      <td>1</td>\n",
       "      <td>2617.592153</td>\n",
       "      <td>15.816871</td>\n",
       "      <td>2021-01-18</td>\n",
       "    </tr>\n",
       "    <tr>\n",
       "      <th>2</th>\n",
       "      <td>1</td>\n",
       "      <td>754.159807</td>\n",
       "      <td>6.232113</td>\n",
       "      <td>2021-04-20</td>\n",
       "    </tr>\n",
       "    <tr>\n",
       "      <th>3</th>\n",
       "      <td>1</td>\n",
       "      <td>2694.783254</td>\n",
       "      <td>18.511000</td>\n",
       "      <td>2021-08-11</td>\n",
       "    </tr>\n",
       "    <tr>\n",
       "      <th>4</th>\n",
       "      <td>1</td>\n",
       "      <td>4028.687306</td>\n",
       "      <td>26.265803</td>\n",
       "      <td>2021-08-28</td>\n",
       "    </tr>\n",
       "  </tbody>\n",
       "</table>\n",
       "</div>"
      ]
     },
     "metadata": {},
     "output_type": "display_data"
    },
    {
     "data": {
      "text/plain": [
       "  subscription_type  minute_price  start_ride_price  subscription_fee\n",
       "0              free             8                50                 0\n",
       "1             ultra             6                 0               199"
      ],
      "text/html": [
       "<div>\n",
       "<style scoped>\n",
       "    .dataframe tbody tr th:only-of-type {\n",
       "        vertical-align: middle;\n",
       "    }\n",
       "\n",
       "    .dataframe tbody tr th {\n",
       "        vertical-align: top;\n",
       "    }\n",
       "\n",
       "    .dataframe thead th {\n",
       "        text-align: right;\n",
       "    }\n",
       "</style>\n",
       "<table border=\"1\" class=\"dataframe\">\n",
       "  <thead>\n",
       "    <tr style=\"text-align: right;\">\n",
       "      <th></th>\n",
       "      <th>subscription_type</th>\n",
       "      <th>minute_price</th>\n",
       "      <th>start_ride_price</th>\n",
       "      <th>subscription_fee</th>\n",
       "    </tr>\n",
       "  </thead>\n",
       "  <tbody>\n",
       "    <tr>\n",
       "      <th>0</th>\n",
       "      <td>free</td>\n",
       "      <td>8</td>\n",
       "      <td>50</td>\n",
       "      <td>0</td>\n",
       "    </tr>\n",
       "    <tr>\n",
       "      <th>1</th>\n",
       "      <td>ultra</td>\n",
       "      <td>6</td>\n",
       "      <td>0</td>\n",
       "      <td>199</td>\n",
       "    </tr>\n",
       "  </tbody>\n",
       "</table>\n",
       "</div>"
      ]
     },
     "metadata": {},
     "output_type": "display_data"
    },
    {
     "name": "stdout",
     "output_type": "stream",
     "text": [
      "<class 'pandas.core.frame.DataFrame'>\n",
      "RangeIndex: 1565 entries, 0 to 1564\n",
      "Data columns (total 5 columns):\n",
      " #   Column             Non-Null Count  Dtype \n",
      "---  ------             --------------  ----- \n",
      " 0   user_id            1565 non-null   int64 \n",
      " 1   name               1565 non-null   object\n",
      " 2   age                1565 non-null   int64 \n",
      " 3   city               1565 non-null   object\n",
      " 4   subscription_type  1565 non-null   object\n",
      "dtypes: int64(2), object(3)\n",
      "memory usage: 61.3+ KB\n"
     ]
    },
    {
     "data": {
      "text/plain": [
       "None"
      ]
     },
     "metadata": {},
     "output_type": "display_data"
    },
    {
     "name": "stdout",
     "output_type": "stream",
     "text": [
      "<class 'pandas.core.frame.DataFrame'>\n",
      "RangeIndex: 18068 entries, 0 to 18067\n",
      "Data columns (total 4 columns):\n",
      " #   Column    Non-Null Count  Dtype  \n",
      "---  ------    --------------  -----  \n",
      " 0   user_id   18068 non-null  int64  \n",
      " 1   distance  18068 non-null  float64\n",
      " 2   duration  18068 non-null  float64\n",
      " 3   date      18068 non-null  object \n",
      "dtypes: float64(2), int64(1), object(1)\n",
      "memory usage: 564.8+ KB\n"
     ]
    },
    {
     "data": {
      "text/plain": [
       "None"
      ]
     },
     "metadata": {},
     "output_type": "display_data"
    },
    {
     "name": "stdout",
     "output_type": "stream",
     "text": [
      "<class 'pandas.core.frame.DataFrame'>\n",
      "RangeIndex: 2 entries, 0 to 1\n",
      "Data columns (total 4 columns):\n",
      " #   Column             Non-Null Count  Dtype \n",
      "---  ------             --------------  ----- \n",
      " 0   subscription_type  2 non-null      object\n",
      " 1   minute_price       2 non-null      int64 \n",
      " 2   start_ride_price   2 non-null      int64 \n",
      " 3   subscription_fee   2 non-null      int64 \n",
      "dtypes: int64(3), object(1)\n",
      "memory usage: 196.0+ bytes\n"
     ]
    },
    {
     "data": {
      "text/plain": [
       "None"
      ]
     },
     "metadata": {},
     "output_type": "display_data"
    }
   ],
   "execution_count": 3
  },
  {
   "cell_type": "markdown",
   "id": "e95ebca7",
   "metadata": {},
   "source": [
    "#### Шаг 2. Предобработка данных"
   ]
  },
  {
   "cell_type": "markdown",
   "id": "7d9d3af2165fa9a9",
   "metadata": {},
   "source": [
    "Изменим тип данных на Datetime и добавим новый столбец с номером месяца"
   ]
  },
  {
   "cell_type": "code",
   "id": "af6d202c",
   "metadata": {
    "ExecuteTime": {
     "end_time": "2024-07-23T09:52:58.605239Z",
     "start_time": "2024-07-23T09:52:58.599924Z"
    }
   },
   "source": [
    "rides['date'] = pd.to_datetime(rides['date'], format='%Y-%m-%d')\n",
    "display(rides['date'].dt.year.unique())\n",
    "\n",
    "rides['month_number'] = rides['date'].dt.month"
   ],
   "outputs": [
    {
     "data": {
      "text/plain": [
       "array([2021], dtype=int32)"
      ]
     },
     "metadata": {},
     "output_type": "display_data"
    }
   ],
   "execution_count": 4
  },
  {
   "cell_type": "markdown",
   "id": "fd04ee1d49717521",
   "metadata": {},
   "source": [
    "Обработка пропущенных значений"
   ]
  },
  {
   "cell_type": "code",
   "id": "395fd828f21c74a4",
   "metadata": {
    "ExecuteTime": {
     "end_time": "2024-07-23T09:52:58.608284Z",
     "start_time": "2024-07-23T09:52:58.605798Z"
    }
   },
   "source": [
    "print(users.isna().sum())\n",
    "print()\n",
    "print(rides.isna().sum())\n",
    "print()\n",
    "print(subscriptions.isna().sum())"
   ],
   "outputs": [
    {
     "name": "stdout",
     "output_type": "stream",
     "text": [
      "user_id              0\n",
      "name                 0\n",
      "age                  0\n",
      "city                 0\n",
      "subscription_type    0\n",
      "dtype: int64\n",
      "\n",
      "user_id         0\n",
      "distance        0\n",
      "duration        0\n",
      "date            0\n",
      "month_number    0\n",
      "dtype: int64\n",
      "\n",
      "subscription_type    0\n",
      "minute_price         0\n",
      "start_ride_price     0\n",
      "subscription_fee     0\n",
      "dtype: int64\n"
     ]
    }
   ],
   "execution_count": 5
  },
  {
   "cell_type": "markdown",
   "id": "bb2da03419c3fac8",
   "metadata": {},
   "source": [
    "Пропущенных значений нет"
   ]
  },
  {
   "cell_type": "markdown",
   "id": "fdfbd2490857132a",
   "metadata": {},
   "source": [
    "Обработка дубликатов"
   ]
  },
  {
   "cell_type": "code",
   "id": "efa3c13a930cdd25",
   "metadata": {
    "ExecuteTime": {
     "end_time": "2024-07-23T09:52:58.615127Z",
     "start_time": "2024-07-23T09:52:58.608762Z"
    }
   },
   "source": [
    "display(users.duplicated().sum())\n",
    "display(rides.duplicated().sum())\n",
    "\n",
    "users = users.drop_duplicates()\n",
    "rides = rides.drop_duplicates()"
   ],
   "outputs": [
    {
     "data": {
      "text/plain": [
       "31"
      ]
     },
     "metadata": {},
     "output_type": "display_data"
    },
    {
     "data": {
      "text/plain": [
       "0"
      ]
     },
     "metadata": {},
     "output_type": "display_data"
    }
   ],
   "execution_count": 6
  },
  {
   "cell_type": "markdown",
   "id": "6203e83c2289188d",
   "metadata": {},
   "source": [
    "Явные дубликаты были удалены, неявные дубликаты не обнаружены"
   ]
  },
  {
   "cell_type": "markdown",
   "id": "212593c7",
   "metadata": {},
   "source": [
    "#### Шаг 3. Исследовательский анализ данных"
   ]
  },
  {
   "cell_type": "markdown",
   "id": "147094c99ea2745e",
   "metadata": {},
   "source": [
    "Частота встречаемости городов"
   ]
  },
  {
   "cell_type": "code",
   "id": "e3a4274c",
   "metadata": {
    "ExecuteTime": {
     "end_time": "2024-07-23T09:52:58.704807Z",
     "start_time": "2024-07-23T09:52:58.615683Z"
    }
   },
   "source": [
    "city_counts = users['city'].value_counts()\n",
    "\n",
    "city_counts.plot(kind='bar')\n",
    "plt.xticks(rotation=45)\n",
    "plt.xlabel('Город')\n",
    "plt.ylabel('Частота')\n",
    "plt.title('Частота встречаемости городов')\n",
    "plt.show()"
   ],
   "outputs": [
    {
     "data": {
      "text/plain": [
       "<Figure size 640x480 with 1 Axes>"
      ],
      "image/png": "[encoded data removed]"
     },
     "metadata": {},
     "output_type": "display_data"
    }
   ],
   "execution_count": 7
  },
  {
   "cell_type": "markdown",
   "id": "73d6b4bdad95a25f",
   "metadata": {},
   "source": [
    "Исходя из имеющихся данных, чаще всего берут самокаты в аренду в Пятигорске и реже всего в Москве"
   ]
  },
  {
   "cell_type": "markdown",
   "id": "e4612e21abfa9aa6",
   "metadata": {},
   "source": [
    "Соотношение пользователей с подпиской и без подписки"
   ]
  },
  {
   "cell_type": "code",
   "id": "2ed147c6",
   "metadata": {
    "ExecuteTime": {
     "end_time": "2024-07-23T09:52:58.737622Z",
     "start_time": "2024-07-23T09:52:58.705644Z"
    }
   },
   "source": [
    "subscription_ratios = users['subscription_type'].value_counts(normalize=True)\n",
    "\n",
    "subscription_ratios.plot(kind='pie', autopct='%1.1f%%', startangle=90,)\n",
    "plt.ylabel('')\n",
    "plt.title('Соотношение пользователей с подпиской и без подписки')\n",
    "plt.show()"
   ],
   "outputs": [
    {
     "data": {
      "text/plain": [
       "<Figure size 640x480 with 1 Axes>"
      ],
      "image/png": "[encoded data removed]"
     },
     "metadata": {},
     "output_type": "display_data"
    }
   ],
   "execution_count": 8
  },
  {
   "cell_type": "markdown",
   "id": "bc1eef3df761708e",
   "metadata": {},
   "source": [
    "Пользователей без подписки (54,1%) больше, чем пользователей с подпиской (45,9%)"
   ]
  },
  {
   "cell_type": "markdown",
   "id": "1eb6b4923e87e6dd",
   "metadata": {},
   "source": [
    "Возраст пользователей"
   ]
  },
  {
   "cell_type": "code",
   "id": "ca9357a11336447b",
   "metadata": {
    "ExecuteTime": {
     "end_time": "2024-07-23T09:52:58.829588Z",
     "start_time": "2024-07-23T09:52:58.738162Z"
    }
   },
   "source": [
    "users['age'].plot(kind='hist', bins=25, edgecolor='black', range=(12, 38))\n",
    "plt.xlabel('Возраст')\n",
    "plt.ylabel('Количество пользователей')\n",
    "plt.title('Возраст пользователей')\n",
    "plt.show()\n",
    "\n",
    "users['age'].plot(kind='box');"
   ],
   "outputs": [
    {
     "data": {
      "text/plain": [
       "<Figure size 640x480 with 1 Axes>"
      ],
      "image/png": "[encoded data removed]"
     },
     "metadata": {},
     "output_type": "display_data"
    },
    {
     "data": {
      "text/plain": [
       "<Figure size 640x480 with 1 Axes>"
      ],
      "image/png": "[encoded data removed]"
     },
     "metadata": {},
     "output_type": "display_data"
    }
   ],
   "execution_count": 9
  },
  {
   "cell_type": "markdown",
   "id": "d21529b99ce5cdd3",
   "metadata": {},
   "source": [
    "Больше всего пользователей в возрасте 25 лет"
   ]
  },
  {
   "cell_type": "markdown",
   "id": "b70021ed62638277",
   "metadata": {},
   "source": [
    "Расстояние, которое пользователь преодолел за одну поездку"
   ]
  },
  {
   "cell_type": "code",
   "id": "86a9d0a589a0445c",
   "metadata": {
    "ExecuteTime": {
     "end_time": "2024-07-23T09:52:58.931218Z",
     "start_time": "2024-07-23T09:52:58.831194Z"
    }
   },
   "source": [
    "rides['distance'].plot(kind='hist', bins=50, edgecolor='black', range=(0, 5000));\n",
    "plt.xlabel('Расстояние')\n",
    "plt.ylabel('Количество пользователей')\n",
    "plt.title('Расстояние, которое пользователь преодолел за одну поездку')\n",
    "plt.show()\n",
    "\n",
    "rides['distance'].plot(kind='box');"
   ],
   "outputs": [
    {
     "data": {
      "text/plain": [
       "<Figure size 640x480 with 1 Axes>"
      ],
      "image/png": "[encoded data removed]"
     },
     "metadata": {},
     "output_type": "display_data"
    },
    {
     "data": {
      "text/plain": [
       "<Figure size 640x480 with 1 Axes>"
      ],
      "image/png": "[encoded data removed]"
     },
     "metadata": {},
     "output_type": "display_data"
    }
   ],
   "execution_count": 10
  },
  {
   "cell_type": "markdown",
   "id": "9f0e089ff297ab8d",
   "metadata": {},
   "source": [
    "Самое популярное пройденное расстояние ~3000 метров"
   ]
  },
  {
   "cell_type": "markdown",
   "id": "64268b0c5ef164cd",
   "metadata": {},
   "source": [
    "Продолжительность поездок"
   ]
  },
  {
   "cell_type": "code",
   "id": "cb0d441ee25e23a5",
   "metadata": {
    "ExecuteTime": {
     "end_time": "2024-07-23T09:52:59.028700Z",
     "start_time": "2024-07-23T09:52:58.931836Z"
    }
   },
   "source": [
    "rides['duration'].plot(kind='hist', bins=20, edgecolor='black', range=(1, 35));\n",
    "plt.xlabel('Продолжительность')\n",
    "plt.ylabel('Количество пользователей')\n",
    "plt.title('Продолжительность поездок')\n",
    "plt.show()\n",
    "\n",
    "rides['duration'].plot(kind='box');"
   ],
   "outputs": [
    {
     "data": {
      "text/plain": [
       "<Figure size 640x480 with 1 Axes>"
      ],
      "image/png": "[encoded data removed]"
     },
     "metadata": {},
     "output_type": "display_data"
    },
    {
     "data": {
      "text/plain": [
       "<Figure size 640x480 with 1 Axes>"
      ],
      "image/png": "[encoded data removed]"
     },
     "metadata": {},
     "output_type": "display_data"
    }
   ],
   "execution_count": 11
  },
  {
   "cell_type": "markdown",
   "id": "4c96abaa496557f2",
   "metadata": {},
   "source": [
    "Поездки обычно длятся от 15 до 20 минут"
   ]
  },
  {
   "cell_type": "markdown",
   "id": "4ef51331",
   "metadata": {},
   "source": [
    "#### Шаг 4. Объединение данных"
   ]
  },
  {
   "cell_type": "markdown",
   "id": "414ab02f3dcf9add",
   "metadata": {},
   "source": [
    "Объединим все таблицы в одну"
   ]
  },
  {
   "cell_type": "code",
   "id": "6bf288b5",
   "metadata": {
    "ExecuteTime": {
     "end_time": "2024-07-23T09:52:59.038202Z",
     "start_time": "2024-07-23T09:52:59.029456Z"
    }
   },
   "source": [
    "print('Размеры таблиц до объединения:')\n",
    "print(f'Пользователи: {users.shape[0]} строк')\n",
    "print(f'Поездки: {rides.shape[0]} строк')\n",
    "print(f'Подписки: {subscriptions.shape[0]} строки')\n",
    "\n",
    "user_rides = users.merge(rides, on='user_id', how='inner')\n",
    "\n",
    "data = user_rides.merge(subscriptions, on='subscription_type', how='inner')\n",
    "\n",
    "print(f'Размеры таблицы после объединения: {data.shape[0]}')\n",
    "data"
   ],
   "outputs": [
    {
     "name": "stdout",
     "output_type": "stream",
     "text": [
      "Размеры таблиц до объединения:\n",
      "Пользователи: 1534 строк\n",
      "Поездки: 18068 строк\n",
      "Подписки: 2 строки\n",
      "Размеры таблицы после объединения: 18068\n"
     ]
    },
    {
     "data": {
      "text/plain": [
       "       user_id     name  age       city subscription_type     distance  \\\n",
       "0            1     Кира   22     Тюмень             ultra  4409.919140   \n",
       "1            1     Кира   22     Тюмень             ultra  2617.592153   \n",
       "2            1     Кира   22     Тюмень             ultra   754.159807   \n",
       "3            1     Кира   22     Тюмень             ultra  2694.783254   \n",
       "4            1     Кира   22     Тюмень             ultra  4028.687306   \n",
       "...        ...      ...  ...        ...               ...          ...   \n",
       "18063     1534  Альберт   25  Краснодар              free  3781.098080   \n",
       "18064     1534  Альберт   25  Краснодар              free  2840.423057   \n",
       "18065     1534  Альберт   25  Краснодар              free  3826.185507   \n",
       "18066     1534  Альберт   25  Краснодар              free  2902.308661   \n",
       "18067     1534  Альберт   25  Краснодар              free  2371.711192   \n",
       "\n",
       "        duration       date  month_number  minute_price  start_ride_price  \\\n",
       "0      25.599769 2021-01-01             1             6                 0   \n",
       "1      15.816871 2021-01-18             1             6                 0   \n",
       "2       6.232113 2021-04-20             4             6                 0   \n",
       "3      18.511000 2021-08-11             8             6                 0   \n",
       "4      26.265803 2021-08-28             8             6                 0   \n",
       "...          ...        ...           ...           ...               ...   \n",
       "18063  19.822962 2021-11-04            11             8                50   \n",
       "18064  21.409799 2021-11-16            11             8                50   \n",
       "18065  18.435051 2021-11-18            11             8                50   \n",
       "18066  16.674362 2021-11-27            11             8                50   \n",
       "18067  15.893917 2021-12-29            12             8                50   \n",
       "\n",
       "       subscription_fee  \n",
       "0                   199  \n",
       "1                   199  \n",
       "2                   199  \n",
       "3                   199  \n",
       "4                   199  \n",
       "...                 ...  \n",
       "18063                 0  \n",
       "18064                 0  \n",
       "18065                 0  \n",
       "18066                 0  \n",
       "18067                 0  \n",
       "\n",
       "[18068 rows x 12 columns]"
      ],
      "text/html": [
       "<div>\n",
       "<style scoped>\n",
       "    .dataframe tbody tr th:only-of-type {\n",
       "        vertical-align: middle;\n",
       "    }\n",
       "\n",
       "    .dataframe tbody tr th {\n",
       "        vertical-align: top;\n",
       "    }\n",
       "\n",
       "    .dataframe thead th {\n",
       "        text-align: right;\n",
       "    }\n",
       "</style>\n",
       "<table border=\"1\" class=\"dataframe\">\n",
       "  <thead>\n",
       "    <tr style=\"text-align: right;\">\n",
       "      <th></th>\n",
       "      <th>user_id</th>\n",
       "      <th>name</th>\n",
       "      <th>age</th>\n",
       "      <th>city</th>\n",
       "      <th>subscription_type</th>\n",
       "      <th>distance</th>\n",
       "      <th>duration</th>\n",
       "      <th>date</th>\n",
       "      <th>month_number</th>\n",
       "      <th>minute_price</th>\n",
       "      <th>start_ride_price</th>\n",
       "      <th>subscription_fee</th>\n",
       "    </tr>\n",
       "  </thead>\n",
       "  <tbody>\n",
       "    <tr>\n",
       "      <th>0</th>\n",
       "      <td>1</td>\n",
       "      <td>Кира</td>\n",
       "      <td>22</td>\n",
       "      <td>Тюмень</td>\n",
       "      <td>ultra</td>\n",
       "      <td>4409.919140</td>\n",
       "      <td>25.599769</td>\n",
       "      <td>2021-01-01</td>\n",
       "      <td>1</td>\n",
       "      <td>6</td>\n",
       "      <td>0</td>\n",
       "      <td>199</td>\n",
       "    </tr>\n",
       "    <tr>\n",
       "      <th>1</th>\n",
       "      <td>1</td>\n",
       "      <td>Кира</td>\n",
       "      <td>22</td>\n",
       "      <td>Тюмень</td>\n",
       "      <td>ultra</td>\n",
       "      <td>2617.592153</td>\n",
       "      <td>15.816871</td>\n",
       "      <td>2021-01-18</td>\n",
       "      <td>1</td>\n",
       "      <td>6</td>\n",
       "      <td>0</td>\n",
       "      <td>199</td>\n",
       "    </tr>\n",
       "    <tr>\n",
       "      <th>2</th>\n",
       "      <td>1</td>\n",
       "      <td>Кира</td>\n",
       "      <td>22</td>\n",
       "      <td>Тюмень</td>\n",
       "      <td>ultra</td>\n",
       "      <td>754.159807</td>\n",
       "      <td>6.232113</td>\n",
       "      <td>2021-04-20</td>\n",
       "      <td>4</td>\n",
       "      <td>6</td>\n",
       "      <td>0</td>\n",
       "      <td>199</td>\n",
       "    </tr>\n",
       "    <tr>\n",
       "      <th>3</th>\n",
       "      <td>1</td>\n",
       "      <td>Кира</td>\n",
       "      <td>22</td>\n",
       "      <td>Тюмень</td>\n",
       "      <td>ultra</td>\n",
       "      <td>2694.783254</td>\n",
       "      <td>18.511000</td>\n",
       "      <td>2021-08-11</td>\n",
       "      <td>8</td>\n",
       "      <td>6</td>\n",
       "      <td>0</td>\n",
       "      <td>199</td>\n",
       "    </tr>\n",
       "    <tr>\n",
       "      <th>4</th>\n",
       "      <td>1</td>\n",
       "      <td>Кира</td>\n",
       "      <td>22</td>\n",
       "      <td>Тюмень</td>\n",
       "      <td>ultra</td>\n",
       "      <td>4028.687306</td>\n",
       "      <td>26.265803</td>\n",
       "      <td>2021-08-28</td>\n",
       "      <td>8</td>\n",
       "      <td>6</td>\n",
       "      <td>0</td>\n",
       "      <td>199</td>\n",
       "    </tr>\n",
       "    <tr>\n",
       "      <th>...</th>\n",
       "      <td>...</td>\n",
       "      <td>...</td>\n",
       "      <td>...</td>\n",
       "      <td>...</td>\n",
       "      <td>...</td>\n",
       "      <td>...</td>\n",
       "      <td>...</td>\n",
       "      <td>...</td>\n",
       "      <td>...</td>\n",
       "      <td>...</td>\n",
       "      <td>...</td>\n",
       "      <td>...</td>\n",
       "    </tr>\n",
       "    <tr>\n",
       "      <th>18063</th>\n",
       "      <td>1534</td>\n",
       "      <td>Альберт</td>\n",
       "      <td>25</td>\n",
       "      <td>Краснодар</td>\n",
       "      <td>free</td>\n",
       "      <td>3781.098080</td>\n",
       "      <td>19.822962</td>\n",
       "      <td>2021-11-04</td>\n",
       "      <td>11</td>\n",
       "      <td>8</td>\n",
       "      <td>50</td>\n",
       "      <td>0</td>\n",
       "    </tr>\n",
       "    <tr>\n",
       "      <th>18064</th>\n",
       "      <td>1534</td>\n",
       "      <td>Альберт</td>\n",
       "      <td>25</td>\n",
       "      <td>Краснодар</td>\n",
       "      <td>free</td>\n",
       "      <td>2840.423057</td>\n",
       "      <td>21.409799</td>\n",
       "      <td>2021-11-16</td>\n",
       "      <td>11</td>\n",
       "      <td>8</td>\n",
       "      <td>50</td>\n",
       "      <td>0</td>\n",
       "    </tr>\n",
       "    <tr>\n",
       "      <th>18065</th>\n",
       "      <td>1534</td>\n",
       "      <td>Альберт</td>\n",
       "      <td>25</td>\n",
       "      <td>Краснодар</td>\n",
       "      <td>free</td>\n",
       "      <td>3826.185507</td>\n",
       "      <td>18.435051</td>\n",
       "      <td>2021-11-18</td>\n",
       "      <td>11</td>\n",
       "      <td>8</td>\n",
       "      <td>50</td>\n",
       "      <td>0</td>\n",
       "    </tr>\n",
       "    <tr>\n",
       "      <th>18066</th>\n",
       "      <td>1534</td>\n",
       "      <td>Альберт</td>\n",
       "      <td>25</td>\n",
       "      <td>Краснодар</td>\n",
       "      <td>free</td>\n",
       "      <td>2902.308661</td>\n",
       "      <td>16.674362</td>\n",
       "      <td>2021-11-27</td>\n",
       "      <td>11</td>\n",
       "      <td>8</td>\n",
       "      <td>50</td>\n",
       "      <td>0</td>\n",
       "    </tr>\n",
       "    <tr>\n",
       "      <th>18067</th>\n",
       "      <td>1534</td>\n",
       "      <td>Альберт</td>\n",
       "      <td>25</td>\n",
       "      <td>Краснодар</td>\n",
       "      <td>free</td>\n",
       "      <td>2371.711192</td>\n",
       "      <td>15.893917</td>\n",
       "      <td>2021-12-29</td>\n",
       "      <td>12</td>\n",
       "      <td>8</td>\n",
       "      <td>50</td>\n",
       "      <td>0</td>\n",
       "    </tr>\n",
       "  </tbody>\n",
       "</table>\n",
       "<p>18068 rows × 12 columns</p>\n",
       "</div>"
      ]
     },
     "execution_count": 12,
     "metadata": {},
     "output_type": "execute_result"
    }
   ],
   "execution_count": 12
  },
  {
   "cell_type": "markdown",
   "id": "4f93cd4ccb5dd4cc",
   "metadata": {},
   "source": [
    "Создадим отдельные таблицы для пользователей без подписки и пользователей с подпиской"
   ]
  },
  {
   "cell_type": "code",
   "id": "13ef6c4c",
   "metadata": {
    "ExecuteTime": {
     "end_time": "2024-07-23T09:52:59.046802Z",
     "start_time": "2024-07-23T09:52:59.038772Z"
    }
   },
   "source": [
    "without_subscription = data[data['subscription_type'] == 'free']\n",
    "display(without_subscription.head())\n",
    "\n",
    "with_subscription = data[data['subscription_type'] == 'ultra']\n",
    "display(with_subscription.head())"
   ],
   "outputs": [
    {
     "data": {
      "text/plain": [
       "      user_id   name  age  city subscription_type     distance   duration  \\\n",
       "6500      700  Айдар   22  Омск              free  2515.690719  14.944286   \n",
       "6501      700  Айдар   22  Омск              free   846.932642  16.234663   \n",
       "6502      700  Айдар   22  Омск              free  4004.434142  20.016628   \n",
       "6503      700  Айдар   22  Омск              free  1205.911290   9.782872   \n",
       "6504      700  Айдар   22  Омск              free  3047.379435  17.427673   \n",
       "\n",
       "           date  month_number  minute_price  start_ride_price  \\\n",
       "6500 2021-01-02             1             8                50   \n",
       "6501 2021-02-01             2             8                50   \n",
       "6502 2021-02-04             2             8                50   \n",
       "6503 2021-02-10             2             8                50   \n",
       "6504 2021-02-14             2             8                50   \n",
       "\n",
       "      subscription_fee  \n",
       "6500                 0  \n",
       "6501                 0  \n",
       "6502                 0  \n",
       "6503                 0  \n",
       "6504                 0  "
      ],
      "text/html": [
       "<div>\n",
       "<style scoped>\n",
       "    .dataframe tbody tr th:only-of-type {\n",
       "        vertical-align: middle;\n",
       "    }\n",
       "\n",
       "    .dataframe tbody tr th {\n",
       "        vertical-align: top;\n",
       "    }\n",
       "\n",
       "    .dataframe thead th {\n",
       "        text-align: right;\n",
       "    }\n",
       "</style>\n",
       "<table border=\"1\" class=\"dataframe\">\n",
       "  <thead>\n",
       "    <tr style=\"text-align: right;\">\n",
       "      <th></th>\n",
       "      <th>user_id</th>\n",
       "      <th>name</th>\n",
       "      <th>age</th>\n",
       "      <th>city</th>\n",
       "      <th>subscription_type</th>\n",
       "      <th>distance</th>\n",
       "      <th>duration</th>\n",
       "      <th>date</th>\n",
       "      <th>month_number</th>\n",
       "      <th>minute_price</th>\n",
       "      <th>start_ride_price</th>\n",
       "      <th>subscription_fee</th>\n",
       "    </tr>\n",
       "  </thead>\n",
       "  <tbody>\n",
       "    <tr>\n",
       "      <th>6500</th>\n",
       "      <td>700</td>\n",
       "      <td>Айдар</td>\n",
       "      <td>22</td>\n",
       "      <td>Омск</td>\n",
       "      <td>free</td>\n",
       "      <td>2515.690719</td>\n",
       "      <td>14.944286</td>\n",
       "      <td>2021-01-02</td>\n",
       "      <td>1</td>\n",
       "      <td>8</td>\n",
       "      <td>50</td>\n",
       "      <td>0</td>\n",
       "    </tr>\n",
       "    <tr>\n",
       "      <th>6501</th>\n",
       "      <td>700</td>\n",
       "      <td>Айдар</td>\n",
       "      <td>22</td>\n",
       "      <td>Омск</td>\n",
       "      <td>free</td>\n",
       "      <td>846.932642</td>\n",
       "      <td>16.234663</td>\n",
       "      <td>2021-02-01</td>\n",
       "      <td>2</td>\n",
       "      <td>8</td>\n",
       "      <td>50</td>\n",
       "      <td>0</td>\n",
       "    </tr>\n",
       "    <tr>\n",
       "      <th>6502</th>\n",
       "      <td>700</td>\n",
       "      <td>Айдар</td>\n",
       "      <td>22</td>\n",
       "      <td>Омск</td>\n",
       "      <td>free</td>\n",
       "      <td>4004.434142</td>\n",
       "      <td>20.016628</td>\n",
       "      <td>2021-02-04</td>\n",
       "      <td>2</td>\n",
       "      <td>8</td>\n",
       "      <td>50</td>\n",
       "      <td>0</td>\n",
       "    </tr>\n",
       "    <tr>\n",
       "      <th>6503</th>\n",
       "      <td>700</td>\n",
       "      <td>Айдар</td>\n",
       "      <td>22</td>\n",
       "      <td>Омск</td>\n",
       "      <td>free</td>\n",
       "      <td>1205.911290</td>\n",
       "      <td>9.782872</td>\n",
       "      <td>2021-02-10</td>\n",
       "      <td>2</td>\n",
       "      <td>8</td>\n",
       "      <td>50</td>\n",
       "      <td>0</td>\n",
       "    </tr>\n",
       "    <tr>\n",
       "      <th>6504</th>\n",
       "      <td>700</td>\n",
       "      <td>Айдар</td>\n",
       "      <td>22</td>\n",
       "      <td>Омск</td>\n",
       "      <td>free</td>\n",
       "      <td>3047.379435</td>\n",
       "      <td>17.427673</td>\n",
       "      <td>2021-02-14</td>\n",
       "      <td>2</td>\n",
       "      <td>8</td>\n",
       "      <td>50</td>\n",
       "      <td>0</td>\n",
       "    </tr>\n",
       "  </tbody>\n",
       "</table>\n",
       "</div>"
      ]
     },
     "metadata": {},
     "output_type": "display_data"
    },
    {
     "data": {
      "text/plain": [
       "   user_id  name  age    city subscription_type     distance   duration  \\\n",
       "0        1  Кира   22  Тюмень             ultra  4409.919140  25.599769   \n",
       "1        1  Кира   22  Тюмень             ultra  2617.592153  15.816871   \n",
       "2        1  Кира   22  Тюмень             ultra   754.159807   6.232113   \n",
       "3        1  Кира   22  Тюмень             ultra  2694.783254  18.511000   \n",
       "4        1  Кира   22  Тюмень             ultra  4028.687306  26.265803   \n",
       "\n",
       "        date  month_number  minute_price  start_ride_price  subscription_fee  \n",
       "0 2021-01-01             1             6                 0               199  \n",
       "1 2021-01-18             1             6                 0               199  \n",
       "2 2021-04-20             4             6                 0               199  \n",
       "3 2021-08-11             8             6                 0               199  \n",
       "4 2021-08-28             8             6                 0               199  "
      ],
      "text/html": [
       "<div>\n",
       "<style scoped>\n",
       "    .dataframe tbody tr th:only-of-type {\n",
       "        vertical-align: middle;\n",
       "    }\n",
       "\n",
       "    .dataframe tbody tr th {\n",
       "        vertical-align: top;\n",
       "    }\n",
       "\n",
       "    .dataframe thead th {\n",
       "        text-align: right;\n",
       "    }\n",
       "</style>\n",
       "<table border=\"1\" class=\"dataframe\">\n",
       "  <thead>\n",
       "    <tr style=\"text-align: right;\">\n",
       "      <th></th>\n",
       "      <th>user_id</th>\n",
       "      <th>name</th>\n",
       "      <th>age</th>\n",
       "      <th>city</th>\n",
       "      <th>subscription_type</th>\n",
       "      <th>distance</th>\n",
       "      <th>duration</th>\n",
       "      <th>date</th>\n",
       "      <th>month_number</th>\n",
       "      <th>minute_price</th>\n",
       "      <th>start_ride_price</th>\n",
       "      <th>subscription_fee</th>\n",
       "    </tr>\n",
       "  </thead>\n",
       "  <tbody>\n",
       "    <tr>\n",
       "      <th>0</th>\n",
       "      <td>1</td>\n",
       "      <td>Кира</td>\n",
       "      <td>22</td>\n",
       "      <td>Тюмень</td>\n",
       "      <td>ultra</td>\n",
       "      <td>4409.919140</td>\n",
       "      <td>25.599769</td>\n",
       "      <td>2021-01-01</td>\n",
       "      <td>1</td>\n",
       "      <td>6</td>\n",
       "      <td>0</td>\n",
       "      <td>199</td>\n",
       "    </tr>\n",
       "    <tr>\n",
       "      <th>1</th>\n",
       "      <td>1</td>\n",
       "      <td>Кира</td>\n",
       "      <td>22</td>\n",
       "      <td>Тюмень</td>\n",
       "      <td>ultra</td>\n",
       "      <td>2617.592153</td>\n",
       "      <td>15.816871</td>\n",
       "      <td>2021-01-18</td>\n",
       "      <td>1</td>\n",
       "      <td>6</td>\n",
       "      <td>0</td>\n",
       "      <td>199</td>\n",
       "    </tr>\n",
       "    <tr>\n",
       "      <th>2</th>\n",
       "      <td>1</td>\n",
       "      <td>Кира</td>\n",
       "      <td>22</td>\n",
       "      <td>Тюмень</td>\n",
       "      <td>ultra</td>\n",
       "      <td>754.159807</td>\n",
       "      <td>6.232113</td>\n",
       "      <td>2021-04-20</td>\n",
       "      <td>4</td>\n",
       "      <td>6</td>\n",
       "      <td>0</td>\n",
       "      <td>199</td>\n",
       "    </tr>\n",
       "    <tr>\n",
       "      <th>3</th>\n",
       "      <td>1</td>\n",
       "      <td>Кира</td>\n",
       "      <td>22</td>\n",
       "      <td>Тюмень</td>\n",
       "      <td>ultra</td>\n",
       "      <td>2694.783254</td>\n",
       "      <td>18.511000</td>\n",
       "      <td>2021-08-11</td>\n",
       "      <td>8</td>\n",
       "      <td>6</td>\n",
       "      <td>0</td>\n",
       "      <td>199</td>\n",
       "    </tr>\n",
       "    <tr>\n",
       "      <th>4</th>\n",
       "      <td>1</td>\n",
       "      <td>Кира</td>\n",
       "      <td>22</td>\n",
       "      <td>Тюмень</td>\n",
       "      <td>ultra</td>\n",
       "      <td>4028.687306</td>\n",
       "      <td>26.265803</td>\n",
       "      <td>2021-08-28</td>\n",
       "      <td>8</td>\n",
       "      <td>6</td>\n",
       "      <td>0</td>\n",
       "      <td>199</td>\n",
       "    </tr>\n",
       "  </tbody>\n",
       "</table>\n",
       "</div>"
      ]
     },
     "metadata": {},
     "output_type": "display_data"
    }
   ],
   "execution_count": 13
  },
  {
   "cell_type": "markdown",
   "id": "ac30fa86b5a20aa4",
   "metadata": {},
   "source": [
    "Визуализация пройденного расстояния для пользователей каждой категории"
   ]
  },
  {
   "cell_type": "code",
   "id": "8a37dfbab66ca723",
   "metadata": {
    "ExecuteTime": {
     "end_time": "2024-07-23T09:52:59.170575Z",
     "start_time": "2024-07-23T09:52:59.047234Z"
    }
   },
   "source": [
    "without_subscription['distance'].plot(kind='hist', bins=50, edgecolor='black', range=(0, 5500));\n",
    "plt.xlabel('Расстояние')\n",
    "plt.ylabel('Количество пользователей')\n",
    "plt.title('Пройденное расстояние пользователей без подписки')\n",
    "plt.show()\n",
    "\n",
    "with_subscription['distance'].plot(kind='hist', bins=50, edgecolor='black', range=(0, 5000));\n",
    "plt.xlabel('Расстояние')\n",
    "plt.ylabel('Количество пользователей')\n",
    "plt.title('Пройденное расстояние пользователей с подпиской')\n",
    "plt.show()"
   ],
   "outputs": [
    {
     "data": {
      "text/plain": [
       "<Figure size 640x480 with 1 Axes>"
      ],
      "image/png": "[encoded data removed]"
     },
     "metadata": {},
     "output_type": "display_data"
    },
    {
     "data": {
      "text/plain": [
       "<Figure size 640x480 with 1 Axes>"
      ],
      "image/png": "[encoded data removed]"
     },
     "metadata": {},
     "output_type": "display_data"
    }
   ],
   "execution_count": 14
  },
  {
   "cell_type": "markdown",
   "id": "9aaf9b95c3753f8f",
   "metadata": {},
   "source": [
    "У пользователей без подписки чаще происходят короткие поездки (до 1000 метров) <br/>\n",
    "Пользователи с подпиской обычно проезжают от 2000 до 4000 метров, коротких поездок почти нет"
   ]
  },
  {
   "cell_type": "markdown",
   "id": "db1622d7cb41f5be",
   "metadata": {},
   "source": [
    "Визуализация продолжительности поездок для пользователей каждой категории"
   ]
  },
  {
   "cell_type": "code",
   "id": "1ed7317350a9beee",
   "metadata": {
    "scrolled": true,
    "ExecuteTime": {
     "end_time": "2024-07-23T09:52:59.289832Z",
     "start_time": "2024-07-23T09:52:59.171299Z"
    }
   },
   "source": [
    "without_subscription['duration'].plot(kind='hist', bins=20, edgecolor='black', range=(1, 35));\n",
    "plt.xlabel('Продолжительность')\n",
    "plt.ylabel('Количество пользователей')\n",
    "plt.title('Продолжительность поездок пользователей без подписки')\n",
    "plt.show()\n",
    "\n",
    "with_subscription['duration'].plot(kind='hist', bins=20, edgecolor='black', range=(1, 35));\n",
    "plt.xlabel('Продолжительность')\n",
    "plt.ylabel('Количество пользователей')\n",
    "plt.title('Продолжительность поездок пользователей с подпиской')\n",
    "plt.show()"
   ],
   "outputs": [
    {
     "data": {
      "text/plain": [
       "<Figure size 640x480 with 1 Axes>"
      ],
      "image/png": "[encoded data removed]"
     },
     "metadata": {},
     "output_type": "display_data"
    },
    {
     "data": {
      "text/plain": [
       "<Figure size 640x480 with 1 Axes>"
      ],
      "image/png": "[encoded data removed]"
     },
     "metadata": {},
     "output_type": "display_data"
    }
   ],
   "execution_count": 15
  },
  {
   "cell_type": "markdown",
   "id": "13bedacae5013c81",
   "metadata": {},
   "source": [
    "Продолжительности поездок для пользователей без подписки и с подпиской практически одинаковые. Пользователи без подписки чу-чуть чаще арендуют самокаты для коротких поездок"
   ]
  },
  {
   "cell_type": "markdown",
   "id": "402d620f",
   "metadata": {},
   "source": [
    "#### Шаг 5. Подсчёт выручки"
   ]
  },
  {
   "cell_type": "markdown",
   "id": "ab04faad08def706",
   "metadata": {},
   "source": [
    "Проверим сводную таблицу на пропуски"
   ]
  },
  {
   "cell_type": "code",
   "id": "8c44caff9892cdcd",
   "metadata": {
    "ExecuteTime": {
     "end_time": "2024-07-23T09:52:59.294550Z",
     "start_time": "2024-07-23T09:52:59.290505Z"
    }
   },
   "source": [
    "data.isna().sum()"
   ],
   "outputs": [
    {
     "data": {
      "text/plain": [
       "user_id              0\n",
       "name                 0\n",
       "age                  0\n",
       "city                 0\n",
       "subscription_type    0\n",
       "distance             0\n",
       "duration             0\n",
       "date                 0\n",
       "month_number         0\n",
       "minute_price         0\n",
       "start_ride_price     0\n",
       "subscription_fee     0\n",
       "dtype: int64"
      ]
     },
     "execution_count": 16,
     "metadata": {},
     "output_type": "execute_result"
    }
   ],
   "execution_count": 16
  },
  {
   "cell_type": "markdown",
   "id": "9869efcba954a51d",
   "metadata": {},
   "source": [
    "Сводная таблица с суммарным расстоянием, количеством поездок и суммарным временем для каждого пользователя за каждый месяц"
   ]
  },
  {
   "cell_type": "code",
   "id": "53049e0a",
   "metadata": {
    "ExecuteTime": {
     "end_time": "2024-07-23T09:52:59.311634Z",
     "start_time": "2024-07-23T09:52:59.295Z"
    }
   },
   "source": [
    "data['duration'] = np.ceil(data['duration'])\n",
    "rides_df = pd.pivot_table(data, index=['user_id', 'subscription_type'], columns=['month_number'],\n",
    "                          values=['distance', 'duration'], aggfunc={\n",
    "        'distance': 'sum',\n",
    "        'duration': ['sum', 'count']\n",
    "    }, fill_value=0)\n",
    "\n",
    "\n",
    "rides_df.columns = ['_'.join(map(str, col)).strip() for col in rides_df.columns.values]\n",
    "rides_df = rides_df.reset_index()\n",
    "\n",
    "rides_df = rides_df.merge(subscriptions, on='subscription_type', how='left')\n",
    "\n",
    "rides_df"
   ],
   "outputs": [
    {
     "data": {
      "text/plain": [
       "      user_id subscription_type  distance_sum_1  distance_sum_2  \\\n",
       "0           1             ultra     7027.511294        0.000000   \n",
       "1           2             ultra        0.000000        0.000000   \n",
       "2           3             ultra     3061.777147     5421.152016   \n",
       "3           4             ultra        0.000000     6339.696747   \n",
       "4           5             ultra     3914.646990     2561.108241   \n",
       "...       ...               ...             ...             ...   \n",
       "1529     1530              free      239.330892     2724.331740   \n",
       "1530     1531              free      711.666072     3022.478610   \n",
       "1531     1532              free     2615.477834        0.000000   \n",
       "1532     1533              free     3438.600356      310.488247   \n",
       "1533     1534              free     4678.415899     2103.914120   \n",
       "\n",
       "      distance_sum_3  distance_sum_4  distance_sum_5  distance_sum_6  \\\n",
       "0           0.000000      754.159807        0.000000        0.000000   \n",
       "1       10187.723006     6164.381824        0.000000     3255.338202   \n",
       "2           0.000000     2956.651632     9064.026918        0.000000   \n",
       "3           0.000000        0.000000        0.000000     6753.041806   \n",
       "4       10633.732186     3373.080412     5823.074031        0.000000   \n",
       "...              ...             ...             ...             ...   \n",
       "1529     6618.024550     9846.644422     7606.452979     2587.068383   \n",
       "1530        0.000000    13021.538366    13526.161364     4041.878778   \n",
       "1531        0.000000      842.097458      303.787850        0.000000   \n",
       "1532    12822.696276     2514.498956        0.000000     1034.998188   \n",
       "1533        0.000000     3434.290912        0.000000     3409.468534   \n",
       "\n",
       "      distance_sum_7  distance_sum_8  ...  duration_sum_6  duration_sum_7  \\\n",
       "0           0.000000     6723.470560  ...             0.0             0.0   \n",
       "1        6780.722964      923.007439  ...            14.0            48.0   \n",
       "2       10919.595403        0.000000  ...             0.0            67.0   \n",
       "3       10491.175555     4649.488243  ...            45.0            56.0   \n",
       "4        3311.974724     2720.817111  ...             0.0            12.0   \n",
       "...              ...             ...  ...             ...             ...   \n",
       "1529        0.000000     2237.180181  ...            17.0             0.0   \n",
       "1530     6163.690446    10526.548720  ...            28.0            39.0   \n",
       "1531     3735.879274     8774.460732  ...             0.0            18.0   \n",
       "1532     8772.518529     4581.943632  ...             7.0            48.0   \n",
       "1533        0.000000     7622.453034  ...            26.0             0.0   \n",
       "\n",
       "      duration_sum_8  duration_sum_9  duration_sum_10  duration_sum_11  \\\n",
       "0               46.0             0.0             32.0             56.0   \n",
       "1                7.0             0.0             19.0              0.0   \n",
       "2                0.0            23.0              0.0              0.0   \n",
       "3               36.0             0.0             79.0             28.0   \n",
       "4               18.0             0.0             20.0              0.0   \n",
       "...              ...             ...              ...              ...   \n",
       "1529            11.0             0.0             73.0             37.0   \n",
       "1530            58.0            21.0             33.0             35.0   \n",
       "1531            47.0             0.0             21.0             60.0   \n",
       "1532            22.0             0.0              0.0             26.0   \n",
       "1533            48.0            23.0              0.0             78.0   \n",
       "\n",
       "      duration_sum_12  minute_price  start_ride_price  subscription_fee  \n",
       "0                28.0             6                 0               199  \n",
       "1                12.0             6                 0               199  \n",
       "2                13.0             6                 0               199  \n",
       "3                 0.0             6                 0               199  \n",
       "4                 0.0             6                 0               199  \n",
       "...               ...           ...               ...               ...  \n",
       "1529              0.0             8                50                 0  \n",
       "1530              0.0             8                50                 0  \n",
       "1531             42.0             8                50                 0  \n",
       "1532              0.0             8                50                 0  \n",
       "1533             16.0             8                50                 0  \n",
       "\n",
       "[1534 rows x 41 columns]"
      ],
      "text/html": [
       "<div>\n",
       "<style scoped>\n",
       "    .dataframe tbody tr th:only-of-type {\n",
       "        vertical-align: middle;\n",
       "    }\n",
       "\n",
       "    .dataframe tbody tr th {\n",
       "        vertical-align: top;\n",
       "    }\n",
       "\n",
       "    .dataframe thead th {\n",
       "        text-align: right;\n",
       "    }\n",
       "</style>\n",
       "<table border=\"1\" class=\"dataframe\">\n",
       "  <thead>\n",
       "    <tr style=\"text-align: right;\">\n",
       "      <th></th>\n",
       "      <th>user_id</th>\n",
       "      <th>subscription_type</th>\n",
       "      <th>distance_sum_1</th>\n",
       "      <th>distance_sum_2</th>\n",
       "      <th>distance_sum_3</th>\n",
       "      <th>distance_sum_4</th>\n",
       "      <th>distance_sum_5</th>\n",
       "      <th>distance_sum_6</th>\n",
       "      <th>distance_sum_7</th>\n",
       "      <th>distance_sum_8</th>\n",
       "      <th>...</th>\n",
       "      <th>duration_sum_6</th>\n",
       "      <th>duration_sum_7</th>\n",
       "      <th>duration_sum_8</th>\n",
       "      <th>duration_sum_9</th>\n",
       "      <th>duration_sum_10</th>\n",
       "      <th>duration_sum_11</th>\n",
       "      <th>duration_sum_12</th>\n",
       "      <th>minute_price</th>\n",
       "      <th>start_ride_price</th>\n",
       "      <th>subscription_fee</th>\n",
       "    </tr>\n",
       "  </thead>\n",
       "  <tbody>\n",
       "    <tr>\n",
       "      <th>0</th>\n",
       "      <td>1</td>\n",
       "      <td>ultra</td>\n",
       "      <td>7027.511294</td>\n",
       "      <td>0.000000</td>\n",
       "      <td>0.000000</td>\n",
       "      <td>754.159807</td>\n",
       "      <td>0.000000</td>\n",
       "      <td>0.000000</td>\n",
       "      <td>0.000000</td>\n",
       "      <td>6723.470560</td>\n",
       "      <td>...</td>\n",
       "      <td>0.0</td>\n",
       "      <td>0.0</td>\n",
       "      <td>46.0</td>\n",
       "      <td>0.0</td>\n",
       "      <td>32.0</td>\n",
       "      <td>56.0</td>\n",
       "      <td>28.0</td>\n",
       "      <td>6</td>\n",
       "      <td>0</td>\n",
       "      <td>199</td>\n",
       "    </tr>\n",
       "    <tr>\n",
       "      <th>1</th>\n",
       "      <td>2</td>\n",
       "      <td>ultra</td>\n",
       "      <td>0.000000</td>\n",
       "      <td>0.000000</td>\n",
       "      <td>10187.723006</td>\n",
       "      <td>6164.381824</td>\n",
       "      <td>0.000000</td>\n",
       "      <td>3255.338202</td>\n",
       "      <td>6780.722964</td>\n",
       "      <td>923.007439</td>\n",
       "      <td>...</td>\n",
       "      <td>14.0</td>\n",
       "      <td>48.0</td>\n",
       "      <td>7.0</td>\n",
       "      <td>0.0</td>\n",
       "      <td>19.0</td>\n",
       "      <td>0.0</td>\n",
       "      <td>12.0</td>\n",
       "      <td>6</td>\n",
       "      <td>0</td>\n",
       "      <td>199</td>\n",
       "    </tr>\n",
       "    <tr>\n",
       "      <th>2</th>\n",
       "      <td>3</td>\n",
       "      <td>ultra</td>\n",
       "      <td>3061.777147</td>\n",
       "      <td>5421.152016</td>\n",
       "      <td>0.000000</td>\n",
       "      <td>2956.651632</td>\n",
       "      <td>9064.026918</td>\n",
       "      <td>0.000000</td>\n",
       "      <td>10919.595403</td>\n",
       "      <td>0.000000</td>\n",
       "      <td>...</td>\n",
       "      <td>0.0</td>\n",
       "      <td>67.0</td>\n",
       "      <td>0.0</td>\n",
       "      <td>23.0</td>\n",
       "      <td>0.0</td>\n",
       "      <td>0.0</td>\n",
       "      <td>13.0</td>\n",
       "      <td>6</td>\n",
       "      <td>0</td>\n",
       "      <td>199</td>\n",
       "    </tr>\n",
       "    <tr>\n",
       "      <th>3</th>\n",
       "      <td>4</td>\n",
       "      <td>ultra</td>\n",
       "      <td>0.000000</td>\n",
       "      <td>6339.696747</td>\n",
       "      <td>0.000000</td>\n",
       "      <td>0.000000</td>\n",
       "      <td>0.000000</td>\n",
       "      <td>6753.041806</td>\n",
       "      <td>10491.175555</td>\n",
       "      <td>4649.488243</td>\n",
       "      <td>...</td>\n",
       "      <td>45.0</td>\n",
       "      <td>56.0</td>\n",
       "      <td>36.0</td>\n",
       "      <td>0.0</td>\n",
       "      <td>79.0</td>\n",
       "      <td>28.0</td>\n",
       "      <td>0.0</td>\n",
       "      <td>6</td>\n",
       "      <td>0</td>\n",
       "      <td>199</td>\n",
       "    </tr>\n",
       "    <tr>\n",
       "      <th>4</th>\n",
       "      <td>5</td>\n",
       "      <td>ultra</td>\n",
       "      <td>3914.646990</td>\n",
       "      <td>2561.108241</td>\n",
       "      <td>10633.732186</td>\n",
       "      <td>3373.080412</td>\n",
       "      <td>5823.074031</td>\n",
       "      <td>0.000000</td>\n",
       "      <td>3311.974724</td>\n",
       "      <td>2720.817111</td>\n",
       "      <td>...</td>\n",
       "      <td>0.0</td>\n",
       "      <td>12.0</td>\n",
       "      <td>18.0</td>\n",
       "      <td>0.0</td>\n",
       "      <td>20.0</td>\n",
       "      <td>0.0</td>\n",
       "      <td>0.0</td>\n",
       "      <td>6</td>\n",
       "      <td>0</td>\n",
       "      <td>199</td>\n",
       "    </tr>\n",
       "    <tr>\n",
       "      <th>...</th>\n",
       "      <td>...</td>\n",
       "      <td>...</td>\n",
       "      <td>...</td>\n",
       "      <td>...</td>\n",
       "      <td>...</td>\n",
       "      <td>...</td>\n",
       "      <td>...</td>\n",
       "      <td>...</td>\n",
       "      <td>...</td>\n",
       "      <td>...</td>\n",
       "      <td>...</td>\n",
       "      <td>...</td>\n",
       "      <td>...</td>\n",
       "      <td>...</td>\n",
       "      <td>...</td>\n",
       "      <td>...</td>\n",
       "      <td>...</td>\n",
       "      <td>...</td>\n",
       "      <td>...</td>\n",
       "      <td>...</td>\n",
       "      <td>...</td>\n",
       "    </tr>\n",
       "    <tr>\n",
       "      <th>1529</th>\n",
       "      <td>1530</td>\n",
       "      <td>free</td>\n",
       "      <td>239.330892</td>\n",
       "      <td>2724.331740</td>\n",
       "      <td>6618.024550</td>\n",
       "      <td>9846.644422</td>\n",
       "      <td>7606.452979</td>\n",
       "      <td>2587.068383</td>\n",
       "      <td>0.000000</td>\n",
       "      <td>2237.180181</td>\n",
       "      <td>...</td>\n",
       "      <td>17.0</td>\n",
       "      <td>0.0</td>\n",
       "      <td>11.0</td>\n",
       "      <td>0.0</td>\n",
       "      <td>73.0</td>\n",
       "      <td>37.0</td>\n",
       "      <td>0.0</td>\n",
       "      <td>8</td>\n",
       "      <td>50</td>\n",
       "      <td>0</td>\n",
       "    </tr>\n",
       "    <tr>\n",
       "      <th>1530</th>\n",
       "      <td>1531</td>\n",
       "      <td>free</td>\n",
       "      <td>711.666072</td>\n",
       "      <td>3022.478610</td>\n",
       "      <td>0.000000</td>\n",
       "      <td>13021.538366</td>\n",
       "      <td>13526.161364</td>\n",
       "      <td>4041.878778</td>\n",
       "      <td>6163.690446</td>\n",
       "      <td>10526.548720</td>\n",
       "      <td>...</td>\n",
       "      <td>28.0</td>\n",
       "      <td>39.0</td>\n",
       "      <td>58.0</td>\n",
       "      <td>21.0</td>\n",
       "      <td>33.0</td>\n",
       "      <td>35.0</td>\n",
       "      <td>0.0</td>\n",
       "      <td>8</td>\n",
       "      <td>50</td>\n",
       "      <td>0</td>\n",
       "    </tr>\n",
       "    <tr>\n",
       "      <th>1531</th>\n",
       "      <td>1532</td>\n",
       "      <td>free</td>\n",
       "      <td>2615.477834</td>\n",
       "      <td>0.000000</td>\n",
       "      <td>0.000000</td>\n",
       "      <td>842.097458</td>\n",
       "      <td>303.787850</td>\n",
       "      <td>0.000000</td>\n",
       "      <td>3735.879274</td>\n",
       "      <td>8774.460732</td>\n",
       "      <td>...</td>\n",
       "      <td>0.0</td>\n",
       "      <td>18.0</td>\n",
       "      <td>47.0</td>\n",
       "      <td>0.0</td>\n",
       "      <td>21.0</td>\n",
       "      <td>60.0</td>\n",
       "      <td>42.0</td>\n",
       "      <td>8</td>\n",
       "      <td>50</td>\n",
       "      <td>0</td>\n",
       "    </tr>\n",
       "    <tr>\n",
       "      <th>1532</th>\n",
       "      <td>1533</td>\n",
       "      <td>free</td>\n",
       "      <td>3438.600356</td>\n",
       "      <td>310.488247</td>\n",
       "      <td>12822.696276</td>\n",
       "      <td>2514.498956</td>\n",
       "      <td>0.000000</td>\n",
       "      <td>1034.998188</td>\n",
       "      <td>8772.518529</td>\n",
       "      <td>4581.943632</td>\n",
       "      <td>...</td>\n",
       "      <td>7.0</td>\n",
       "      <td>48.0</td>\n",
       "      <td>22.0</td>\n",
       "      <td>0.0</td>\n",
       "      <td>0.0</td>\n",
       "      <td>26.0</td>\n",
       "      <td>0.0</td>\n",
       "      <td>8</td>\n",
       "      <td>50</td>\n",
       "      <td>0</td>\n",
       "    </tr>\n",
       "    <tr>\n",
       "      <th>1533</th>\n",
       "      <td>1534</td>\n",
       "      <td>free</td>\n",
       "      <td>4678.415899</td>\n",
       "      <td>2103.914120</td>\n",
       "      <td>0.000000</td>\n",
       "      <td>3434.290912</td>\n",
       "      <td>0.000000</td>\n",
       "      <td>3409.468534</td>\n",
       "      <td>0.000000</td>\n",
       "      <td>7622.453034</td>\n",
       "      <td>...</td>\n",
       "      <td>26.0</td>\n",
       "      <td>0.0</td>\n",
       "      <td>48.0</td>\n",
       "      <td>23.0</td>\n",
       "      <td>0.0</td>\n",
       "      <td>78.0</td>\n",
       "      <td>16.0</td>\n",
       "      <td>8</td>\n",
       "      <td>50</td>\n",
       "      <td>0</td>\n",
       "    </tr>\n",
       "  </tbody>\n",
       "</table>\n",
       "<p>1534 rows × 41 columns</p>\n",
       "</div>"
      ]
     },
     "execution_count": 17,
     "metadata": {},
     "output_type": "execute_result"
    }
   ],
   "execution_count": 17
  },
  {
   "cell_type": "markdown",
   "id": "54d26fba4c86fc8",
   "metadata": {},
   "source": [
    "Добавим столбец с помесячной выручкой"
   ]
  },
  {
   "cell_type": "code",
   "id": "b6564a5c1ec5024f",
   "metadata": {
    "ExecuteTime": {
     "end_time": "2024-07-23T09:53:01.086545Z",
     "start_time": "2024-07-23T09:52:59.312193Z"
    }
   },
   "source": [
    "def count_income (start_price, count_rides, minute_price, total_duration, subscription_fee):\n",
    "    return start_price * count_rides + minute_price * total_duration + subscription_fee\n",
    "\n",
    "def set_monthly_income(row):\n",
    "    start_price = row['start_ride_price']\n",
    "    minute_price = row['minute_price']\n",
    "    subscription_fee = row['subscription_fee']\n",
    "\n",
    "    for i in range(1, 13):\n",
    "        count_rides_col = f'duration_count_{i}'\n",
    "        total_duration_col = f'duration_sum_{i}'\n",
    "        \n",
    "        count_rides = row[count_rides_col]\n",
    "        total_duration = row[total_duration_col]\n",
    "\n",
    "        income = count_income(start_price, count_rides, minute_price, total_duration, subscription_fee)\n",
    "\n",
    "        income_col = f'monthly_income_{i}'\n",
    "        row[income_col] = income\n",
    "\n",
    "    return row\n",
    "\n",
    "rides_df = rides_df.apply(set_monthly_income, axis=1)\n",
    "\n",
    "rides_df"
   ],
   "outputs": [
    {
     "data": {
      "text/plain": [
       "      user_id subscription_type  distance_sum_1  distance_sum_2  \\\n",
       "0           1             ultra     7027.511294        0.000000   \n",
       "1           2             ultra        0.000000        0.000000   \n",
       "2           3             ultra     3061.777147     5421.152016   \n",
       "3           4             ultra        0.000000     6339.696747   \n",
       "4           5             ultra     3914.646990     2561.108241   \n",
       "...       ...               ...             ...             ...   \n",
       "1529     1530              free      239.330892     2724.331740   \n",
       "1530     1531              free      711.666072     3022.478610   \n",
       "1531     1532              free     2615.477834        0.000000   \n",
       "1532     1533              free     3438.600356      310.488247   \n",
       "1533     1534              free     4678.415899     2103.914120   \n",
       "\n",
       "      distance_sum_3  distance_sum_4  distance_sum_5  distance_sum_6  \\\n",
       "0           0.000000      754.159807        0.000000        0.000000   \n",
       "1       10187.723006     6164.381824        0.000000     3255.338202   \n",
       "2           0.000000     2956.651632     9064.026918        0.000000   \n",
       "3           0.000000        0.000000        0.000000     6753.041806   \n",
       "4       10633.732186     3373.080412     5823.074031        0.000000   \n",
       "...              ...             ...             ...             ...   \n",
       "1529     6618.024550     9846.644422     7606.452979     2587.068383   \n",
       "1530        0.000000    13021.538366    13526.161364     4041.878778   \n",
       "1531        0.000000      842.097458      303.787850        0.000000   \n",
       "1532    12822.696276     2514.498956        0.000000     1034.998188   \n",
       "1533        0.000000     3434.290912        0.000000     3409.468534   \n",
       "\n",
       "      distance_sum_7  distance_sum_8  ...  monthly_income_3  monthly_income_4  \\\n",
       "0           0.000000     6723.470560  ...             199.0             241.0   \n",
       "1        6780.722964      923.007439  ...             577.0             439.0   \n",
       "2       10919.595403        0.000000  ...             199.0             325.0   \n",
       "3       10491.175555     4649.488243  ...             199.0             199.0   \n",
       "4        3311.974724     2720.817111  ...             541.0             289.0   \n",
       "...              ...             ...  ...               ...               ...   \n",
       "1529        0.000000     2237.180181  ...             324.0             580.0   \n",
       "1530     6163.690446    10526.548720  ...               0.0             840.0   \n",
       "1531     3735.879274     8774.460732  ...               0.0             122.0   \n",
       "1532     8772.518529     4581.943632  ...             944.0             194.0   \n",
       "1533        0.000000     7622.453034  ...               0.0             170.0   \n",
       "\n",
       "      monthly_income_5  monthly_income_6  monthly_income_7  monthly_income_8  \\\n",
       "0                199.0             199.0             199.0             475.0   \n",
       "1                199.0             283.0             487.0             241.0   \n",
       "2                577.0             199.0             601.0             199.0   \n",
       "3                199.0             469.0             535.0             415.0   \n",
       "4                397.0             199.0             271.0             307.0   \n",
       "...                ...               ...               ...               ...   \n",
       "1529             412.0             186.0               0.0             138.0   \n",
       "1530             784.0             324.0             412.0             614.0   \n",
       "1531             114.0               0.0             194.0             476.0   \n",
       "1532               0.0             106.0             534.0             226.0   \n",
       "1533               0.0             308.0               0.0             484.0   \n",
       "\n",
       "      monthly_income_9  monthly_income_10  monthly_income_11  \\\n",
       "0                199.0              391.0              535.0   \n",
       "1                199.0              313.0              199.0   \n",
       "2                337.0              199.0              199.0   \n",
       "3                199.0              673.0              367.0   \n",
       "4                199.0              319.0              199.0   \n",
       "...                ...                ...                ...   \n",
       "1529               0.0              784.0              396.0   \n",
       "1530             218.0              364.0              380.0   \n",
       "1531               0.0              218.0              680.0   \n",
       "1532               0.0                0.0              258.0   \n",
       "1533             234.0                0.0              824.0   \n",
       "\n",
       "      monthly_income_12  \n",
       "0                 367.0  \n",
       "1                 271.0  \n",
       "2                 277.0  \n",
       "3                 199.0  \n",
       "4                 199.0  \n",
       "...                 ...  \n",
       "1529                0.0  \n",
       "1530                0.0  \n",
       "1531              436.0  \n",
       "1532                0.0  \n",
       "1533              178.0  \n",
       "\n",
       "[1534 rows x 53 columns]"
      ],
      "text/html": [
       "<div>\n",
       "<style scoped>\n",
       "    .dataframe tbody tr th:only-of-type {\n",
       "        vertical-align: middle;\n",
       "    }\n",
       "\n",
       "    .dataframe tbody tr th {\n",
       "        vertical-align: top;\n",
       "    }\n",
       "\n",
       "    .dataframe thead th {\n",
       "        text-align: right;\n",
       "    }\n",
       "</style>\n",
       "<table border=\"1\" class=\"dataframe\">\n",
       "  <thead>\n",
       "    <tr style=\"text-align: right;\">\n",
       "      <th></th>\n",
       "      <th>user_id</th>\n",
       "      <th>subscription_type</th>\n",
       "      <th>distance_sum_1</th>\n",
       "      <th>distance_sum_2</th>\n",
       "      <th>distance_sum_3</th>\n",
       "      <th>distance_sum_4</th>\n",
       "      <th>distance_sum_5</th>\n",
       "      <th>distance_sum_6</th>\n",
       "      <th>distance_sum_7</th>\n",
       "      <th>distance_sum_8</th>\n",
       "      <th>...</th>\n",
       "      <th>monthly_income_3</th>\n",
       "      <th>monthly_income_4</th>\n",
       "      <th>monthly_income_5</th>\n",
       "      <th>monthly_income_6</th>\n",
       "      <th>monthly_income_7</th>\n",
       "      <th>monthly_income_8</th>\n",
       "      <th>monthly_income_9</th>\n",
       "      <th>monthly_income_10</th>\n",
       "      <th>monthly_income_11</th>\n",
       "      <th>monthly_income_12</th>\n",
       "    </tr>\n",
       "  </thead>\n",
       "  <tbody>\n",
       "    <tr>\n",
       "      <th>0</th>\n",
       "      <td>1</td>\n",
       "      <td>ultra</td>\n",
       "      <td>7027.511294</td>\n",
       "      <td>0.000000</td>\n",
       "      <td>0.000000</td>\n",
       "      <td>754.159807</td>\n",
       "      <td>0.000000</td>\n",
       "      <td>0.000000</td>\n",
       "      <td>0.000000</td>\n",
       "      <td>6723.470560</td>\n",
       "      <td>...</td>\n",
       "      <td>199.0</td>\n",
       "      <td>241.0</td>\n",
       "      <td>199.0</td>\n",
       "      <td>199.0</td>\n",
       "      <td>199.0</td>\n",
       "      <td>475.0</td>\n",
       "      <td>199.0</td>\n",
       "      <td>391.0</td>\n",
       "      <td>535.0</td>\n",
       "      <td>367.0</td>\n",
       "    </tr>\n",
       "    <tr>\n",
       "      <th>1</th>\n",
       "      <td>2</td>\n",
       "      <td>ultra</td>\n",
       "      <td>0.000000</td>\n",
       "      <td>0.000000</td>\n",
       "      <td>10187.723006</td>\n",
       "      <td>6164.381824</td>\n",
       "      <td>0.000000</td>\n",
       "      <td>3255.338202</td>\n",
       "      <td>6780.722964</td>\n",
       "      <td>923.007439</td>\n",
       "      <td>...</td>\n",
       "      <td>577.0</td>\n",
       "      <td>439.0</td>\n",
       "      <td>199.0</td>\n",
       "      <td>283.0</td>\n",
       "      <td>487.0</td>\n",
       "      <td>241.0</td>\n",
       "      <td>199.0</td>\n",
       "      <td>313.0</td>\n",
       "      <td>199.0</td>\n",
       "      <td>271.0</td>\n",
       "    </tr>\n",
       "    <tr>\n",
       "      <th>2</th>\n",
       "      <td>3</td>\n",
       "      <td>ultra</td>\n",
       "      <td>3061.777147</td>\n",
       "      <td>5421.152016</td>\n",
       "      <td>0.000000</td>\n",
       "      <td>2956.651632</td>\n",
       "      <td>9064.026918</td>\n",
       "      <td>0.000000</td>\n",
       "      <td>10919.595403</td>\n",
       "      <td>0.000000</td>\n",
       "      <td>...</td>\n",
       "      <td>199.0</td>\n",
       "      <td>325.0</td>\n",
       "      <td>577.0</td>\n",
       "      <td>199.0</td>\n",
       "      <td>601.0</td>\n",
       "      <td>199.0</td>\n",
       "      <td>337.0</td>\n",
       "      <td>199.0</td>\n",
       "      <td>199.0</td>\n",
       "      <td>277.0</td>\n",
       "    </tr>\n",
       "    <tr>\n",
       "      <th>3</th>\n",
       "      <td>4</td>\n",
       "      <td>ultra</td>\n",
       "      <td>0.000000</td>\n",
       "      <td>6339.696747</td>\n",
       "      <td>0.000000</td>\n",
       "      <td>0.000000</td>\n",
       "      <td>0.000000</td>\n",
       "      <td>6753.041806</td>\n",
       "      <td>10491.175555</td>\n",
       "      <td>4649.488243</td>\n",
       "      <td>...</td>\n",
       "      <td>199.0</td>\n",
       "      <td>199.0</td>\n",
       "      <td>199.0</td>\n",
       "      <td>469.0</td>\n",
       "      <td>535.0</td>\n",
       "      <td>415.0</td>\n",
       "      <td>199.0</td>\n",
       "      <td>673.0</td>\n",
       "      <td>367.0</td>\n",
       "      <td>199.0</td>\n",
       "    </tr>\n",
       "    <tr>\n",
       "      <th>4</th>\n",
       "      <td>5</td>\n",
       "      <td>ultra</td>\n",
       "      <td>3914.646990</td>\n",
       "      <td>2561.108241</td>\n",
       "      <td>10633.732186</td>\n",
       "      <td>3373.080412</td>\n",
       "      <td>5823.074031</td>\n",
       "      <td>0.000000</td>\n",
       "      <td>3311.974724</td>\n",
       "      <td>2720.817111</td>\n",
       "      <td>...</td>\n",
       "      <td>541.0</td>\n",
       "      <td>289.0</td>\n",
       "      <td>397.0</td>\n",
       "      <td>199.0</td>\n",
       "      <td>271.0</td>\n",
       "      <td>307.0</td>\n",
       "      <td>199.0</td>\n",
       "      <td>319.0</td>\n",
       "      <td>199.0</td>\n",
       "      <td>199.0</td>\n",
       "    </tr>\n",
       "    <tr>\n",
       "      <th>...</th>\n",
       "      <td>...</td>\n",
       "      <td>...</td>\n",
       "      <td>...</td>\n",
       "      <td>...</td>\n",
       "      <td>...</td>\n",
       "      <td>...</td>\n",
       "      <td>...</td>\n",
       "      <td>...</td>\n",
       "      <td>...</td>\n",
       "      <td>...</td>\n",
       "      <td>...</td>\n",
       "      <td>...</td>\n",
       "      <td>...</td>\n",
       "      <td>...</td>\n",
       "      <td>...</td>\n",
       "      <td>...</td>\n",
       "      <td>...</td>\n",
       "      <td>...</td>\n",
       "      <td>...</td>\n",
       "      <td>...</td>\n",
       "      <td>...</td>\n",
       "    </tr>\n",
       "    <tr>\n",
       "      <th>1529</th>\n",
       "      <td>1530</td>\n",
       "      <td>free</td>\n",
       "      <td>239.330892</td>\n",
       "      <td>2724.331740</td>\n",
       "      <td>6618.024550</td>\n",
       "      <td>9846.644422</td>\n",
       "      <td>7606.452979</td>\n",
       "      <td>2587.068383</td>\n",
       "      <td>0.000000</td>\n",
       "      <td>2237.180181</td>\n",
       "      <td>...</td>\n",
       "      <td>324.0</td>\n",
       "      <td>580.0</td>\n",
       "      <td>412.0</td>\n",
       "      <td>186.0</td>\n",
       "      <td>0.0</td>\n",
       "      <td>138.0</td>\n",
       "      <td>0.0</td>\n",
       "      <td>784.0</td>\n",
       "      <td>396.0</td>\n",
       "      <td>0.0</td>\n",
       "    </tr>\n",
       "    <tr>\n",
       "      <th>1530</th>\n",
       "      <td>1531</td>\n",
       "      <td>free</td>\n",
       "      <td>711.666072</td>\n",
       "      <td>3022.478610</td>\n",
       "      <td>0.000000</td>\n",
       "      <td>13021.538366</td>\n",
       "      <td>13526.161364</td>\n",
       "      <td>4041.878778</td>\n",
       "      <td>6163.690446</td>\n",
       "      <td>10526.548720</td>\n",
       "      <td>...</td>\n",
       "      <td>0.0</td>\n",
       "      <td>840.0</td>\n",
       "      <td>784.0</td>\n",
       "      <td>324.0</td>\n",
       "      <td>412.0</td>\n",
       "      <td>614.0</td>\n",
       "      <td>218.0</td>\n",
       "      <td>364.0</td>\n",
       "      <td>380.0</td>\n",
       "      <td>0.0</td>\n",
       "    </tr>\n",
       "    <tr>\n",
       "      <th>1531</th>\n",
       "      <td>1532</td>\n",
       "      <td>free</td>\n",
       "      <td>2615.477834</td>\n",
       "      <td>0.000000</td>\n",
       "      <td>0.000000</td>\n",
       "      <td>842.097458</td>\n",
       "      <td>303.787850</td>\n",
       "      <td>0.000000</td>\n",
       "      <td>3735.879274</td>\n",
       "      <td>8774.460732</td>\n",
       "      <td>...</td>\n",
       "      <td>0.0</td>\n",
       "      <td>122.0</td>\n",
       "      <td>114.0</td>\n",
       "      <td>0.0</td>\n",
       "      <td>194.0</td>\n",
       "      <td>476.0</td>\n",
       "      <td>0.0</td>\n",
       "      <td>218.0</td>\n",
       "      <td>680.0</td>\n",
       "      <td>436.0</td>\n",
       "    </tr>\n",
       "    <tr>\n",
       "      <th>1532</th>\n",
       "      <td>1533</td>\n",
       "      <td>free</td>\n",
       "      <td>3438.600356</td>\n",
       "      <td>310.488247</td>\n",
       "      <td>12822.696276</td>\n",
       "      <td>2514.498956</td>\n",
       "      <td>0.000000</td>\n",
       "      <td>1034.998188</td>\n",
       "      <td>8772.518529</td>\n",
       "      <td>4581.943632</td>\n",
       "      <td>...</td>\n",
       "      <td>944.0</td>\n",
       "      <td>194.0</td>\n",
       "      <td>0.0</td>\n",
       "      <td>106.0</td>\n",
       "      <td>534.0</td>\n",
       "      <td>226.0</td>\n",
       "      <td>0.0</td>\n",
       "      <td>0.0</td>\n",
       "      <td>258.0</td>\n",
       "      <td>0.0</td>\n",
       "    </tr>\n",
       "    <tr>\n",
       "      <th>1533</th>\n",
       "      <td>1534</td>\n",
       "      <td>free</td>\n",
       "      <td>4678.415899</td>\n",
       "      <td>2103.914120</td>\n",
       "      <td>0.000000</td>\n",
       "      <td>3434.290912</td>\n",
       "      <td>0.000000</td>\n",
       "      <td>3409.468534</td>\n",
       "      <td>0.000000</td>\n",
       "      <td>7622.453034</td>\n",
       "      <td>...</td>\n",
       "      <td>0.0</td>\n",
       "      <td>170.0</td>\n",
       "      <td>0.0</td>\n",
       "      <td>308.0</td>\n",
       "      <td>0.0</td>\n",
       "      <td>484.0</td>\n",
       "      <td>234.0</td>\n",
       "      <td>0.0</td>\n",
       "      <td>824.0</td>\n",
       "      <td>178.0</td>\n",
       "    </tr>\n",
       "  </tbody>\n",
       "</table>\n",
       "<p>1534 rows × 53 columns</p>\n",
       "</div>"
      ]
     },
     "execution_count": 18,
     "metadata": {},
     "output_type": "execute_result"
    }
   ],
   "execution_count": 18
  },
  {
   "cell_type": "markdown",
   "id": "41545ac0",
   "metadata": {},
   "source": [
    "#### Шаг 6. Проверка гипотез"
   ]
  },
  {
   "cell_type": "code",
   "id": "9887c77d93b9ae40",
   "metadata": {
    "ExecuteTime": {
     "end_time": "2024-07-23T09:53:01.088871Z",
     "start_time": "2024-07-23T09:53:01.087119Z"
    }
   },
   "source": [
    "alpha = 0.05"
   ],
   "outputs": [],
   "execution_count": 19
  },
  {
   "cell_type": "markdown",
   "id": "e6f5ab7f3e21fd82",
   "metadata": {},
   "source": [
    "Тратят ли пользователи с подпиской больше времени на поездки?\n",
    "\n",
    "\n",
    "Нулевая гипотеза - Среднее время поездки пользователей с подпиской не больше среднего времени поездки пользователей без подписки <br />\n",
    "Альтернативная гипотеза - Среднее время поездки пользователей с подпиской больше среднего времени поездки пользователей без подписки"
   ]
  },
  {
   "cell_type": "code",
   "id": "23ea867b",
   "metadata": {
    "ExecuteTime": {
     "end_time": "2024-07-23T09:53:01.093675Z",
     "start_time": "2024-07-23T09:53:01.089549Z"
    }
   },
   "source": [
    "results = st.ttest_ind(with_subscription['duration'], without_subscription['duration'], alternative='greater')\n",
    "\n",
    "print(f'P-value: {results.pvalue}')\n",
    "if results.pvalue < alpha:\n",
    "    print('Отвергаем нулевую гипотезу. Пользователи с подпиской действительно тратят больше времени на поездки')\n",
    "else:\n",
    "    print('Не удалось отвергнуть нулевую гипотезу. Нет достаточных доказательств того, что пользователи с подпиской тратят больше времени на поездки')"
   ],
   "outputs": [
    {
     "name": "stdout",
     "output_type": "stream",
     "text": [
      "P-value: 1.2804098316645618e-34\n",
      "Отвергаем нулевую гипотезу. Пользователи с подпиской действительно тратят больше времени на поездки\n"
     ]
    }
   ],
   "execution_count": 20
  },
  {
   "cell_type": "markdown",
   "id": "d2699bf72cf7d8b3",
   "metadata": {},
   "source": [
    "Можно ли сказать, что среднее расстояние, которое проезжают пользователи с подпиской за одну поездку, не превышает 3130 метров? \n",
    "\n",
    "Нулевая гипотеза - среднее расстояние, которое проезжают пользователи с подпиской за одну поездку, не превышает 3130 метров <br />\n",
    "Альтернативная гипотеза - среднее расстояние, которое проезжают пользователи с подпиской за одну поездку, превышает 3130 метров"
   ]
  },
  {
   "cell_type": "code",
   "id": "ce6620565a679ff",
   "metadata": {
    "ExecuteTime": {
     "end_time": "2024-07-23T09:53:01.096807Z",
     "start_time": "2024-07-23T09:53:01.094240Z"
    }
   },
   "source": [
    "distance = 3130\n",
    "\n",
    "results = st.ttest_1samp(with_subscription['distance'], distance, alternative='greater')\n",
    "\n",
    "print(f'P-value: {results.pvalue}')\n",
    "if results.pvalue < alpha:\n",
    "    print('Отвергаем нулевую гипотезу. Пользователи с подпиской проезжают за одну поездку больше 3130 метров')\n",
    "else:\n",
    "    print('Не удалось отвергнуть нулевую гипотезу. Нет достаточных доказательств, что пользователи с подпиской проезжают за одну поездку больше 3130 метров')"
   ],
   "outputs": [
    {
     "name": "stdout",
     "output_type": "stream",
     "text": [
      "P-value: 0.9195368847849785\n",
      "Не удалось отвергнуть нулевую гипотезу. Нет достаточных доказательств, что пользователи с подпиской проезжают за одну поездку больше 3130 метров\n"
     ]
    }
   ],
   "execution_count": 21
  },
  {
   "cell_type": "markdown",
   "id": "70d7abf39c7e588a",
   "metadata": {},
   "source": [
    "Будет ли помесячная выручка от пользователей с подпиской по месяцам выше, чем выручка от пользователей без подписки?\n",
    "\n",
    "Нулевая гипотеза - месячная выручка от пользователей с подпиской по месяцам не выше, чем выручка от пользователей без подписки <br />\n",
    "Альтернативная гипотеза - месячная выручка от пользователей с подпиской по месяцам выше, чем выручка от пользователей без подписки"
   ]
  },
  {
   "cell_type": "code",
   "id": "c2a05804f84ae54b",
   "metadata": {
    "ExecuteTime": {
     "end_time": "2024-07-23T09:53:01.102206Z",
     "start_time": "2024-07-23T09:53:01.097423Z"
    }
   },
   "source": [
    "monthly_income_columns = [f'monthly_income_{i}' for i in range(1, 13)]\n",
    "\n",
    "monthly_income_with_sub = rides_df[rides_df['subscription_type'] == 'ultra'][monthly_income_columns]\n",
    "monthly_income_without_sub = rides_df[rides_df['subscription_type'] == 'free'][monthly_income_columns]\n",
    "\n",
    "income_arr_with_sub = monthly_income_with_sub.values.flatten()\n",
    "income_arr_without_sub = monthly_income_without_sub.values.flatten()\n",
    "\n",
    "results = st.ttest_ind(income_arr_with_sub, income_arr_without_sub, alternative='greater')\n",
    "\n",
    "if results.pvalue < alpha:\n",
    "    print('Отвергаем нулевую гипотезу. Месячная выручка по месяцам от пользователей с подпиской выше, чем выручка от пользователей без подписки')\n",
    "else:\n",
    "    print('Не удалось отвергнуть нулевую гипотезу. Нет достаточных доказательств, что месячная выручка по месяцам от пользователей с подпиской выше, чем выручка от пользователей без подписки')"
   ],
   "outputs": [
    {
     "name": "stdout",
     "output_type": "stream",
     "text": [
      "Отвергаем нулевую гипотезу. Месячная выручка по месяцам от пользователей с подпиской выше, чем выручка от пользователей без подписки\n"
     ]
    }
   ],
   "execution_count": 22
  },
  {
   "cell_type": "markdown",
   "id": "e2f718fd70e071cf",
   "metadata": {},
   "source": [
    "Месячная выручка по месяцам от пользователей с подпиской вероятнее всего больше, чем у пользователей без подписки"
   ]
  },
  {
   "cell_type": "markdown",
   "id": "a091f7699b3dbd1b",
   "metadata": {},
   "source": [
    "Представьте такую ситуацию: техническая команда сервиса обновила сервера, с которыми взаимодействует мобильное приложение. Она надеется, что из-за этого количество обращений в техподдержку значимо снизилось. Некоторый файл содержит для каждого пользователя данные о количестве обращений до обновления и после него. Какой тест вам понадобился бы для проверки этой гипотезы?\n",
    "\n",
    "Ответ: Двухвыборочный t-тест для зависимых выборок"
   ]
  },
  {
   "cell_type": "markdown",
   "id": "61213c5e",
   "metadata": {},
   "source": [
    "#### Шаг 7. Распределения"
   ]
  },
  {
   "cell_type": "markdown",
   "id": "d12997dbd2382f35",
   "metadata": {},
   "source": [
    "7.1 <br/>\n",
    "Цель: 100+ клиентов должны продлить подписку <br />\n",
    "Вероятность продления подписки после тестового периода: 10% (0.1)\n",
    "\n",
    "Задача: найти какое минимальное количество промокодов нужно разослать, чтобы вероятность НЕ выполнить план была примерно 5%"
   ]
  },
  {
   "cell_type": "code",
   "id": "95cd1d51",
   "metadata": {
    "ExecuteTime": {
     "end_time": "2024-07-23T09:53:01.550006Z",
     "start_time": "2024-07-23T09:53:01.102749Z"
    }
   },
   "source": [
    "p = 0.1\n",
    "target = 100\n",
    "# n - количество промокодов\n",
    "n = 100\n",
    "while True:\n",
    "    prob = st.binom.cdf(target - 1, n, p)\n",
    "    if prob <= alpha:\n",
    "        print(f'{n} промокодов достаточно для того, чтобы вероятность не выполнить план была менее 5%')\n",
    "        break\n",
    "    else:\n",
    "        n += 1\n",
    "\n",
    "prob_pmf = st.binom.pmf(target, n, p)\n",
    "\n",
    "x = range(n+1)\n",
    "pmf = st.binom.pmf(x, n, p)\n",
    "\n",
    "plt.bar(x, pmf)\n",
    "plt.xlim(85, 150)\n",
    "plt.xlabel('Количество продлений подписки')\n",
    "plt.ylabel('Вероятность')\n",
    "plt.title(f'Биномиальное распределение для n={n}, p={p}')\n",
    "plt.show()"
   ],
   "outputs": [
    {
     "name": "stdout",
     "output_type": "stream",
     "text": [
      "1161 промокодов достаточно для того, чтобы вероятность не выполнить план была менее 5%\n"
     ]
    },
    {
     "data": {
      "text/plain": [
       "<Figure size 640x480 with 1 Axes>"
      ],
      "image/png": "[encoded data removed]"
     },
     "metadata": {},
     "output_type": "display_data"
    }
   ],
   "execution_count": 23
  },
  {
   "cell_type": "code",
   "id": "385ccebf",
   "metadata": {
    "ExecuteTime": {
     "end_time": "2024-07-23T09:53:01.555037Z",
     "start_time": "2024-07-23T09:53:01.551356Z"
    }
   },
   "source": [
    "from math import sqrt\n",
    "\n",
    "# задаём параметры биномиального распределения\n",
    "n = 1000000\n",
    "p = 0.4\n",
    "# зададим параметры нормального распределения равными мат.ожиданию и дисперсии биномиального распределения\n",
    "mu = n * p\n",
    "sigma = sqrt(n * p * (1 - p))\n",
    "# задаём нормальное распределение\n",
    "distr = st.norm(mu, sigma) \n",
    "# считаем вероятность хвоста слева от 399,5 тысяч\n",
    "result = distr.cdf(399500)\n",
    "print(result)"
   ],
   "outputs": [
    {
     "name": "stdout",
     "output_type": "stream",
     "text": [
      "0.15371708296369768\n"
     ]
    }
   ],
   "execution_count": 24
  },
  {
   "cell_type": "markdown",
   "id": "dc900b89",
   "metadata": {},
   "source": [
    "# Вывод\n",
    "В ходе исследования были выполнены следующие действия:\n",
    "1. Загружены данные из 3 CSV файлов\n",
    "2. Выполнена предобработка данных. Данные были проверены на наличие дубликатов, даты преобразованы в тип данных pandas date\n",
    "3. В ходе исследовательского анализа было выяснено: <br/> 1. Самый часто встречаемый город Пятигорск, реже всего встречаемый - Москва. <br/> 2. Пользователей без подписки больше, чем пользователей с подпиской. <br/> 3. Самый популярный возраст - 25 лет. <br/> 4. Самое популярное пройденное расстояние ~3000 метров <br/> 5. Поездки обычно длятся от 15 до 20 минут. \n",
    "4. Были созданы отдельные датафреймы для пользователей с подпиской и без.<br/> Результаты исследований: <br/> <ul> <li>У пользователей без подписки чаще происходят короткие поездки (до 1000 метров). Пользователи с подпиской обычно проезжают от 2000 до 4000 метров, коротких поездок почти нет. </li> <li> Продолжительности поездок для пользователей без подписки и с подпиской практически одинаковые. Пользователи без подписки чу-чуть чаще арендуют самокаты для коротких поездок </li> </ul>\n",
    "5. Была подсчитана ежемесячная выручка для каждого пользователя\n",
    "6. Проверка гипотез: <br /> <ol><li>Тратят ли пользователи с подпиской больше времени на поездки? Пользователи с подпиской тратят больше времени на поездки</li><li>Можно ли сказать, что среднее расстояние, которое проезжают пользователи с подпиской за одну поездку, не превышает 3130 метров? Нет достаточных доказательств, что пользователи с подпиской проезжают за одну поездку больше 3130 метров</li> <li>Будет ли помесячная выручка от пользователей с подпиской по месяцам выше, чем выручка от пользователей без подписки?Месячная выручка по месяцам от пользователей с подпиской вероятнее всего больше, чем у пользователей без подписки</li></ol>\n",
    "7. Распределения. 1161 промокодов достаточно для того, чтобы вероятность не выполнить план была менее 5%\n",
    "\n",
    "<b>Рекомендация:</b> Продолжать продвижение покупки подписки, так как пользователи с подпиской в среднем пользуются самокатами дольше, проезжают большее расстояние, платят ежемесячный взнос за подписку и, следовательно, приносят больше денег компании\n"
   ]
  }
 ],
 "metadata": {
  "ExecuteTimeLog": [
   {
    "duration": 1148,
    "start_time": "2024-07-21T21:53:30.576Z"
   },
   {
    "duration": 117,
    "start_time": "2024-07-21T21:53:31.725Z"
   },
   {
    "duration": 0,
    "start_time": "2024-07-21T21:53:31.843Z"
   },
   {
    "duration": 0,
    "start_time": "2024-07-21T21:53:31.844Z"
   },
   {
    "duration": 0,
    "start_time": "2024-07-21T21:53:31.846Z"
   },
   {
    "duration": 0,
    "start_time": "2024-07-21T21:53:31.847Z"
   },
   {
    "duration": 0,
    "start_time": "2024-07-21T21:53:31.848Z"
   },
   {
    "duration": 0,
    "start_time": "2024-07-21T21:53:31.849Z"
   },
   {
    "duration": 0,
    "start_time": "2024-07-21T21:53:31.850Z"
   },
   {
    "duration": 0,
    "start_time": "2024-07-21T21:53:31.851Z"
   },
   {
    "duration": 1,
    "start_time": "2024-07-21T21:53:31.851Z"
   },
   {
    "duration": 0,
    "start_time": "2024-07-21T21:53:31.852Z"
   },
   {
    "duration": 0,
    "start_time": "2024-07-21T21:53:31.853Z"
   },
   {
    "duration": 0,
    "start_time": "2024-07-21T21:53:31.854Z"
   },
   {
    "duration": 0,
    "start_time": "2024-07-21T21:53:31.855Z"
   },
   {
    "duration": 0,
    "start_time": "2024-07-21T21:53:31.855Z"
   },
   {
    "duration": 0,
    "start_time": "2024-07-21T21:53:31.856Z"
   },
   {
    "duration": 0,
    "start_time": "2024-07-21T21:53:31.857Z"
   },
   {
    "duration": 0,
    "start_time": "2024-07-21T21:53:31.858Z"
   },
   {
    "duration": 0,
    "start_time": "2024-07-21T21:53:31.859Z"
   },
   {
    "duration": 0,
    "start_time": "2024-07-21T21:53:31.860Z"
   },
   {
    "duration": 983,
    "start_time": "2024-07-21T21:54:02.161Z"
   },
   {
    "duration": 322,
    "start_time": "2024-07-21T21:54:03.145Z"
   },
   {
    "duration": 8,
    "start_time": "2024-07-21T21:54:03.468Z"
   },
   {
    "duration": 9,
    "start_time": "2024-07-21T21:54:03.477Z"
   },
   {
    "duration": 13,
    "start_time": "2024-07-21T21:54:03.487Z"
   },
   {
    "duration": 127,
    "start_time": "2024-07-21T21:54:03.501Z"
   },
   {
    "duration": 110,
    "start_time": "2024-07-21T21:54:03.629Z"
   },
   {
    "duration": 123,
    "start_time": "2024-07-21T21:54:03.740Z"
   },
   {
    "duration": 152,
    "start_time": "2024-07-21T21:54:03.864Z"
   },
   {
    "duration": 137,
    "start_time": "2024-07-21T21:54:04.018Z"
   },
   {
    "duration": 26,
    "start_time": "2024-07-21T21:54:04.157Z"
   },
   {
    "duration": 42,
    "start_time": "2024-07-21T21:54:04.185Z"
   },
   {
    "duration": 326,
    "start_time": "2024-07-21T21:54:04.228Z"
   },
   {
    "duration": 271,
    "start_time": "2024-07-21T21:54:04.557Z"
   },
   {
    "duration": 119,
    "start_time": "2024-07-21T21:54:04.829Z"
   },
   {
    "duration": 7385,
    "start_time": "2024-07-21T21:54:04.950Z"
   },
   {
    "duration": 2,
    "start_time": "2024-07-21T21:54:12.336Z"
   },
   {
    "duration": 91,
    "start_time": "2024-07-21T21:54:12.339Z"
   },
   {
    "duration": 65,
    "start_time": "2024-07-21T21:54:12.431Z"
   },
   {
    "duration": 114,
    "start_time": "2024-07-21T21:54:12.497Z"
   },
   {
    "duration": 0,
    "start_time": "2024-07-21T21:54:12.613Z"
   },
   {
    "duration": 931,
    "start_time": "2024-07-21T21:56:18.749Z"
   },
   {
    "duration": 96,
    "start_time": "2024-07-21T21:56:19.681Z"
   },
   {
    "duration": 8,
    "start_time": "2024-07-21T21:56:19.778Z"
   },
   {
    "duration": 6,
    "start_time": "2024-07-21T21:56:19.787Z"
   },
   {
    "duration": 8,
    "start_time": "2024-07-21T21:56:19.795Z"
   },
   {
    "duration": 122,
    "start_time": "2024-07-21T21:56:19.804Z"
   },
   {
    "duration": 112,
    "start_time": "2024-07-21T21:56:19.928Z"
   },
   {
    "duration": 129,
    "start_time": "2024-07-21T21:56:20.041Z"
   },
   {
    "duration": 155,
    "start_time": "2024-07-21T21:56:20.171Z"
   },
   {
    "duration": 145,
    "start_time": "2024-07-21T21:56:20.328Z"
   },
   {
    "duration": 32,
    "start_time": "2024-07-21T21:56:20.474Z"
   },
   {
    "duration": 22,
    "start_time": "2024-07-21T21:56:20.507Z"
   },
   {
    "duration": 295,
    "start_time": "2024-07-21T21:56:20.530Z"
   },
   {
    "duration": 257,
    "start_time": "2024-07-21T21:56:20.827Z"
   },
   {
    "duration": 117,
    "start_time": "2024-07-21T21:56:21.086Z"
   },
   {
    "duration": 7428,
    "start_time": "2024-07-21T21:56:21.205Z"
   },
   {
    "duration": 2,
    "start_time": "2024-07-21T21:56:28.634Z"
   },
   {
    "duration": 40,
    "start_time": "2024-07-21T21:56:28.637Z"
   },
   {
    "duration": 8,
    "start_time": "2024-07-21T21:56:28.679Z"
   },
   {
    "duration": 28,
    "start_time": "2024-07-21T21:56:28.688Z"
   },
   {
    "duration": 1262,
    "start_time": "2024-07-21T21:56:28.717Z"
   },
   {
    "duration": 960,
    "start_time": "2024-07-21T21:58:10.176Z"
   },
   {
    "duration": 107,
    "start_time": "2024-07-21T21:58:11.137Z"
   },
   {
    "duration": 6,
    "start_time": "2024-07-21T21:58:11.246Z"
   },
   {
    "duration": 7,
    "start_time": "2024-07-21T21:58:11.253Z"
   },
   {
    "duration": 9,
    "start_time": "2024-07-21T21:58:11.262Z"
   },
   {
    "duration": 136,
    "start_time": "2024-07-21T21:58:11.272Z"
   },
   {
    "duration": 110,
    "start_time": "2024-07-21T21:58:11.410Z"
   },
   {
    "duration": 123,
    "start_time": "2024-07-21T21:58:11.521Z"
   },
   {
    "duration": 151,
    "start_time": "2024-07-21T21:58:11.645Z"
   },
   {
    "duration": 131,
    "start_time": "2024-07-21T21:58:11.802Z"
   },
   {
    "duration": 26,
    "start_time": "2024-07-21T21:58:11.934Z"
   },
   {
    "duration": 30,
    "start_time": "2024-07-21T21:58:11.961Z"
   },
   {
    "duration": 298,
    "start_time": "2024-07-21T21:58:11.992Z"
   },
   {
    "duration": 269,
    "start_time": "2024-07-21T21:58:12.292Z"
   },
   {
    "duration": 140,
    "start_time": "2024-07-21T21:58:12.562Z"
   },
   {
    "duration": 7369,
    "start_time": "2024-07-21T21:58:12.703Z"
   },
   {
    "duration": 2,
    "start_time": "2024-07-21T21:58:20.074Z"
   },
   {
    "duration": 24,
    "start_time": "2024-07-21T21:58:20.077Z"
   },
   {
    "duration": 8,
    "start_time": "2024-07-21T21:58:20.102Z"
   },
   {
    "duration": 12,
    "start_time": "2024-07-21T21:58:20.111Z"
   },
   {
    "duration": 1341,
    "start_time": "2024-07-21T21:58:20.124Z"
   },
   {
    "duration": 1024,
    "start_time": "2024-07-22T05:38:54.869Z"
   },
   {
    "duration": 124,
    "start_time": "2024-07-22T05:38:55.894Z"
   },
   {
    "duration": 0,
    "start_time": "2024-07-22T05:38:56.020Z"
   },
   {
    "duration": 0,
    "start_time": "2024-07-22T05:38:56.022Z"
   },
   {
    "duration": 0,
    "start_time": "2024-07-22T05:38:56.023Z"
   },
   {
    "duration": 0,
    "start_time": "2024-07-22T05:38:56.024Z"
   },
   {
    "duration": 0,
    "start_time": "2024-07-22T05:38:56.025Z"
   },
   {
    "duration": 0,
    "start_time": "2024-07-22T05:38:56.026Z"
   },
   {
    "duration": 0,
    "start_time": "2024-07-22T05:38:56.037Z"
   },
   {
    "duration": 0,
    "start_time": "2024-07-22T05:38:56.039Z"
   },
   {
    "duration": 0,
    "start_time": "2024-07-22T05:38:56.039Z"
   },
   {
    "duration": 0,
    "start_time": "2024-07-22T05:38:56.040Z"
   },
   {
    "duration": 0,
    "start_time": "2024-07-22T05:38:56.042Z"
   },
   {
    "duration": 0,
    "start_time": "2024-07-22T05:38:56.042Z"
   },
   {
    "duration": 0,
    "start_time": "2024-07-22T05:38:56.043Z"
   },
   {
    "duration": 0,
    "start_time": "2024-07-22T05:38:56.044Z"
   },
   {
    "duration": 0,
    "start_time": "2024-07-22T05:38:56.045Z"
   },
   {
    "duration": 0,
    "start_time": "2024-07-22T05:38:56.046Z"
   },
   {
    "duration": 0,
    "start_time": "2024-07-22T05:38:56.047Z"
   },
   {
    "duration": 0,
    "start_time": "2024-07-22T05:38:56.048Z"
   },
   {
    "duration": 0,
    "start_time": "2024-07-22T05:38:56.049Z"
   },
   {
    "duration": 1151,
    "start_time": "2024-07-22T05:39:17.819Z"
   },
   {
    "duration": 104,
    "start_time": "2024-07-22T05:39:18.972Z"
   },
   {
    "duration": 9,
    "start_time": "2024-07-22T05:39:19.077Z"
   },
   {
    "duration": 9,
    "start_time": "2024-07-22T05:39:19.088Z"
   },
   {
    "duration": 10,
    "start_time": "2024-07-22T05:39:19.099Z"
   },
   {
    "duration": 177,
    "start_time": "2024-07-22T05:39:19.110Z"
   },
   {
    "duration": 121,
    "start_time": "2024-07-22T05:39:19.289Z"
   },
   {
    "duration": 158,
    "start_time": "2024-07-22T05:39:19.411Z"
   },
   {
    "duration": 190,
    "start_time": "2024-07-22T05:39:19.570Z"
   },
   {
    "duration": 161,
    "start_time": "2024-07-22T05:39:19.762Z"
   },
   {
    "duration": 42,
    "start_time": "2024-07-22T05:39:19.925Z"
   },
   {
    "duration": 28,
    "start_time": "2024-07-22T05:39:19.969Z"
   },
   {
    "duration": 387,
    "start_time": "2024-07-22T05:39:19.999Z"
   },
   {
    "duration": 323,
    "start_time": "2024-07-22T05:39:20.388Z"
   },
   {
    "duration": 157,
    "start_time": "2024-07-22T05:39:20.713Z"
   },
   {
    "duration": 9305,
    "start_time": "2024-07-22T05:39:20.872Z"
   },
   {
    "duration": 2,
    "start_time": "2024-07-22T05:39:30.178Z"
   },
   {
    "duration": 112,
    "start_time": "2024-07-22T05:39:30.182Z"
   },
   {
    "duration": 78,
    "start_time": "2024-07-22T05:39:30.295Z"
   },
   {
    "duration": 37,
    "start_time": "2024-07-22T05:39:30.375Z"
   },
   {
    "duration": 1746,
    "start_time": "2024-07-22T05:39:30.414Z"
   },
   {
    "duration": 1081,
    "start_time": "2024-07-22T05:39:51.711Z"
   },
   {
    "duration": 107,
    "start_time": "2024-07-22T05:39:52.794Z"
   },
   {
    "duration": 10,
    "start_time": "2024-07-22T05:39:52.902Z"
   },
   {
    "duration": 13,
    "start_time": "2024-07-22T05:39:52.913Z"
   },
   {
    "duration": 16,
    "start_time": "2024-07-22T05:39:52.928Z"
   },
   {
    "duration": 154,
    "start_time": "2024-07-22T05:39:52.945Z"
   },
   {
    "duration": 139,
    "start_time": "2024-07-22T05:39:53.100Z"
   },
   {
    "duration": 161,
    "start_time": "2024-07-22T05:39:53.241Z"
   },
   {
    "duration": 211,
    "start_time": "2024-07-22T05:39:53.403Z"
   },
   {
    "duration": 177,
    "start_time": "2024-07-22T05:39:53.615Z"
   },
   {
    "duration": 30,
    "start_time": "2024-07-22T05:39:53.794Z"
   },
   {
    "duration": 34,
    "start_time": "2024-07-22T05:39:53.825Z"
   },
   {
    "duration": 368,
    "start_time": "2024-07-22T05:39:53.861Z"
   },
   {
    "duration": 337,
    "start_time": "2024-07-22T05:39:54.232Z"
   },
   {
    "duration": 158,
    "start_time": "2024-07-22T05:39:54.571Z"
   },
   {
    "duration": 9371,
    "start_time": "2024-07-22T05:39:54.730Z"
   },
   {
    "duration": 3,
    "start_time": "2024-07-22T05:40:04.102Z"
   },
   {
    "duration": 31,
    "start_time": "2024-07-22T05:40:04.107Z"
   },
   {
    "duration": 6,
    "start_time": "2024-07-22T05:40:04.140Z"
   },
   {
    "duration": 11,
    "start_time": "2024-07-22T05:40:04.148Z"
   },
   {
    "duration": 1679,
    "start_time": "2024-07-22T05:40:04.161Z"
   },
   {
    "duration": 65,
    "start_time": "2024-07-22T05:46:58.445Z"
   },
   {
    "duration": 95,
    "start_time": "2024-07-22T05:47:56.727Z"
   },
   {
    "duration": 5,
    "start_time": "2024-07-22T05:48:18.390Z"
   },
   {
    "duration": 1181,
    "start_time": "2024-07-22T19:43:29.092Z"
   },
   {
    "duration": 101,
    "start_time": "2024-07-22T19:43:30.281Z"
   },
   {
    "duration": 50,
    "start_time": "2024-07-22T19:43:30.383Z"
   },
   {
    "duration": 32,
    "start_time": "2024-07-22T19:43:30.435Z"
   },
   {
    "duration": 33,
    "start_time": "2024-07-22T19:43:30.469Z"
   },
   {
    "duration": 50,
    "start_time": "2024-07-22T19:43:30.504Z"
   },
   {
    "duration": 213,
    "start_time": "2024-07-22T19:43:30.556Z"
   },
   {
    "duration": 86,
    "start_time": "2024-07-22T19:43:30.771Z"
   },
   {
    "duration": 281,
    "start_time": "2024-07-22T19:43:30.859Z"
   },
   {
    "duration": 319,
    "start_time": "2024-07-22T19:43:31.142Z"
   },
   {
    "duration": 306,
    "start_time": "2024-07-22T19:43:31.463Z"
   },
   {
    "duration": 43,
    "start_time": "2024-07-22T19:43:31.772Z"
   },
   {
    "duration": 29,
    "start_time": "2024-07-22T19:43:31.817Z"
   },
   {
    "duration": 485,
    "start_time": "2024-07-22T19:43:31.848Z"
   },
   {
    "duration": 348,
    "start_time": "2024-07-22T19:43:32.334Z"
   },
   {
    "duration": 10,
    "start_time": "2024-07-22T19:43:32.683Z"
   },
   {
    "duration": 88,
    "start_time": "2024-07-22T19:43:32.695Z"
   },
   {
    "duration": 10651,
    "start_time": "2024-07-22T19:43:32.785Z"
   },
   {
    "duration": 3,
    "start_time": "2024-07-22T19:43:43.438Z"
   },
   {
    "duration": 22,
    "start_time": "2024-07-22T19:43:43.443Z"
   },
   {
    "duration": 10,
    "start_time": "2024-07-22T19:43:43.467Z"
   },
   {
    "duration": 13,
    "start_time": "2024-07-22T19:43:43.479Z"
   },
   {
    "duration": 1863,
    "start_time": "2024-07-22T19:43:43.494Z"
   },
   {
    "duration": 6,
    "start_time": "2024-07-22T19:43:45.359Z"
   },
   {
    "duration": 25,
    "start_time": "2024-07-22T19:45:16.914Z"
   },
   {
    "duration": 19,
    "start_time": "2024-07-22T19:45:46.507Z"
   },
   {
    "duration": 6,
    "start_time": "2024-07-22T19:45:56.395Z"
   },
   {
    "duration": 6,
    "start_time": "2024-07-22T19:46:11.065Z"
   },
   {
    "duration": 1100,
    "start_time": "2024-07-23T04:47:03.702Z"
   },
   {
    "duration": 95,
    "start_time": "2024-07-23T04:47:04.804Z"
   },
   {
    "duration": 44,
    "start_time": "2024-07-23T04:47:04.901Z"
   },
   {
    "duration": 12,
    "start_time": "2024-07-23T04:47:04.947Z"
   },
   {
    "duration": 9,
    "start_time": "2024-07-23T04:47:04.961Z"
   },
   {
    "duration": 18,
    "start_time": "2024-07-23T04:47:04.971Z"
   },
   {
    "duration": 216,
    "start_time": "2024-07-23T04:47:04.991Z"
   },
   {
    "duration": 85,
    "start_time": "2024-07-23T04:47:05.208Z"
   },
   {
    "duration": 243,
    "start_time": "2024-07-23T04:47:05.294Z"
   },
   {
    "duration": 277,
    "start_time": "2024-07-23T04:47:05.539Z"
   },
   {
    "duration": 254,
    "start_time": "2024-07-23T04:47:05.817Z"
   },
   {
    "duration": 31,
    "start_time": "2024-07-23T04:47:06.072Z"
   },
   {
    "duration": 43,
    "start_time": "2024-07-23T04:47:06.105Z"
   },
   {
    "duration": 431,
    "start_time": "2024-07-23T04:47:06.151Z"
   },
   {
    "duration": 331,
    "start_time": "2024-07-23T04:47:06.584Z"
   },
   {
    "duration": 9,
    "start_time": "2024-07-23T04:47:06.916Z"
   },
   {
    "duration": 87,
    "start_time": "2024-07-23T04:47:06.927Z"
   },
   {
    "duration": 9561,
    "start_time": "2024-07-23T04:47:07.016Z"
   },
   {
    "duration": 2,
    "start_time": "2024-07-23T04:47:16.579Z"
   },
   {
    "duration": 45,
    "start_time": "2024-07-23T04:47:16.582Z"
   },
   {
    "duration": 10,
    "start_time": "2024-07-23T04:47:16.628Z"
   },
   {
    "duration": 16,
    "start_time": "2024-07-23T04:47:16.640Z"
   },
   {
    "duration": 1681,
    "start_time": "2024-07-23T04:47:16.657Z"
   },
   {
    "duration": 5,
    "start_time": "2024-07-23T04:47:18.339Z"
   },
   {
    "duration": 3,
    "start_time": "2024-07-23T04:47:21.732Z"
   }
  ],
  "kernelspec": {
   "display_name": "Python 3 (ipykernel)",
   "language": "python",
   "name": "python3"
  },
  "language_info": {
   "codemirror_mode": {
    "name": "ipython",
    "version": 3
   },
   "file_extension": ".py",
   "mimetype": "text/x-python",
   "name": "python",
   "nbconvert_exporter": "python",
   "pygments_lexer": "ipython3",
   "version": "3.9.5"
  },
  "toc": {
   "base_numbering": 1,
   "nav_menu": {},
   "number_sections": true,
   "sideBar": true,
   "skip_h1_title": true,
   "title_cell": "Table of Contents",
   "title_sidebar": "Contents",
   "toc_cell": false,
   "toc_position": {},
   "toc_section_display": true,
   "toc_window_display": true
  }
 },
 "nbformat": 4,
 "nbformat_minor": 5
}

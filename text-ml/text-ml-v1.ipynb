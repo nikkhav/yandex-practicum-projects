{
 "cells": [
  {
   "cell_type": "markdown",
   "metadata": {
    "toc": true
   },
   "source": [
    "<h1>Содержание<span class=\"tocSkip\"></span></h1>\n",
    "<div class=\"toc\"><ul class=\"toc-item\"><li><span><a href=\"#Подготовка\" data-toc-modified-id=\"Подготовка-1\"><span class=\"toc-item-num\">1&nbsp;&nbsp;</span>Подготовка</a></span></li><li><span><a href=\"#Обучение\" data-toc-modified-id=\"Обучение-2\"><span class=\"toc-item-num\">2&nbsp;&nbsp;</span>Обучение</a></span></li><li><span><a href=\"#Выводы\" data-toc-modified-id=\"Выводы-3\"><span class=\"toc-item-num\">3&nbsp;&nbsp;</span>Выводы</a></span></li><li><span><a href=\"#Чек-лист-проверки\" data-toc-modified-id=\"Чек-лист-проверки-4\"><span class=\"toc-item-num\">4&nbsp;&nbsp;</span>Чек-лист проверки</a></span></li></ul></div>"
   ],
   "id": "dc7b35f15f753de8"
  },
  {
   "cell_type": "markdown",
   "metadata": {},
   "source": [
    "# Проект для «Викишоп»"
   ],
   "id": "d3235c9f2bcdf32a"
  },
  {
   "cell_type": "markdown",
   "metadata": {},
   "source": [
    "Интернет-магазин «Викишоп» запускает новый сервис. Теперь пользователи могут редактировать и дополнять описания товаров, как в вики-сообществах. То есть клиенты предлагают свои правки и комментируют изменения других. Магазину нужен инструмент, который будет искать токсичные комментарии и отправлять их на модерацию.\n",
    "\n",
    "Обучите модель классифицировать комментарии на позитивные и негативные. В вашем распоряжении набор данных с разметкой о токсичности правок.\n",
    "\n",
    "Постройте модель со значением метрики качества *F1* не меньше 0.75.\n",
    "\n",
    "**Инструкция по выполнению проекта**\n",
    "\n",
    "1. Загрузите и подготовьте данные.\n",
    "2. Обучите разные модели.\n",
    "3. Сделайте выводы.\n",
    "\n",
    "Для выполнения проекта применять *BERT* необязательно, но вы можете попробовать.\n",
    "\n",
    "**Описание данных**\n",
    "\n",
    "Данные находятся в файле `toxic_comments.csv`. Столбец *text* в нём содержит текст комментария, а *toxic* — целевой признак."
   ],
   "id": "50ee0f11ce31d6ae"
  },
  {
   "metadata": {
    "ExecuteTime": {
     "end_time": "2024-12-01T01:14:41.171492Z",
     "start_time": "2024-12-01T01:14:41.168966Z"
    }
   },
   "cell_type": "code",
   "source": [
    "import pandas as pd\n",
    "import nltk\n",
    "from nltk.corpus import stopwords as nltk_stopwords\n",
    "from sklearn.ensemble import RandomForestClassifier, GradientBoostingClassifier\n",
    "from sklearn.feature_extraction.text import TfidfVectorizer\n",
    "from sklearn.linear_model import LogisticRegression\n",
    "from sklearn.metrics import f1_score\n",
    "from sklearn.model_selection import train_test_split"
   ],
   "id": "e12dc36d0066a008",
   "outputs": [],
   "execution_count": 51
  },
  {
   "metadata": {
    "ExecuteTime": {
     "end_time": "2024-12-01T01:14:41.193275Z",
     "start_time": "2024-12-01T01:14:41.191458Z"
    }
   },
   "cell_type": "code",
   "source": "RANDOM_STATE = 42",
   "id": "bc33854e1513aad6",
   "outputs": [],
   "execution_count": 52
  },
  {
   "cell_type": "markdown",
   "metadata": {},
   "source": [
    "## Подготовка"
   ],
   "id": "4b4e68cf673f92a8"
  },
  {
   "metadata": {},
   "cell_type": "markdown",
   "source": "#### Загрузка данных",
   "id": "29640b7cf78337e6"
  },
  {
   "cell_type": "code",
   "metadata": {
    "ExecuteTime": {
     "end_time": "2024-12-01T01:14:41.697800Z",
     "start_time": "2024-12-01T01:14:41.196406Z"
    }
   },
   "source": [
    "try:\n",
    "    comments = pd.read_csv('../datasets/toxic_comments.csv')\n",
    "except FileNotFoundError:\n",
    "    comments = pd.read_csv('https://code.s3.yandex.net/datasets/toxic_comments.csv')\n",
    "\n",
    "comments = comments.rename(columns={comments.columns[0]: 'index'})\n",
    "comments = comments.set_index('index')"
   ],
   "id": "b5be9257f1fe196e",
   "outputs": [],
   "execution_count": 53
  },
  {
   "metadata": {
    "ExecuteTime": {
     "end_time": "2024-12-01T01:14:41.713127Z",
     "start_time": "2024-12-01T01:14:41.709220Z"
    }
   },
   "cell_type": "code",
   "source": "comments",
   "id": "662a73aa91929f83",
   "outputs": [
    {
     "data": {
      "text/plain": [
       "                                                     text  toxic\n",
       "index                                                           \n",
       "0       Explanation\\nWhy the edits made under my usern...      0\n",
       "1       D'aww! He matches this background colour I'm s...      0\n",
       "2       Hey man, I'm really not trying to edit war. It...      0\n",
       "3       \"\\nMore\\nI can't make any real suggestions on ...      0\n",
       "4       You, sir, are my hero. Any chance you remember...      0\n",
       "...                                                   ...    ...\n",
       "159446  \":::::And for the second time of asking, when ...      0\n",
       "159447  You should be ashamed of yourself \\n\\nThat is ...      0\n",
       "159448  Spitzer \\n\\nUmm, theres no actual article for ...      0\n",
       "159449  And it looks like it was actually you who put ...      0\n",
       "159450  \"\\nAnd ... I really don't think you understand...      0\n",
       "\n",
       "[159292 rows x 2 columns]"
      ],
      "text/html": [
       "<div>\n",
       "<style scoped>\n",
       "    .dataframe tbody tr th:only-of-type {\n",
       "        vertical-align: middle;\n",
       "    }\n",
       "\n",
       "    .dataframe tbody tr th {\n",
       "        vertical-align: top;\n",
       "    }\n",
       "\n",
       "    .dataframe thead th {\n",
       "        text-align: right;\n",
       "    }\n",
       "</style>\n",
       "<table border=\"1\" class=\"dataframe\">\n",
       "  <thead>\n",
       "    <tr style=\"text-align: right;\">\n",
       "      <th></th>\n",
       "      <th>text</th>\n",
       "      <th>toxic</th>\n",
       "    </tr>\n",
       "    <tr>\n",
       "      <th>index</th>\n",
       "      <th></th>\n",
       "      <th></th>\n",
       "    </tr>\n",
       "  </thead>\n",
       "  <tbody>\n",
       "    <tr>\n",
       "      <th>0</th>\n",
       "      <td>Explanation\\nWhy the edits made under my usern...</td>\n",
       "      <td>0</td>\n",
       "    </tr>\n",
       "    <tr>\n",
       "      <th>1</th>\n",
       "      <td>D'aww! He matches this background colour I'm s...</td>\n",
       "      <td>0</td>\n",
       "    </tr>\n",
       "    <tr>\n",
       "      <th>2</th>\n",
       "      <td>Hey man, I'm really not trying to edit war. It...</td>\n",
       "      <td>0</td>\n",
       "    </tr>\n",
       "    <tr>\n",
       "      <th>3</th>\n",
       "      <td>\"\\nMore\\nI can't make any real suggestions on ...</td>\n",
       "      <td>0</td>\n",
       "    </tr>\n",
       "    <tr>\n",
       "      <th>4</th>\n",
       "      <td>You, sir, are my hero. Any chance you remember...</td>\n",
       "      <td>0</td>\n",
       "    </tr>\n",
       "    <tr>\n",
       "      <th>...</th>\n",
       "      <td>...</td>\n",
       "      <td>...</td>\n",
       "    </tr>\n",
       "    <tr>\n",
       "      <th>159446</th>\n",
       "      <td>\":::::And for the second time of asking, when ...</td>\n",
       "      <td>0</td>\n",
       "    </tr>\n",
       "    <tr>\n",
       "      <th>159447</th>\n",
       "      <td>You should be ashamed of yourself \\n\\nThat is ...</td>\n",
       "      <td>0</td>\n",
       "    </tr>\n",
       "    <tr>\n",
       "      <th>159448</th>\n",
       "      <td>Spitzer \\n\\nUmm, theres no actual article for ...</td>\n",
       "      <td>0</td>\n",
       "    </tr>\n",
       "    <tr>\n",
       "      <th>159449</th>\n",
       "      <td>And it looks like it was actually you who put ...</td>\n",
       "      <td>0</td>\n",
       "    </tr>\n",
       "    <tr>\n",
       "      <th>159450</th>\n",
       "      <td>\"\\nAnd ... I really don't think you understand...</td>\n",
       "      <td>0</td>\n",
       "    </tr>\n",
       "  </tbody>\n",
       "</table>\n",
       "<p>159292 rows × 2 columns</p>\n",
       "</div>"
      ]
     },
     "execution_count": 54,
     "metadata": {},
     "output_type": "execute_result"
    }
   ],
   "execution_count": 54
  },
  {
   "metadata": {},
   "cell_type": "markdown",
   "source": "#### Загрузка стоп-слов",
   "id": "b076ae5215f5674d"
  },
  {
   "metadata": {
    "ExecuteTime": {
     "end_time": "2024-12-01T01:14:41.741506Z",
     "start_time": "2024-12-01T01:14:41.739323Z"
    }
   },
   "cell_type": "code",
   "source": [
    "nltk.download('stopwords')\n",
    "stopwords = set(nltk_stopwords.words('english'))"
   ],
   "id": "59ab804112deace4",
   "outputs": [
    {
     "name": "stderr",
     "output_type": "stream",
     "text": [
      "[nltk_data] Downloading package stopwords to\n",
      "[nltk_data]     /Users/nikitakhavkin/nltk_data...\n",
      "[nltk_data]   Package stopwords is already up-to-date!\n"
     ]
    }
   ],
   "execution_count": 55
  },
  {
   "metadata": {},
   "cell_type": "markdown",
   "source": "#### Предобработка & TF-IDF",
   "id": "7aac8f3a5b2f153d"
  },
  {
   "metadata": {
    "ExecuteTime": {
     "end_time": "2024-12-01T01:14:42.829138Z",
     "start_time": "2024-12-01T01:14:41.770449Z"
    }
   },
   "cell_type": "code",
   "source": [
    "corpus = comments['text'].values.astype('U')\n",
    "\n",
    "X_train, X_test, y_train, y_test = train_test_split(\n",
    "    corpus, comments['toxic'], test_size=0.2, random_state=RANDOM_STATE\n",
    ")"
   ],
   "id": "74ee6db9869ac81c",
   "outputs": [],
   "execution_count": 56
  },
  {
   "metadata": {
    "ExecuteTime": {
     "end_time": "2024-12-01T01:14:47.478815Z",
     "start_time": "2024-12-01T01:14:42.958279Z"
    }
   },
   "cell_type": "code",
   "source": [
    "vectorizer = TfidfVectorizer(stop_words=list(stopwords))\n",
    "\n",
    "X_train = vectorizer.fit_transform(X_train)\n",
    "X_test = vectorizer.transform(X_test)"
   ],
   "id": "f5410ea1271fabad",
   "outputs": [],
   "execution_count": 57
  },
  {
   "cell_type": "markdown",
   "metadata": {},
   "source": [
    "## Обучение"
   ],
   "id": "fd709ddd818ab7a5"
  },
  {
   "metadata": {},
   "cell_type": "markdown",
   "source": [
    "#### Обучение моделей <br>\n",
    "Обучим 3 модели: логистическую регрессию, случайный лес и градиентный бустинг"
   ],
   "id": "f98b2650a9bbd11a"
  },
  {
   "cell_type": "code",
   "metadata": {
    "ExecuteTime": {
     "end_time": "2024-12-01T01:14:47.507440Z",
     "start_time": "2024-12-01T01:14:47.489429Z"
    }
   },
   "source": [
    "models = [\n",
    "    (\"Logistic Regression\", LogisticRegression(random_state=RANDOM_STATE)),\n",
    "    (\"Random Forest\", RandomForestClassifier(random_state=RANDOM_STATE)),\n",
    "    (\"Gradient Boosting\", GradientBoostingClassifier(random_state=RANDOM_STATE))\n",
    "]"
   ],
   "id": "60a69a0b4311a0ae",
   "outputs": [],
   "execution_count": 58
  },
  {
   "metadata": {},
   "cell_type": "markdown",
   "source": "Цикл для обучения моделей и вывода метрики F1",
   "id": "dad3f95d2a0c976c"
  },
  {
   "metadata": {
    "ExecuteTime": {
     "end_time": "2024-12-01T01:19:02.842796Z",
     "start_time": "2024-12-01T01:14:47.528679Z"
    }
   },
   "cell_type": "code",
   "source": [
    "for model_name, model in models:\n",
    "    model.fit(X_train, y_train)\n",
    "\n",
    "    y_pred = model.predict(X_test)\n",
    "\n",
    "    f1 = f1_score(y_test, y_pred, average='weighted')\n",
    "    print(f\"F1-score for {model_name}: {f1:.4f}\")"
   ],
   "id": "8969f823a5717bff",
   "outputs": [
    {
     "name": "stdout",
     "output_type": "stream",
     "text": [
      "F1-score for Logistic Regression: 0.9501\n",
      "F1-score for Random Forest: 0.9470\n",
      "F1-score for Gradient Boosting: 0.9277\n"
     ]
    }
   ],
   "execution_count": 59
  },
  {
   "metadata": {},
   "cell_type": "markdown",
   "source": [
    "#### Промежуточный вывод <br>\n",
    "Все модели показали значение метрики F1 выше 0.75 <br>\n",
    "Лучшее значение метрики показала модель логистической регрессии - 0.9501"
   ],
   "id": "d7f383dc696972fa"
  },
  {
   "cell_type": "markdown",
   "metadata": {},
   "source": [
    "## Выводы"
   ],
   "id": "41505f0ff471c522"
  },
  {
   "metadata": {},
   "cell_type": "markdown",
   "source": [
    "В ходе исследования были выполнены следующие шаги:\n",
    "1. Загружены данные\n",
    "2. Загружены стоп-слова\n",
    "3. Проведена предобработка данных (токенизация)\n",
    "4. Обучены 3 модели: логистическая регрессия, случайный лес и градиентный бустинг\n",
    "5. Проведена оценка качества моделей по метрике F1\n",
    "6. Вывод: лучшее значение метрики показала модель логистической регрессии - 0.9501"
   ],
   "id": "3469cbdc7dcb028a"
  },
  {
   "metadata": {},
   "cell_type": "markdown",
   "source": [
    "### Комментарий студента <br>\n",
    "Привет, сначала пытался сделать проект с использованием BERT, но время обучения было очень долгим. Это всегда так или я неправильно выполнил предобработку / неправильно использовал библиотеку? <br>\n",
    "И в целом какие плюсы от использования BERT в данной задаче? Метрика F1 была бы выше?"
   ],
   "id": "6c38006ac6a96bc5"
  },
  {
   "cell_type": "markdown",
   "metadata": {},
   "source": [
    "## Чек-лист проверки"
   ],
   "id": "8b0e5416570a1420"
  },
  {
   "cell_type": "markdown",
   "metadata": {},
   "source": [
    "- [x]  Jupyter Notebook открыт\n",
    "- [x]  Весь код выполняется без ошибок\n",
    "- [x]  Ячейки с кодом расположены в порядке исполнения\n",
    "- [x]  Данные загружены и подготовлены\n",
    "- [x]  Модели обучены\n",
    "- [x]  Значение метрики *F1* не меньше 0.75\n",
    "- [x]  Выводы написаны"
   ],
   "id": "463c46575fdfcd50"
  }
 ],
 "metadata": {
  "kernelspec": {
   "display_name": "Python 3 (ipykernel)",
   "language": "python",
   "name": "python3"
  },
  "language_info": {
   "codemirror_mode": {
    "name": "ipython",
    "version": 3
   },
   "file_extension": ".py",
   "mimetype": "text/x-python",
   "name": "python",
   "nbconvert_exporter": "python",
   "pygments_lexer": "ipython3",
   "version": "3.9.5"
  },
  "toc": {
   "base_numbering": 1,
   "nav_menu": {},
   "number_sections": true,
   "sideBar": true,
   "skip_h1_title": true,
   "title_cell": "Содержание",
   "title_sidebar": "Contents",
   "toc_cell": true,
   "toc_position": {
    "height": "calc(100% - 180px)",
    "left": "10px",
    "top": "150px",
    "width": "302.391px"
   },
   "toc_section_display": true,
   "toc_window_display": false
  }
 },
 "nbformat": 4,
 "nbformat_minor": 2
}

{
 "cells": [
  {
   "cell_type": "markdown",
   "metadata": {},
   "source": [
    "# Определение стоимости автомобилей"
   ]
  },
  {
   "cell_type": "markdown",
   "metadata": {},
   "source": [
    "Сервис по продаже автомобилей с пробегом «Не бит, не крашен» разрабатывает приложение для привлечения новых клиентов. В нём можно быстро узнать рыночную стоимость своего автомобиля. В вашем распоряжении исторические данные: технические характеристики, комплектации и цены автомобилей. Вам нужно построить модель для определения стоимости. \n",
    "\n",
    "Заказчику важны:\n",
    "\n",
    "- качество предсказания;\n",
    "- скорость предсказания;\n",
    "- время обучения."
   ]
  },
  {
   "metadata": {
    "ExecuteTime": {
     "end_time": "2024-11-09T22:18:17.459254Z",
     "start_time": "2024-11-09T22:18:15.041828Z"
    }
   },
   "cell_type": "code",
   "source": [
    "!pip install --upgrade scikit-learn --quiet\n",
    "!pip install phik --quiet"
   ],
   "outputs": [],
   "execution_count": 389
  },
  {
   "metadata": {
    "ExecuteTime": {
     "end_time": "2024-11-09T22:18:17.469395Z",
     "start_time": "2024-11-09T22:18:17.464661Z"
    }
   },
   "cell_type": "code",
   "source": [
    "import pandas as pd\n",
    "import phik\n",
    "from sklearn.model_selection import train_test_split\n",
    "from sklearn.linear_model import LinearRegression\n",
    "from lightgbm import LGBMRegressor\n",
    "from catboost import CatBoostRegressor\n",
    "from sklearn.pipeline import Pipeline\n",
    "from sklearn.compose import ColumnTransformer\n",
    "from sklearn.preprocessing import OneHotEncoder\n",
    "from sklearn.preprocessing import OrdinalEncoder\n",
    "from sklearn.preprocessing import StandardScaler\n",
    "from sklearn.impute import SimpleImputer\n",
    "from sklearn.model_selection import cross_val_score\n",
    "import numpy as np\n",
    "import time"
   ],
   "outputs": [],
   "execution_count": 390
  },
  {
   "metadata": {
    "ExecuteTime": {
     "end_time": "2024-11-09T22:18:17.474721Z",
     "start_time": "2024-11-09T22:18:17.472678Z"
    }
   },
   "cell_type": "code",
   "source": "RANDOM_STATE = 42",
   "outputs": [],
   "execution_count": 391
  },
  {
   "cell_type": "markdown",
   "metadata": {},
   "source": [
    "## Подготовка данных"
   ]
  },
  {
   "cell_type": "code",
   "metadata": {
    "ExecuteTime": {
     "end_time": "2024-11-09T22:18:25.861811Z",
     "start_time": "2024-11-09T22:18:17.477612Z"
    }
   },
   "source": "autos = pd.read_csv('https://code.s3.yandex.net/datasets/autos.csv')",
   "outputs": [],
   "execution_count": 392
  },
  {
   "metadata": {
    "ExecuteTime": {
     "end_time": "2024-11-09T22:18:25.941200Z",
     "start_time": "2024-11-09T22:18:25.871378Z"
    }
   },
   "cell_type": "code",
   "source": "autos.info()",
   "outputs": [
    {
     "name": "stdout",
     "output_type": "stream",
     "text": [
      "<class 'pandas.core.frame.DataFrame'>\n",
      "RangeIndex: 354369 entries, 0 to 354368\n",
      "Data columns (total 16 columns):\n",
      " #   Column             Non-Null Count   Dtype \n",
      "---  ------             --------------   ----- \n",
      " 0   DateCrawled        354369 non-null  object\n",
      " 1   Price              354369 non-null  int64 \n",
      " 2   VehicleType        316879 non-null  object\n",
      " 3   RegistrationYear   354369 non-null  int64 \n",
      " 4   Gearbox            334536 non-null  object\n",
      " 5   Power              354369 non-null  int64 \n",
      " 6   Model              334664 non-null  object\n",
      " 7   Kilometer          354369 non-null  int64 \n",
      " 8   RegistrationMonth  354369 non-null  int64 \n",
      " 9   FuelType           321474 non-null  object\n",
      " 10  Brand              354369 non-null  object\n",
      " 11  Repaired           283215 non-null  object\n",
      " 12  DateCreated        354369 non-null  object\n",
      " 13  NumberOfPictures   354369 non-null  int64 \n",
      " 14  PostalCode         354369 non-null  int64 \n",
      " 15  LastSeen           354369 non-null  object\n",
      "dtypes: int64(7), object(9)\n",
      "memory usage: 43.3+ MB\n"
     ]
    }
   ],
   "execution_count": 393
  },
  {
   "metadata": {
    "ExecuteTime": {
     "end_time": "2024-11-09T22:18:26.004310Z",
     "start_time": "2024-11-09T22:18:25.954289Z"
    }
   },
   "cell_type": "code",
   "source": "autos.describe()",
   "outputs": [
    {
     "data": {
      "text/plain": [
       "               Price  RegistrationYear          Power      Kilometer  \\\n",
       "count  354369.000000     354369.000000  354369.000000  354369.000000   \n",
       "mean     4416.656776       2004.234448     110.094337  128211.172535   \n",
       "std      4514.158514         90.227958     189.850405   37905.341530   \n",
       "min         0.000000       1000.000000       0.000000    5000.000000   \n",
       "25%      1050.000000       1999.000000      69.000000  125000.000000   \n",
       "50%      2700.000000       2003.000000     105.000000  150000.000000   \n",
       "75%      6400.000000       2008.000000     143.000000  150000.000000   \n",
       "max     20000.000000       9999.000000   20000.000000  150000.000000   \n",
       "\n",
       "       RegistrationMonth  NumberOfPictures     PostalCode  \n",
       "count      354369.000000          354369.0  354369.000000  \n",
       "mean            5.714645               0.0   50508.689087  \n",
       "std             3.726421               0.0   25783.096248  \n",
       "min             0.000000               0.0    1067.000000  \n",
       "25%             3.000000               0.0   30165.000000  \n",
       "50%             6.000000               0.0   49413.000000  \n",
       "75%             9.000000               0.0   71083.000000  \n",
       "max            12.000000               0.0   99998.000000  "
      ],
      "text/html": [
       "<div>\n",
       "<style scoped>\n",
       "    .dataframe tbody tr th:only-of-type {\n",
       "        vertical-align: middle;\n",
       "    }\n",
       "\n",
       "    .dataframe tbody tr th {\n",
       "        vertical-align: top;\n",
       "    }\n",
       "\n",
       "    .dataframe thead th {\n",
       "        text-align: right;\n",
       "    }\n",
       "</style>\n",
       "<table border=\"1\" class=\"dataframe\">\n",
       "  <thead>\n",
       "    <tr style=\"text-align: right;\">\n",
       "      <th></th>\n",
       "      <th>Price</th>\n",
       "      <th>RegistrationYear</th>\n",
       "      <th>Power</th>\n",
       "      <th>Kilometer</th>\n",
       "      <th>RegistrationMonth</th>\n",
       "      <th>NumberOfPictures</th>\n",
       "      <th>PostalCode</th>\n",
       "    </tr>\n",
       "  </thead>\n",
       "  <tbody>\n",
       "    <tr>\n",
       "      <th>count</th>\n",
       "      <td>354369.000000</td>\n",
       "      <td>354369.000000</td>\n",
       "      <td>354369.000000</td>\n",
       "      <td>354369.000000</td>\n",
       "      <td>354369.000000</td>\n",
       "      <td>354369.0</td>\n",
       "      <td>354369.000000</td>\n",
       "    </tr>\n",
       "    <tr>\n",
       "      <th>mean</th>\n",
       "      <td>4416.656776</td>\n",
       "      <td>2004.234448</td>\n",
       "      <td>110.094337</td>\n",
       "      <td>128211.172535</td>\n",
       "      <td>5.714645</td>\n",
       "      <td>0.0</td>\n",
       "      <td>50508.689087</td>\n",
       "    </tr>\n",
       "    <tr>\n",
       "      <th>std</th>\n",
       "      <td>4514.158514</td>\n",
       "      <td>90.227958</td>\n",
       "      <td>189.850405</td>\n",
       "      <td>37905.341530</td>\n",
       "      <td>3.726421</td>\n",
       "      <td>0.0</td>\n",
       "      <td>25783.096248</td>\n",
       "    </tr>\n",
       "    <tr>\n",
       "      <th>min</th>\n",
       "      <td>0.000000</td>\n",
       "      <td>1000.000000</td>\n",
       "      <td>0.000000</td>\n",
       "      <td>5000.000000</td>\n",
       "      <td>0.000000</td>\n",
       "      <td>0.0</td>\n",
       "      <td>1067.000000</td>\n",
       "    </tr>\n",
       "    <tr>\n",
       "      <th>25%</th>\n",
       "      <td>1050.000000</td>\n",
       "      <td>1999.000000</td>\n",
       "      <td>69.000000</td>\n",
       "      <td>125000.000000</td>\n",
       "      <td>3.000000</td>\n",
       "      <td>0.0</td>\n",
       "      <td>30165.000000</td>\n",
       "    </tr>\n",
       "    <tr>\n",
       "      <th>50%</th>\n",
       "      <td>2700.000000</td>\n",
       "      <td>2003.000000</td>\n",
       "      <td>105.000000</td>\n",
       "      <td>150000.000000</td>\n",
       "      <td>6.000000</td>\n",
       "      <td>0.0</td>\n",
       "      <td>49413.000000</td>\n",
       "    </tr>\n",
       "    <tr>\n",
       "      <th>75%</th>\n",
       "      <td>6400.000000</td>\n",
       "      <td>2008.000000</td>\n",
       "      <td>143.000000</td>\n",
       "      <td>150000.000000</td>\n",
       "      <td>9.000000</td>\n",
       "      <td>0.0</td>\n",
       "      <td>71083.000000</td>\n",
       "    </tr>\n",
       "    <tr>\n",
       "      <th>max</th>\n",
       "      <td>20000.000000</td>\n",
       "      <td>9999.000000</td>\n",
       "      <td>20000.000000</td>\n",
       "      <td>150000.000000</td>\n",
       "      <td>12.000000</td>\n",
       "      <td>0.0</td>\n",
       "      <td>99998.000000</td>\n",
       "    </tr>\n",
       "  </tbody>\n",
       "</table>\n",
       "</div>"
      ]
     },
     "execution_count": 394,
     "metadata": {},
     "output_type": "execute_result"
    }
   ],
   "execution_count": 394
  },
  {
   "metadata": {},
   "cell_type": "markdown",
   "source": [
    "#### Промежуточный вывод <br>\n",
    "Данные загружены. Есть пропуски, обработаем их в пайплайне."
   ]
  },
  {
   "metadata": {},
   "cell_type": "markdown",
   "source": "### Обработка данных"
  },
  {
   "metadata": {
    "ExecuteTime": {
     "end_time": "2024-11-09T22:18:26.295697Z",
     "start_time": "2024-11-09T22:18:26.015996Z"
    }
   },
   "cell_type": "code",
   "source": [
    "# Разобьём даты на отдельные признаки (год, месяц, день)\n",
    "autos['DateCrawled'] = pd.to_datetime(autos['DateCrawled'])\n",
    "autos['DateCreated'] = pd.to_datetime(autos['DateCreated'])\n",
    "autos['LastSeen'] = pd.to_datetime(autos['LastSeen'])\n",
    "\n",
    "autos['DateCrawled_year'] = autos['DateCrawled'].dt.year\n",
    "autos['DateCrawled_month'] = autos['DateCrawled'].dt.month\n",
    "autos['DateCrawled_day'] = autos['DateCrawled'].dt.day\n",
    "\n",
    "autos['DateCreated_year'] = autos['DateCreated'].dt.year\n",
    "autos['DateCreated_month'] = autos['DateCreated'].dt.month\n",
    "autos['DateCreated_day'] = autos['DateCreated'].dt.day\n",
    "\n",
    "autos['LastSeen_year'] = autos['LastSeen'].dt.year\n",
    "autos['LastSeen_month'] = autos['LastSeen'].dt.month\n",
    "autos['LastSeen_day'] = autos['LastSeen'].dt.day\n",
    "\n",
    "autos = autos.drop(['DateCrawled', 'DateCreated', 'LastSeen'], axis=1)\n",
    "autos"
   ],
   "outputs": [
    {
     "data": {
      "text/plain": [
       "        Price  VehicleType  RegistrationYear Gearbox  Power        Model  \\\n",
       "0         480          NaN              1993  manual      0         golf   \n",
       "1       18300        coupe              2011  manual    190          NaN   \n",
       "2        9800          suv              2004    auto    163        grand   \n",
       "3        1500        small              2001  manual     75         golf   \n",
       "4        3600        small              2008  manual     69        fabia   \n",
       "...       ...          ...               ...     ...    ...          ...   \n",
       "354364      0          NaN              2005  manual      0         colt   \n",
       "354365   2200          NaN              2005     NaN      0          NaN   \n",
       "354366   1199  convertible              2000    auto    101       fortwo   \n",
       "354367   9200          bus              1996  manual    102  transporter   \n",
       "354368   3400        wagon              2002  manual    100         golf   \n",
       "\n",
       "        Kilometer  RegistrationMonth  FuelType           Brand  ...  \\\n",
       "0          150000                  0    petrol      volkswagen  ...   \n",
       "1          125000                  5  gasoline            audi  ...   \n",
       "2          125000                  8  gasoline            jeep  ...   \n",
       "3          150000                  6    petrol      volkswagen  ...   \n",
       "4           90000                  7  gasoline           skoda  ...   \n",
       "...           ...                ...       ...             ...  ...   \n",
       "354364     150000                  7    petrol      mitsubishi  ...   \n",
       "354365      20000                  1       NaN  sonstige_autos  ...   \n",
       "354366     125000                  3    petrol           smart  ...   \n",
       "354367     150000                  3  gasoline      volkswagen  ...   \n",
       "354368     150000                  6  gasoline      volkswagen  ...   \n",
       "\n",
       "       PostalCode  DateCrawled_year  DateCrawled_month  DateCrawled_day  \\\n",
       "0           70435              2016                  3               24   \n",
       "1           66954              2016                  3               24   \n",
       "2           90480              2016                  3               14   \n",
       "3           91074              2016                  3               17   \n",
       "4           60437              2016                  3               31   \n",
       "...           ...               ...                ...              ...   \n",
       "354364       2694              2016                  3               21   \n",
       "354365      39576              2016                  3               14   \n",
       "354366      26135              2016                  3                5   \n",
       "354367      87439              2016                  3               19   \n",
       "354368      40764              2016                  3               20   \n",
       "\n",
       "        DateCreated_year  DateCreated_month  DateCreated_day  LastSeen_year  \\\n",
       "0                   2016                  3               24           2016   \n",
       "1                   2016                  3               24           2016   \n",
       "2                   2016                  3               14           2016   \n",
       "3                   2016                  3               17           2016   \n",
       "4                   2016                  3               31           2016   \n",
       "...                  ...                ...              ...            ...   \n",
       "354364              2016                  3               21           2016   \n",
       "354365              2016                  3               14           2016   \n",
       "354366              2016                  3                5           2016   \n",
       "354367              2016                  3               19           2016   \n",
       "354368              2016                  3               20           2016   \n",
       "\n",
       "        LastSeen_month  LastSeen_day  \n",
       "0                    4             7  \n",
       "1                    4             7  \n",
       "2                    4             5  \n",
       "3                    3            17  \n",
       "4                    4             6  \n",
       "...                ...           ...  \n",
       "354364               3            21  \n",
       "354365               4             6  \n",
       "354366               3            11  \n",
       "354367               4             7  \n",
       "354368               3            24  \n",
       "\n",
       "[354369 rows x 22 columns]"
      ],
      "text/html": [
       "<div>\n",
       "<style scoped>\n",
       "    .dataframe tbody tr th:only-of-type {\n",
       "        vertical-align: middle;\n",
       "    }\n",
       "\n",
       "    .dataframe tbody tr th {\n",
       "        vertical-align: top;\n",
       "    }\n",
       "\n",
       "    .dataframe thead th {\n",
       "        text-align: right;\n",
       "    }\n",
       "</style>\n",
       "<table border=\"1\" class=\"dataframe\">\n",
       "  <thead>\n",
       "    <tr style=\"text-align: right;\">\n",
       "      <th></th>\n",
       "      <th>Price</th>\n",
       "      <th>VehicleType</th>\n",
       "      <th>RegistrationYear</th>\n",
       "      <th>Gearbox</th>\n",
       "      <th>Power</th>\n",
       "      <th>Model</th>\n",
       "      <th>Kilometer</th>\n",
       "      <th>RegistrationMonth</th>\n",
       "      <th>FuelType</th>\n",
       "      <th>Brand</th>\n",
       "      <th>...</th>\n",
       "      <th>PostalCode</th>\n",
       "      <th>DateCrawled_year</th>\n",
       "      <th>DateCrawled_month</th>\n",
       "      <th>DateCrawled_day</th>\n",
       "      <th>DateCreated_year</th>\n",
       "      <th>DateCreated_month</th>\n",
       "      <th>DateCreated_day</th>\n",
       "      <th>LastSeen_year</th>\n",
       "      <th>LastSeen_month</th>\n",
       "      <th>LastSeen_day</th>\n",
       "    </tr>\n",
       "  </thead>\n",
       "  <tbody>\n",
       "    <tr>\n",
       "      <th>0</th>\n",
       "      <td>480</td>\n",
       "      <td>NaN</td>\n",
       "      <td>1993</td>\n",
       "      <td>manual</td>\n",
       "      <td>0</td>\n",
       "      <td>golf</td>\n",
       "      <td>150000</td>\n",
       "      <td>0</td>\n",
       "      <td>petrol</td>\n",
       "      <td>volkswagen</td>\n",
       "      <td>...</td>\n",
       "      <td>70435</td>\n",
       "      <td>2016</td>\n",
       "      <td>3</td>\n",
       "      <td>24</td>\n",
       "      <td>2016</td>\n",
       "      <td>3</td>\n",
       "      <td>24</td>\n",
       "      <td>2016</td>\n",
       "      <td>4</td>\n",
       "      <td>7</td>\n",
       "    </tr>\n",
       "    <tr>\n",
       "      <th>1</th>\n",
       "      <td>18300</td>\n",
       "      <td>coupe</td>\n",
       "      <td>2011</td>\n",
       "      <td>manual</td>\n",
       "      <td>190</td>\n",
       "      <td>NaN</td>\n",
       "      <td>125000</td>\n",
       "      <td>5</td>\n",
       "      <td>gasoline</td>\n",
       "      <td>audi</td>\n",
       "      <td>...</td>\n",
       "      <td>66954</td>\n",
       "      <td>2016</td>\n",
       "      <td>3</td>\n",
       "      <td>24</td>\n",
       "      <td>2016</td>\n",
       "      <td>3</td>\n",
       "      <td>24</td>\n",
       "      <td>2016</td>\n",
       "      <td>4</td>\n",
       "      <td>7</td>\n",
       "    </tr>\n",
       "    <tr>\n",
       "      <th>2</th>\n",
       "      <td>9800</td>\n",
       "      <td>suv</td>\n",
       "      <td>2004</td>\n",
       "      <td>auto</td>\n",
       "      <td>163</td>\n",
       "      <td>grand</td>\n",
       "      <td>125000</td>\n",
       "      <td>8</td>\n",
       "      <td>gasoline</td>\n",
       "      <td>jeep</td>\n",
       "      <td>...</td>\n",
       "      <td>90480</td>\n",
       "      <td>2016</td>\n",
       "      <td>3</td>\n",
       "      <td>14</td>\n",
       "      <td>2016</td>\n",
       "      <td>3</td>\n",
       "      <td>14</td>\n",
       "      <td>2016</td>\n",
       "      <td>4</td>\n",
       "      <td>5</td>\n",
       "    </tr>\n",
       "    <tr>\n",
       "      <th>3</th>\n",
       "      <td>1500</td>\n",
       "      <td>small</td>\n",
       "      <td>2001</td>\n",
       "      <td>manual</td>\n",
       "      <td>75</td>\n",
       "      <td>golf</td>\n",
       "      <td>150000</td>\n",
       "      <td>6</td>\n",
       "      <td>petrol</td>\n",
       "      <td>volkswagen</td>\n",
       "      <td>...</td>\n",
       "      <td>91074</td>\n",
       "      <td>2016</td>\n",
       "      <td>3</td>\n",
       "      <td>17</td>\n",
       "      <td>2016</td>\n",
       "      <td>3</td>\n",
       "      <td>17</td>\n",
       "      <td>2016</td>\n",
       "      <td>3</td>\n",
       "      <td>17</td>\n",
       "    </tr>\n",
       "    <tr>\n",
       "      <th>4</th>\n",
       "      <td>3600</td>\n",
       "      <td>small</td>\n",
       "      <td>2008</td>\n",
       "      <td>manual</td>\n",
       "      <td>69</td>\n",
       "      <td>fabia</td>\n",
       "      <td>90000</td>\n",
       "      <td>7</td>\n",
       "      <td>gasoline</td>\n",
       "      <td>skoda</td>\n",
       "      <td>...</td>\n",
       "      <td>60437</td>\n",
       "      <td>2016</td>\n",
       "      <td>3</td>\n",
       "      <td>31</td>\n",
       "      <td>2016</td>\n",
       "      <td>3</td>\n",
       "      <td>31</td>\n",
       "      <td>2016</td>\n",
       "      <td>4</td>\n",
       "      <td>6</td>\n",
       "    </tr>\n",
       "    <tr>\n",
       "      <th>...</th>\n",
       "      <td>...</td>\n",
       "      <td>...</td>\n",
       "      <td>...</td>\n",
       "      <td>...</td>\n",
       "      <td>...</td>\n",
       "      <td>...</td>\n",
       "      <td>...</td>\n",
       "      <td>...</td>\n",
       "      <td>...</td>\n",
       "      <td>...</td>\n",
       "      <td>...</td>\n",
       "      <td>...</td>\n",
       "      <td>...</td>\n",
       "      <td>...</td>\n",
       "      <td>...</td>\n",
       "      <td>...</td>\n",
       "      <td>...</td>\n",
       "      <td>...</td>\n",
       "      <td>...</td>\n",
       "      <td>...</td>\n",
       "      <td>...</td>\n",
       "    </tr>\n",
       "    <tr>\n",
       "      <th>354364</th>\n",
       "      <td>0</td>\n",
       "      <td>NaN</td>\n",
       "      <td>2005</td>\n",
       "      <td>manual</td>\n",
       "      <td>0</td>\n",
       "      <td>colt</td>\n",
       "      <td>150000</td>\n",
       "      <td>7</td>\n",
       "      <td>petrol</td>\n",
       "      <td>mitsubishi</td>\n",
       "      <td>...</td>\n",
       "      <td>2694</td>\n",
       "      <td>2016</td>\n",
       "      <td>3</td>\n",
       "      <td>21</td>\n",
       "      <td>2016</td>\n",
       "      <td>3</td>\n",
       "      <td>21</td>\n",
       "      <td>2016</td>\n",
       "      <td>3</td>\n",
       "      <td>21</td>\n",
       "    </tr>\n",
       "    <tr>\n",
       "      <th>354365</th>\n",
       "      <td>2200</td>\n",
       "      <td>NaN</td>\n",
       "      <td>2005</td>\n",
       "      <td>NaN</td>\n",
       "      <td>0</td>\n",
       "      <td>NaN</td>\n",
       "      <td>20000</td>\n",
       "      <td>1</td>\n",
       "      <td>NaN</td>\n",
       "      <td>sonstige_autos</td>\n",
       "      <td>...</td>\n",
       "      <td>39576</td>\n",
       "      <td>2016</td>\n",
       "      <td>3</td>\n",
       "      <td>14</td>\n",
       "      <td>2016</td>\n",
       "      <td>3</td>\n",
       "      <td>14</td>\n",
       "      <td>2016</td>\n",
       "      <td>4</td>\n",
       "      <td>6</td>\n",
       "    </tr>\n",
       "    <tr>\n",
       "      <th>354366</th>\n",
       "      <td>1199</td>\n",
       "      <td>convertible</td>\n",
       "      <td>2000</td>\n",
       "      <td>auto</td>\n",
       "      <td>101</td>\n",
       "      <td>fortwo</td>\n",
       "      <td>125000</td>\n",
       "      <td>3</td>\n",
       "      <td>petrol</td>\n",
       "      <td>smart</td>\n",
       "      <td>...</td>\n",
       "      <td>26135</td>\n",
       "      <td>2016</td>\n",
       "      <td>3</td>\n",
       "      <td>5</td>\n",
       "      <td>2016</td>\n",
       "      <td>3</td>\n",
       "      <td>5</td>\n",
       "      <td>2016</td>\n",
       "      <td>3</td>\n",
       "      <td>11</td>\n",
       "    </tr>\n",
       "    <tr>\n",
       "      <th>354367</th>\n",
       "      <td>9200</td>\n",
       "      <td>bus</td>\n",
       "      <td>1996</td>\n",
       "      <td>manual</td>\n",
       "      <td>102</td>\n",
       "      <td>transporter</td>\n",
       "      <td>150000</td>\n",
       "      <td>3</td>\n",
       "      <td>gasoline</td>\n",
       "      <td>volkswagen</td>\n",
       "      <td>...</td>\n",
       "      <td>87439</td>\n",
       "      <td>2016</td>\n",
       "      <td>3</td>\n",
       "      <td>19</td>\n",
       "      <td>2016</td>\n",
       "      <td>3</td>\n",
       "      <td>19</td>\n",
       "      <td>2016</td>\n",
       "      <td>4</td>\n",
       "      <td>7</td>\n",
       "    </tr>\n",
       "    <tr>\n",
       "      <th>354368</th>\n",
       "      <td>3400</td>\n",
       "      <td>wagon</td>\n",
       "      <td>2002</td>\n",
       "      <td>manual</td>\n",
       "      <td>100</td>\n",
       "      <td>golf</td>\n",
       "      <td>150000</td>\n",
       "      <td>6</td>\n",
       "      <td>gasoline</td>\n",
       "      <td>volkswagen</td>\n",
       "      <td>...</td>\n",
       "      <td>40764</td>\n",
       "      <td>2016</td>\n",
       "      <td>3</td>\n",
       "      <td>20</td>\n",
       "      <td>2016</td>\n",
       "      <td>3</td>\n",
       "      <td>20</td>\n",
       "      <td>2016</td>\n",
       "      <td>3</td>\n",
       "      <td>24</td>\n",
       "    </tr>\n",
       "  </tbody>\n",
       "</table>\n",
       "<p>354369 rows × 22 columns</p>\n",
       "</div>"
      ]
     },
     "execution_count": 395,
     "metadata": {},
     "output_type": "execute_result"
    }
   ],
   "execution_count": 395
  },
  {
   "metadata": {
    "ExecuteTime": {
     "end_time": "2024-11-09T22:18:26.624981Z",
     "start_time": "2024-11-09T22:18:26.312878Z"
    }
   },
   "cell_type": "code",
   "source": [
    "# Полные дубликаты\n",
    "print('Дубликатов в данных:', autos.duplicated().sum())\n",
    "\n",
    "# Удалим полные дубликаты\n",
    "autos = autos.drop_duplicates().reset_index(drop=True)"
   ],
   "outputs": [
    {
     "name": "stdout",
     "output_type": "stream",
     "text": [
      "Дубликатов в данных: 6828\n"
     ]
    }
   ],
   "execution_count": 396
  },
  {
   "metadata": {
    "ExecuteTime": {
     "end_time": "2024-11-09T22:18:26.710799Z",
     "start_time": "2024-11-09T22:18:26.643989Z"
    }
   },
   "cell_type": "code",
   "source": [
    "# Проверка на опечатки в названиях столбцов (категориальные признаки)\n",
    "\n",
    "categorical_columns = autos.select_dtypes(include='object').columns\n",
    "\n",
    "for column in autos[categorical_columns]:\n",
    "    print(column, autos[column].unique())\n",
    "    print(\"--------------------\")"
   ],
   "outputs": [
    {
     "name": "stdout",
     "output_type": "stream",
     "text": [
      "VehicleType [nan 'coupe' 'suv' 'small' 'sedan' 'convertible' 'bus' 'wagon' 'other']\n",
      "--------------------\n",
      "Gearbox ['manual' 'auto' nan]\n",
      "--------------------\n",
      "Model ['golf' nan 'grand' 'fabia' '3er' '2_reihe' 'other' 'c_max' '3_reihe'\n",
      " 'passat' 'navara' 'ka' 'polo' 'twingo' 'a_klasse' 'scirocco' '5er'\n",
      " 'meriva' 'arosa' 'c4' 'civic' 'transporter' 'punto' 'e_klasse' 'clio'\n",
      " 'kadett' 'kangoo' 'corsa' 'one' 'fortwo' '1er' 'b_klasse' 'signum'\n",
      " 'astra' 'a8' 'jetta' 'fiesta' 'c_klasse' 'micra' 'vito' 'sprinter' '156'\n",
      " 'escort' 'forester' 'xc_reihe' 'scenic' 'a4' 'a1' 'insignia' 'combo'\n",
      " 'focus' 'tt' 'a6' 'jazz' 'omega' 'slk' '7er' '80' '147' '100' 'z_reihe'\n",
      " 'sportage' 'sorento' 'v40' 'ibiza' 'mustang' 'eos' 'touran' 'getz' 'a3'\n",
      " 'almera' 'megane' 'lupo' 'r19' 'zafira' 'caddy' 'mondeo' 'cordoba' 'colt'\n",
      " 'impreza' 'vectra' 'berlingo' 'tiguan' 'i_reihe' 'espace' 'sharan'\n",
      " '6_reihe' 'panda' 'up' 'seicento' 'ceed' '5_reihe' 'yeti' 'octavia' 'mii'\n",
      " 'rx_reihe' '6er' 'modus' 'fox' 'matiz' 'beetle' 'c1' 'rio' 'touareg'\n",
      " 'logan' 'spider' 'cuore' 's_max' 'a2' 'galaxy' 'c3' 'viano' 's_klasse'\n",
      " '1_reihe' 'avensis' 'roomster' 'sl' 'kaefer' 'santa' 'cooper' 'leon'\n",
      " '4_reihe' 'a5' '500' 'laguna' 'ptcruiser' 'clk' 'primera' 'x_reihe'\n",
      " 'exeo' '159' 'transit' 'juke' 'qashqai' 'carisma' 'accord' 'corolla'\n",
      " 'lanos' 'phaeton' 'verso' 'swift' 'rav' 'picanto' 'boxster' 'kalos'\n",
      " 'superb' 'stilo' 'alhambra' 'mx_reihe' 'roadster' 'ypsilon' 'cayenne'\n",
      " 'galant' 'justy' '90' 'sirion' 'crossfire' 'agila' 'duster' 'cr_reihe'\n",
      " 'v50' 'c_reihe' 'v_klasse' 'm_klasse' 'yaris' 'c5' 'aygo' 'cc' 'carnival'\n",
      " 'fusion' '911' 'bora' 'forfour' 'm_reihe' 'cl' 'tigra' '300c' 'spark'\n",
      " 'v70' 'kuga' 'x_type' 'ducato' 's_type' 'x_trail' 'toledo' 'altea'\n",
      " 'voyager' 'calibra' 'bravo' 'antara' 'tucson' 'citigo' 'jimny' 'wrangler'\n",
      " 'lybra' 'q7' 'lancer' 'captiva' 'c2' 'discovery' 'freelander' 'sandero'\n",
      " 'note' '900' 'cherokee' 'clubman' 'samara' 'defender' '601' 'cx_reihe'\n",
      " 'legacy' 'pajero' 'auris' 'niva' 's60' 'nubira' 'vivaro' 'g_klasse'\n",
      " 'lodgy' '850' 'range_rover' 'q3' 'serie_2' 'glk' 'charade' 'croma'\n",
      " 'outlander' 'doblo' 'musa' 'move' '9000' 'v60' '145' 'aveo' '200' 'b_max'\n",
      " 'range_rover_sport' 'terios' 'rangerover' 'q5' 'range_rover_evoque'\n",
      " 'materia' 'delta' 'gl' 'kalina' 'amarok' 'elefantino' 'i3' 'kappa'\n",
      " 'serie_3' 'serie_1']\n",
      "--------------------\n",
      "FuelType ['petrol' 'gasoline' nan 'lpg' 'other' 'hybrid' 'cng' 'electric']\n",
      "--------------------\n",
      "Brand ['volkswagen' 'audi' 'jeep' 'skoda' 'bmw' 'peugeot' 'ford' 'mazda'\n",
      " 'nissan' 'renault' 'mercedes_benz' 'opel' 'seat' 'citroen' 'honda' 'fiat'\n",
      " 'mini' 'smart' 'hyundai' 'sonstige_autos' 'alfa_romeo' 'subaru' 'volvo'\n",
      " 'mitsubishi' 'kia' 'suzuki' 'lancia' 'toyota' 'chevrolet' 'dacia'\n",
      " 'daihatsu' 'trabant' 'saab' 'chrysler' 'jaguar' 'daewoo' 'porsche'\n",
      " 'rover' 'land_rover' 'lada']\n",
      "--------------------\n",
      "Repaired [nan 'yes' 'no']\n",
      "--------------------\n"
     ]
    }
   ],
   "execution_count": 397
  },
  {
   "metadata": {},
   "cell_type": "markdown",
   "source": [
    "#### Промежуточный вывод <br>\n",
    "Опечаток нет. Признаки в порядке."
   ]
  },
  {
   "metadata": {},
   "cell_type": "markdown",
   "source": "#### Анализ признаков"
  },
  {
   "metadata": {
    "ExecuteTime": {
     "end_time": "2024-11-09T22:18:28.140360Z",
     "start_time": "2024-11-09T22:18:26.727989Z"
    }
   },
   "cell_type": "code",
   "source": "autos.hist(figsize=(20, 20), bins=20);",
   "outputs": [
    {
     "data": {
      "text/plain": [
       "<Figure size 2000x2000 with 16 Axes>"
      ],
      "image/png": "[encoded data removed]"
     },
     "metadata": {},
     "output_type": "display_data"
    }
   ],
   "execution_count": 398
  },
  {
   "metadata": {
    "ExecuteTime": {
     "end_time": "2024-11-09T22:18:28.184964Z",
     "start_time": "2024-11-09T22:18:28.156007Z"
    }
   },
   "cell_type": "code",
   "source": [
    "print(autos['NumberOfPictures'].value_counts())\n",
    "\n",
    "autos = autos.drop('NumberOfPictures', axis=1)"
   ],
   "outputs": [
    {
     "name": "stdout",
     "output_type": "stream",
     "text": [
      "NumberOfPictures\n",
      "0    347541\n",
      "Name: count, dtype: int64\n"
     ]
    }
   ],
   "execution_count": 399
  },
  {
   "metadata": {
    "ExecuteTime": {
     "end_time": "2024-11-09T22:18:28.211398Z",
     "start_time": "2024-11-09T22:18:28.192630Z"
    }
   },
   "cell_type": "code",
   "source": "autos = autos.drop('PostalCode', axis=1)",
   "outputs": [],
   "execution_count": 400
  },
  {
   "metadata": {
    "ExecuteTime": {
     "end_time": "2024-11-09T22:18:28.234929Z",
     "start_time": "2024-11-09T22:18:28.213920Z"
    }
   },
   "cell_type": "code",
   "source": [
    "# Удалим выбросы в годах регистрации\n",
    "autos = autos[(autos['RegistrationYear'] >= 1900) & (autos['RegistrationYear'] <= 2024)]"
   ],
   "outputs": [],
   "execution_count": 401
  },
  {
   "metadata": {},
   "cell_type": "markdown",
   "source": [
    "#### Промежуточный вывод <br>\n",
    "NumberOfPictures - признак, который не несет информации. Удалим его. <br>\n",
    "PostalCode - не влияет на стоимость автомобиля. Удалим его. <br>\n"
   ]
  },
  {
   "metadata": {},
   "cell_type": "markdown",
   "source": "### Матрица корреляции"
  },
  {
   "metadata": {
    "ExecuteTime": {
     "end_time": "2024-11-09T22:18:28.249752Z",
     "start_time": "2024-11-09T22:18:28.243253Z"
    }
   },
   "cell_type": "code",
   "source": "autos.head()",
   "outputs": [
    {
     "data": {
      "text/plain": [
       "   Price VehicleType  RegistrationYear Gearbox  Power  Model  Kilometer  \\\n",
       "0    480         NaN              1993  manual      0   golf     150000   \n",
       "1  18300       coupe              2011  manual    190    NaN     125000   \n",
       "2   9800         suv              2004    auto    163  grand     125000   \n",
       "3   1500       small              2001  manual     75   golf     150000   \n",
       "4   3600       small              2008  manual     69  fabia      90000   \n",
       "\n",
       "   RegistrationMonth  FuelType       Brand Repaired  DateCrawled_year  \\\n",
       "0                  0    petrol  volkswagen      NaN              2016   \n",
       "1                  5  gasoline        audi      yes              2016   \n",
       "2                  8  gasoline        jeep      NaN              2016   \n",
       "3                  6    petrol  volkswagen       no              2016   \n",
       "4                  7  gasoline       skoda       no              2016   \n",
       "\n",
       "   DateCrawled_month  DateCrawled_day  DateCreated_year  DateCreated_month  \\\n",
       "0                  3               24              2016                  3   \n",
       "1                  3               24              2016                  3   \n",
       "2                  3               14              2016                  3   \n",
       "3                  3               17              2016                  3   \n",
       "4                  3               31              2016                  3   \n",
       "\n",
       "   DateCreated_day  LastSeen_year  LastSeen_month  LastSeen_day  \n",
       "0               24           2016               4             7  \n",
       "1               24           2016               4             7  \n",
       "2               14           2016               4             5  \n",
       "3               17           2016               3            17  \n",
       "4               31           2016               4             6  "
      ],
      "text/html": [
       "<div>\n",
       "<style scoped>\n",
       "    .dataframe tbody tr th:only-of-type {\n",
       "        vertical-align: middle;\n",
       "    }\n",
       "\n",
       "    .dataframe tbody tr th {\n",
       "        vertical-align: top;\n",
       "    }\n",
       "\n",
       "    .dataframe thead th {\n",
       "        text-align: right;\n",
       "    }\n",
       "</style>\n",
       "<table border=\"1\" class=\"dataframe\">\n",
       "  <thead>\n",
       "    <tr style=\"text-align: right;\">\n",
       "      <th></th>\n",
       "      <th>Price</th>\n",
       "      <th>VehicleType</th>\n",
       "      <th>RegistrationYear</th>\n",
       "      <th>Gearbox</th>\n",
       "      <th>Power</th>\n",
       "      <th>Model</th>\n",
       "      <th>Kilometer</th>\n",
       "      <th>RegistrationMonth</th>\n",
       "      <th>FuelType</th>\n",
       "      <th>Brand</th>\n",
       "      <th>Repaired</th>\n",
       "      <th>DateCrawled_year</th>\n",
       "      <th>DateCrawled_month</th>\n",
       "      <th>DateCrawled_day</th>\n",
       "      <th>DateCreated_year</th>\n",
       "      <th>DateCreated_month</th>\n",
       "      <th>DateCreated_day</th>\n",
       "      <th>LastSeen_year</th>\n",
       "      <th>LastSeen_month</th>\n",
       "      <th>LastSeen_day</th>\n",
       "    </tr>\n",
       "  </thead>\n",
       "  <tbody>\n",
       "    <tr>\n",
       "      <th>0</th>\n",
       "      <td>480</td>\n",
       "      <td>NaN</td>\n",
       "      <td>1993</td>\n",
       "      <td>manual</td>\n",
       "      <td>0</td>\n",
       "      <td>golf</td>\n",
       "      <td>150000</td>\n",
       "      <td>0</td>\n",
       "      <td>petrol</td>\n",
       "      <td>volkswagen</td>\n",
       "      <td>NaN</td>\n",
       "      <td>2016</td>\n",
       "      <td>3</td>\n",
       "      <td>24</td>\n",
       "      <td>2016</td>\n",
       "      <td>3</td>\n",
       "      <td>24</td>\n",
       "      <td>2016</td>\n",
       "      <td>4</td>\n",
       "      <td>7</td>\n",
       "    </tr>\n",
       "    <tr>\n",
       "      <th>1</th>\n",
       "      <td>18300</td>\n",
       "      <td>coupe</td>\n",
       "      <td>2011</td>\n",
       "      <td>manual</td>\n",
       "      <td>190</td>\n",
       "      <td>NaN</td>\n",
       "      <td>125000</td>\n",
       "      <td>5</td>\n",
       "      <td>gasoline</td>\n",
       "      <td>audi</td>\n",
       "      <td>yes</td>\n",
       "      <td>2016</td>\n",
       "      <td>3</td>\n",
       "      <td>24</td>\n",
       "      <td>2016</td>\n",
       "      <td>3</td>\n",
       "      <td>24</td>\n",
       "      <td>2016</td>\n",
       "      <td>4</td>\n",
       "      <td>7</td>\n",
       "    </tr>\n",
       "    <tr>\n",
       "      <th>2</th>\n",
       "      <td>9800</td>\n",
       "      <td>suv</td>\n",
       "      <td>2004</td>\n",
       "      <td>auto</td>\n",
       "      <td>163</td>\n",
       "      <td>grand</td>\n",
       "      <td>125000</td>\n",
       "      <td>8</td>\n",
       "      <td>gasoline</td>\n",
       "      <td>jeep</td>\n",
       "      <td>NaN</td>\n",
       "      <td>2016</td>\n",
       "      <td>3</td>\n",
       "      <td>14</td>\n",
       "      <td>2016</td>\n",
       "      <td>3</td>\n",
       "      <td>14</td>\n",
       "      <td>2016</td>\n",
       "      <td>4</td>\n",
       "      <td>5</td>\n",
       "    </tr>\n",
       "    <tr>\n",
       "      <th>3</th>\n",
       "      <td>1500</td>\n",
       "      <td>small</td>\n",
       "      <td>2001</td>\n",
       "      <td>manual</td>\n",
       "      <td>75</td>\n",
       "      <td>golf</td>\n",
       "      <td>150000</td>\n",
       "      <td>6</td>\n",
       "      <td>petrol</td>\n",
       "      <td>volkswagen</td>\n",
       "      <td>no</td>\n",
       "      <td>2016</td>\n",
       "      <td>3</td>\n",
       "      <td>17</td>\n",
       "      <td>2016</td>\n",
       "      <td>3</td>\n",
       "      <td>17</td>\n",
       "      <td>2016</td>\n",
       "      <td>3</td>\n",
       "      <td>17</td>\n",
       "    </tr>\n",
       "    <tr>\n",
       "      <th>4</th>\n",
       "      <td>3600</td>\n",
       "      <td>small</td>\n",
       "      <td>2008</td>\n",
       "      <td>manual</td>\n",
       "      <td>69</td>\n",
       "      <td>fabia</td>\n",
       "      <td>90000</td>\n",
       "      <td>7</td>\n",
       "      <td>gasoline</td>\n",
       "      <td>skoda</td>\n",
       "      <td>no</td>\n",
       "      <td>2016</td>\n",
       "      <td>3</td>\n",
       "      <td>31</td>\n",
       "      <td>2016</td>\n",
       "      <td>3</td>\n",
       "      <td>31</td>\n",
       "      <td>2016</td>\n",
       "      <td>4</td>\n",
       "      <td>6</td>\n",
       "    </tr>\n",
       "  </tbody>\n",
       "</table>\n",
       "</div>"
      ]
     },
     "execution_count": 402,
     "metadata": {},
     "output_type": "execute_result"
    }
   ],
   "execution_count": 402
  },
  {
   "metadata": {
    "ExecuteTime": {
     "end_time": "2024-11-09T22:18:31.466458Z",
     "start_time": "2024-11-09T22:18:28.270421Z"
    }
   },
   "cell_type": "code",
   "source": [
    "corr_cols = ['Price', 'VehicleType', 'RegistrationYear', 'Gearbox', 'Power', 'Model', 'Kilometer', 'FuelType', 'Brand', 'Repaired']\n",
    "autos[corr_cols].phik_matrix()"
   ],
   "outputs": [
    {
     "name": "stdout",
     "output_type": "stream",
     "text": [
      "interval columns not set, guessing: ['Price', 'RegistrationYear', 'Power', 'Kilometer']\n"
     ]
    },
    {
     "name": "stderr",
     "output_type": "stream",
     "text": [
      "/opt/miniconda3/lib/python3.12/site-packages/phik/phik.py:150: FutureWarning: Downcasting behavior in `replace` is deprecated and will be removed in a future version. To retain the old behavior, explicitly call `result.infer_objects(copy=False)`. To opt-in to the future behavior, set `pd.set_option('future.no_silent_downcasting', True)`\n",
      "  data_binned.replace(defs.UF, np.nan, inplace=True)\n"
     ]
    },
    {
     "data": {
      "text/plain": [
       "                     Price  VehicleType  RegistrationYear   Gearbox     Power  \\\n",
       "Price             1.000000     0.267528          0.499608  0.321891  0.005345   \n",
       "VehicleType       0.267528     1.000000          0.153327  0.287880  0.011686   \n",
       "RegistrationYear  0.499608     0.153327          1.000000  0.075684  0.000000   \n",
       "Gearbox           0.321891     0.287880          0.075684  1.000000  0.010682   \n",
       "Power             0.005345     0.011686          0.000000  0.010682  1.000000   \n",
       "Model             0.578729     0.916992          0.568055  0.646247  0.000000   \n",
       "Kilometer         0.310372     0.171743          0.321591  0.017781  0.000000   \n",
       "FuelType          0.256779     0.330361          0.192781  0.150130  0.010787   \n",
       "Brand             0.354975     0.633888          0.347777  0.520281  0.006021   \n",
       "Repaired          0.380876     0.084553          0.145777  0.043933  0.010566   \n",
       "\n",
       "                     Model  Kilometer  FuelType     Brand  Repaired  \n",
       "Price             0.578729   0.310372  0.256779  0.354975  0.380876  \n",
       "VehicleType       0.916992   0.171743  0.330361  0.633888  0.084553  \n",
       "RegistrationYear  0.568055   0.321591  0.192781  0.347777  0.145777  \n",
       "Gearbox           0.646247   0.017781  0.150130  0.520281  0.043933  \n",
       "Power             0.000000   0.000000  0.010787  0.006021  0.010566  \n",
       "Model             1.000000   0.442190  0.555801  0.998368  0.158818  \n",
       "Kilometer         0.442190   1.000000  0.149741  0.274933  0.112683  \n",
       "FuelType          0.555801   0.149741  1.000000  0.323156  0.044536  \n",
       "Brand             0.998368   0.274933  0.323156  1.000000  0.105816  \n",
       "Repaired          0.158818   0.112683  0.044536  0.105816  1.000000  "
      ],
      "text/html": [
       "<div>\n",
       "<style scoped>\n",
       "    .dataframe tbody tr th:only-of-type {\n",
       "        vertical-align: middle;\n",
       "    }\n",
       "\n",
       "    .dataframe tbody tr th {\n",
       "        vertical-align: top;\n",
       "    }\n",
       "\n",
       "    .dataframe thead th {\n",
       "        text-align: right;\n",
       "    }\n",
       "</style>\n",
       "<table border=\"1\" class=\"dataframe\">\n",
       "  <thead>\n",
       "    <tr style=\"text-align: right;\">\n",
       "      <th></th>\n",
       "      <th>Price</th>\n",
       "      <th>VehicleType</th>\n",
       "      <th>RegistrationYear</th>\n",
       "      <th>Gearbox</th>\n",
       "      <th>Power</th>\n",
       "      <th>Model</th>\n",
       "      <th>Kilometer</th>\n",
       "      <th>FuelType</th>\n",
       "      <th>Brand</th>\n",
       "      <th>Repaired</th>\n",
       "    </tr>\n",
       "  </thead>\n",
       "  <tbody>\n",
       "    <tr>\n",
       "      <th>Price</th>\n",
       "      <td>1.000000</td>\n",
       "      <td>0.267528</td>\n",
       "      <td>0.499608</td>\n",
       "      <td>0.321891</td>\n",
       "      <td>0.005345</td>\n",
       "      <td>0.578729</td>\n",
       "      <td>0.310372</td>\n",
       "      <td>0.256779</td>\n",
       "      <td>0.354975</td>\n",
       "      <td>0.380876</td>\n",
       "    </tr>\n",
       "    <tr>\n",
       "      <th>VehicleType</th>\n",
       "      <td>0.267528</td>\n",
       "      <td>1.000000</td>\n",
       "      <td>0.153327</td>\n",
       "      <td>0.287880</td>\n",
       "      <td>0.011686</td>\n",
       "      <td>0.916992</td>\n",
       "      <td>0.171743</td>\n",
       "      <td>0.330361</td>\n",
       "      <td>0.633888</td>\n",
       "      <td>0.084553</td>\n",
       "    </tr>\n",
       "    <tr>\n",
       "      <th>RegistrationYear</th>\n",
       "      <td>0.499608</td>\n",
       "      <td>0.153327</td>\n",
       "      <td>1.000000</td>\n",
       "      <td>0.075684</td>\n",
       "      <td>0.000000</td>\n",
       "      <td>0.568055</td>\n",
       "      <td>0.321591</td>\n",
       "      <td>0.192781</td>\n",
       "      <td>0.347777</td>\n",
       "      <td>0.145777</td>\n",
       "    </tr>\n",
       "    <tr>\n",
       "      <th>Gearbox</th>\n",
       "      <td>0.321891</td>\n",
       "      <td>0.287880</td>\n",
       "      <td>0.075684</td>\n",
       "      <td>1.000000</td>\n",
       "      <td>0.010682</td>\n",
       "      <td>0.646247</td>\n",
       "      <td>0.017781</td>\n",
       "      <td>0.150130</td>\n",
       "      <td>0.520281</td>\n",
       "      <td>0.043933</td>\n",
       "    </tr>\n",
       "    <tr>\n",
       "      <th>Power</th>\n",
       "      <td>0.005345</td>\n",
       "      <td>0.011686</td>\n",
       "      <td>0.000000</td>\n",
       "      <td>0.010682</td>\n",
       "      <td>1.000000</td>\n",
       "      <td>0.000000</td>\n",
       "      <td>0.000000</td>\n",
       "      <td>0.010787</td>\n",
       "      <td>0.006021</td>\n",
       "      <td>0.010566</td>\n",
       "    </tr>\n",
       "    <tr>\n",
       "      <th>Model</th>\n",
       "      <td>0.578729</td>\n",
       "      <td>0.916992</td>\n",
       "      <td>0.568055</td>\n",
       "      <td>0.646247</td>\n",
       "      <td>0.000000</td>\n",
       "      <td>1.000000</td>\n",
       "      <td>0.442190</td>\n",
       "      <td>0.555801</td>\n",
       "      <td>0.998368</td>\n",
       "      <td>0.158818</td>\n",
       "    </tr>\n",
       "    <tr>\n",
       "      <th>Kilometer</th>\n",
       "      <td>0.310372</td>\n",
       "      <td>0.171743</td>\n",
       "      <td>0.321591</td>\n",
       "      <td>0.017781</td>\n",
       "      <td>0.000000</td>\n",
       "      <td>0.442190</td>\n",
       "      <td>1.000000</td>\n",
       "      <td>0.149741</td>\n",
       "      <td>0.274933</td>\n",
       "      <td>0.112683</td>\n",
       "    </tr>\n",
       "    <tr>\n",
       "      <th>FuelType</th>\n",
       "      <td>0.256779</td>\n",
       "      <td>0.330361</td>\n",
       "      <td>0.192781</td>\n",
       "      <td>0.150130</td>\n",
       "      <td>0.010787</td>\n",
       "      <td>0.555801</td>\n",
       "      <td>0.149741</td>\n",
       "      <td>1.000000</td>\n",
       "      <td>0.323156</td>\n",
       "      <td>0.044536</td>\n",
       "    </tr>\n",
       "    <tr>\n",
       "      <th>Brand</th>\n",
       "      <td>0.354975</td>\n",
       "      <td>0.633888</td>\n",
       "      <td>0.347777</td>\n",
       "      <td>0.520281</td>\n",
       "      <td>0.006021</td>\n",
       "      <td>0.998368</td>\n",
       "      <td>0.274933</td>\n",
       "      <td>0.323156</td>\n",
       "      <td>1.000000</td>\n",
       "      <td>0.105816</td>\n",
       "    </tr>\n",
       "    <tr>\n",
       "      <th>Repaired</th>\n",
       "      <td>0.380876</td>\n",
       "      <td>0.084553</td>\n",
       "      <td>0.145777</td>\n",
       "      <td>0.043933</td>\n",
       "      <td>0.010566</td>\n",
       "      <td>0.158818</td>\n",
       "      <td>0.112683</td>\n",
       "      <td>0.044536</td>\n",
       "      <td>0.105816</td>\n",
       "      <td>1.000000</td>\n",
       "    </tr>\n",
       "  </tbody>\n",
       "</table>\n",
       "</div>"
      ]
     },
     "execution_count": 403,
     "metadata": {},
     "output_type": "execute_result"
    }
   ],
   "execution_count": 403
  },
  {
   "metadata": {},
   "cell_type": "markdown",
   "source": "Brand и Model имеют слишком высокую корреляцию. Удалим один из признаков."
  },
  {
   "metadata": {
    "ExecuteTime": {
     "end_time": "2024-11-09T22:18:31.529763Z",
     "start_time": "2024-11-09T22:18:31.489310Z"
    }
   },
   "cell_type": "code",
   "source": "autos = autos.drop('Model', axis=1)",
   "outputs": [],
   "execution_count": 404
  },
  {
   "cell_type": "markdown",
   "metadata": {},
   "source": [
    "## Обучение моделей"
   ]
  },
  {
   "metadata": {
    "ExecuteTime": {
     "end_time": "2024-11-09T22:18:31.633944Z",
     "start_time": "2024-11-09T22:18:31.557461Z"
    }
   },
   "cell_type": "code",
   "source": [
    "X = autos.drop('Price', axis=1)\n",
    "y = autos['Price']\n",
    "\n",
    "X_train, X_test, y_train, y_test = train_test_split(X, y, test_size=0.25, random_state=RANDOM_STATE)\n",
    "\n",
    "print('X_train:', X_train.shape)\n",
    "print('y_train:', y_train.shape)"
   ],
   "outputs": [
    {
     "name": "stdout",
     "output_type": "stream",
     "text": [
      "X_train: (260529, 18)\n",
      "y_train: (260529,)\n"
     ]
    }
   ],
   "execution_count": 405
  },
  {
   "cell_type": "code",
   "metadata": {
    "ExecuteTime": {
     "end_time": "2024-11-09T22:18:31.651327Z",
     "start_time": "2024-11-09T22:18:31.648608Z"
    }
   },
   "source": "X_train.columns",
   "outputs": [
    {
     "data": {
      "text/plain": [
       "Index(['VehicleType', 'RegistrationYear', 'Gearbox', 'Power', 'Kilometer',\n",
       "       'RegistrationMonth', 'FuelType', 'Brand', 'Repaired',\n",
       "       'DateCrawled_year', 'DateCrawled_month', 'DateCrawled_day',\n",
       "       'DateCreated_year', 'DateCreated_month', 'DateCreated_day',\n",
       "       'LastSeen_year', 'LastSeen_month', 'LastSeen_day'],\n",
       "      dtype='object')"
      ]
     },
     "execution_count": 406,
     "metadata": {},
     "output_type": "execute_result"
    }
   ],
   "execution_count": 406
  },
  {
   "metadata": {
    "ExecuteTime": {
     "end_time": "2024-11-09T22:18:31.708560Z",
     "start_time": "2024-11-09T22:18:31.704926Z"
    }
   },
   "cell_type": "code",
   "source": [
    "binary_columns = ['Gearbox', 'Repaired']\n",
    "ohe_columns = ['VehicleType', 'FuelType', 'Brand']\n",
    "num_columns = [\n",
    "    'RegistrationYear', 'Power', 'Kilometer', 'RegistrationMonth',\n",
    "    'DateCrawled_year', 'DateCrawled_month', 'DateCrawled_day',\n",
    "    'DateCreated_year', 'DateCreated_month', 'DateCreated_day',\n",
    "    'LastSeen_year', 'LastSeen_month', 'LastSeen_day'\n",
    "]"
   ],
   "outputs": [],
   "execution_count": 407
  },
  {
   "metadata": {
    "ExecuteTime": {
     "end_time": "2024-11-09T22:18:31.716880Z",
     "start_time": "2024-11-09T22:18:31.714369Z"
    }
   },
   "cell_type": "code",
   "source": [
    "binary_pipeline = Pipeline(steps=[\n",
    "    ('imputer_before', SimpleImputer(strategy='most_frequent')),\n",
    "    ('encoder', OrdinalEncoder()),\n",
    "    ('imputer_after', SimpleImputer(strategy='most_frequent'))\n",
    "])\n",
    "\n",
    "categorical_pipeline = Pipeline(steps=[\n",
    "    ('imputer_before', SimpleImputer(strategy='most_frequent')),\n",
    "    ('onehot', OneHotEncoder(drop='first', handle_unknown='ignore', sparse_output=False)),\n",
    "    ('imputer_after', SimpleImputer(strategy='most_frequent'))\n",
    "])\n",
    "\n",
    "numeric_pipeline = Pipeline(steps=[\n",
    "    ('imputer', SimpleImputer(strategy='mean')),\n",
    "    ('scaler', StandardScaler())\n",
    "])"
   ],
   "outputs": [],
   "execution_count": 408
  },
  {
   "metadata": {
    "ExecuteTime": {
     "end_time": "2024-11-09T22:18:31.722590Z",
     "start_time": "2024-11-09T22:18:31.720429Z"
    }
   },
   "cell_type": "code",
   "source": [
    "data_preprocessor = ColumnTransformer(transformers=[\n",
    "    ('binary', binary_pipeline, binary_columns),\n",
    "    ('categorical', categorical_pipeline, ohe_columns),\n",
    "    ('numeric', numeric_pipeline, num_columns)\n",
    "])"
   ],
   "outputs": [],
   "execution_count": 409
  },
  {
   "metadata": {
    "ExecuteTime": {
     "end_time": "2024-11-09T22:18:31.728011Z",
     "start_time": "2024-11-09T22:18:31.726240Z"
    }
   },
   "cell_type": "code",
   "source": [
    "def rmse_score(model, X, y):\n",
    "    return np.abs(cross_val_score(model, X, y, cv=3, scoring='neg_root_mean_squared_error').mean())"
   ],
   "outputs": [],
   "execution_count": 410
  },
  {
   "metadata": {},
   "cell_type": "markdown",
   "source": "### Линейная регрессия"
  },
  {
   "metadata": {
    "ExecuteTime": {
     "end_time": "2024-11-09T22:18:36.972726Z",
     "start_time": "2024-11-09T22:18:31.733813Z"
    }
   },
   "cell_type": "code",
   "source": [
    "lr_pipeline = Pipeline(steps=[\n",
    "    ('preprocessor', data_preprocessor),\n",
    "    ('model', LinearRegression())\n",
    "])\n",
    "\n",
    "start = time.time()\n",
    "lr_pipeline.fit(X_train, y_train)\n",
    "lr_time = time.time() - start\n",
    "\n",
    "start_pred = time.time()\n",
    "lr_pred = lr_pipeline.predict(X_test)\n",
    "lr_pred_time = time.time() - start_pred\n",
    "\n",
    "lr_rmse = rmse_score(lr_pipeline, X_train, y_train)\n",
    "\n",
    "print('RMSE:', lr_rmse)\n",
    "print('Время обучения:', lr_time, 'секунд')\n",
    "print('Время предсказания:', lr_pred_time, 'секунд')"
   ],
   "outputs": [
    {
     "name": "stdout",
     "output_type": "stream",
     "text": [
      "RMSE: 3168.321304614959\n",
      "Время обучения: 1.6087543964385986 секунд\n",
      "Время предсказания: 0.12947821617126465 секунд\n"
     ]
    }
   ],
   "execution_count": 411
  },
  {
   "metadata": {},
   "cell_type": "markdown",
   "source": "### LightGBM"
  },
  {
   "metadata": {
    "ExecuteTime": {
     "end_time": "2024-11-09T22:18:42.206352Z",
     "start_time": "2024-11-09T22:18:37.013550Z"
    }
   },
   "cell_type": "code",
   "source": [
    "lgbm_pipeline = Pipeline(steps=[\n",
    "    ('preprocessor', data_preprocessor),\n",
    "    ('model', LGBMRegressor(verbose=0))\n",
    "])\n",
    "\n",
    "start = time.time()\n",
    "lgbm_pipeline.fit(X_train, y_train)\n",
    "lgbm_time = time.time() - start\n",
    "\n",
    "start_pred = time.time()\n",
    "lgbm_pred = lgbm_pipeline.predict(X_test)\n",
    "lgbm_pred_time = time.time() - start_pred\n",
    "\n",
    "lgbm_rmse = rmse_score(lgbm_pipeline, X_train, y_train)\n",
    "\n",
    "print('RMSE:', lgbm_rmse)\n",
    "print('Время обучения:', lgbm_time, 'секунд')\n",
    "print('Время предсказания:', lgbm_pred_time, 'секунд')"
   ],
   "outputs": [
    {
     "name": "stdout",
     "output_type": "stream",
     "text": [
      "RMSE: 1866.68049603632\n",
      "Время обучения: 1.4146349430084229 секунд\n",
      "Время предсказания: 0.22827863693237305 секунд\n"
     ]
    }
   ],
   "execution_count": 412
  },
  {
   "metadata": {},
   "cell_type": "markdown",
   "source": "### CatBoost"
  },
  {
   "metadata": {
    "ExecuteTime": {
     "end_time": "2024-11-09T22:19:30.730947Z",
     "start_time": "2024-11-09T22:18:42.283427Z"
    }
   },
   "cell_type": "code",
   "source": [
    "cat_pipeline = Pipeline(steps=[\n",
    "    ('preprocessor', data_preprocessor),\n",
    "    ('model', CatBoostRegressor(verbose=0))\n",
    "])\n",
    "\n",
    "start = time.time()\n",
    "cat_pipeline.fit(X_train, y_train)\n",
    "cat_time = time.time() - start\n",
    "\n",
    "start_pred = time.time()\n",
    "cat_pred = cat_pipeline.predict(X_test)\n",
    "cat_pred_time = time.time() - start_pred\n",
    "\n",
    "cat_rmse = rmse_score(cat_pipeline, X_train, y_train)\n",
    "\n",
    "print('RMSE:', cat_rmse)\n",
    "print('Время обучения:', cat_time, 'секунд')\n",
    "print('Время предсказания:', cat_pred_time, 'секунд')"
   ],
   "outputs": [
    {
     "name": "stdout",
     "output_type": "stream",
     "text": [
      "RMSE: 1794.680553533688\n",
      "Время обучения: 13.493759155273438 секунд\n",
      "Время предсказания: 1.5618896484375 секунд\n"
     ]
    }
   ],
   "execution_count": 413
  },
  {
   "cell_type": "markdown",
   "metadata": {},
   "source": "## Анализ моделей"
  },
  {
   "metadata": {},
   "cell_type": "markdown",
   "source": [
    "### Промежуточный вывод <br>\n",
    "Лучший результат показала модель CatBoost. Метрика RMSE: 1795. Время обучения: 14 секунд.\n",
    "1. CatBoost: RMSE - 1794, время обучения - 17.3 секунд, время предсказания - 1.56 секунды\n",
    "2. LightGBM: RMSE - 1866, время обучения - 1.6 секунды, время предсказания - 0.2 секунды\n",
    "3. Линейная регрессия: RMSE - 3168, время обучения - 2.34 секунды, время предсказания - 0.13 секунды"
   ]
  },
  {
   "metadata": {},
   "cell_type": "markdown",
   "source": [
    "## Вывод\n",
    "Лучший баланс между временем предсказания и точностью модели показала модель LightGBM. <br>\n",
    "RMSE - 1866, время обучения - 1.6 секунды, время предсказания - 0.2 секунды. <br>\n",
    "Эта модель сильно быстрее CatBoost и точнее Линейной регрессии."
   ]
  },
  {
   "cell_type": "markdown",
   "metadata": {},
   "source": [
    "## Чек-лист проверки"
   ]
  },
  {
   "cell_type": "markdown",
   "metadata": {},
   "source": [
    "Поставьте 'x' в выполненных пунктах. Далее нажмите Shift+Enter."
   ]
  },
  {
   "cell_type": "markdown",
   "metadata": {},
   "source": [
    "- [x]  Jupyter Notebook открыт\n",
    "- [ ]  Весь код выполняется без ошибок\n",
    "- [ ]  Ячейки с кодом расположены в порядке исполнения\n",
    "- [ ]  Выполнена загрузка и подготовка данных\n",
    "- [ ]  Выполнено обучение моделей\n",
    "- [ ]  Есть анализ скорости работы и качества моделей"
   ]
  },
  {
   "cell_type": "code",
   "metadata": {
    "ExecuteTime": {
     "end_time": "2024-11-09T22:19:30.849208Z",
     "start_time": "2024-11-09T22:19:30.847656Z"
    }
   },
   "source": [],
   "outputs": [],
   "execution_count": null
  }
 ],
 "metadata": {
  "kernelspec": {
   "display_name": "Python 3 (ipykernel)",
   "language": "python",
   "name": "python3"
  },
  "language_info": {
   "codemirror_mode": {
    "name": "ipython",
    "version": 3
   },
   "file_extension": ".py",
   "mimetype": "text/x-python",
   "name": "python",
   "nbconvert_exporter": "python",
   "pygments_lexer": "ipython3",
   "version": "3.9.5"
  },
  "toc": {
   "base_numbering": 1,
   "nav_menu": {},
   "number_sections": true,
   "sideBar": true,
   "skip_h1_title": true,
   "title_cell": "Table of Contents",
   "title_sidebar": "Contents",
   "toc_cell": false,
   "toc_position": {},
   "toc_section_display": true,
   "toc_window_display": false
  }
 },
 "nbformat": 4,
 "nbformat_minor": 2
}
